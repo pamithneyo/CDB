{
 "cells": [
  {
   "cell_type": "code",
   "execution_count": 1,
   "id": "6905238f",
   "metadata": {},
   "outputs": [],
   "source": [
    "from pyspark.sql import SparkSession\n",
    "from pyspark.sql import functions as f\n",
    "from pyspark.sql.window import Window\n",
    "from sklearn.preprocessing import LabelEncoder\n",
    "from sklearn.feature_selection import chi2\n",
    "import matplotlib.pyplot as plt\n",
    "import pandas as pd\n",
    "import numpy as np\n",
    "import math\n",
    "spark = SparkSession.builder \\\n",
    "    .appName(\"Analysis\") \\\n",
    "    .getOrCreate()"
   ]
  },
  {
   "cell_type": "code",
   "execution_count": 2,
   "id": "dfea310f",
   "metadata": {},
   "outputs": [],
   "source": [
    "table1= (\n",
    "    spark.read.csv(\n",
    "        \"../dataset/New/final_set2.csv\", \n",
    "        header=True,\n",
    "        inferSchema=True\n",
    "    )\n",
    "    .withColumn(\"good\", f.when(f.col(\"90>=day_contract\") == 0, 1).otherwise(0))\n",
    "    .withColumn(\"bad\", f.when(f.col(\"90>=day_contract\") == 1, 1).otherwise(0))\n",
    "    .select(\n",
    "        \"FAC NO\",\n",
    "        \"BRN CD\",\n",
    "        \"PROCODE\",\n",
    "        \"CUST_PERMRES\",\n",
    "        \"GUAR_PERMRES\",\n",
    "        \"EXP_CD\",\n",
    "        \"DSCR_C\",\n",
    "        \"connex_date\",\n",
    "        \"DPD\",\n",
    "        \"90>=day_contract\",\n",
    "        \"good\",\n",
    "        \"bad\"\n",
    "    )\n",
    "# .withColumn(\"GUAR_PERMRES\", f.when((f.col(\"GUAR_PERMRES\").isNull())&(f.col(\"DSCR_C\").isNotNull()), \"No Guaranter\").otherwise(f.col(\"GUAR_PERMRES\")))\n",
    ".filter(f.col(\"90>=day_contract\").isNotNull())\n",
    ".filter(f.col(\"connex_date\").between(\"2022-04-01\",\"2023-04-01\"))\n",
    ".withColumn(\"Product\",f.when(f.col(\"PROCODE\")==502,\"Registered 3w\").otherwise(\"Cash in hand\"))\n",
    ".withColumn(\"CUST_PERMRES\",\n",
    "            f.when(f.col(\"CUST_PERMRES\")==\"With Parents/spouse\",\n",
    "                   \"With Parents/Spouse\"\n",
    "                  ).otherwise(f.col(\"CUST_PERMRES\")))\n",
    ".withColumn(\"GUAR_PERMRES\",\n",
    "            f.when(f.col(\"GUAR_PERMRES\")==\"With Parents/spouse\",\n",
    "                   \"With Parents/Spouse\"\n",
    "                  ).otherwise(f.col(\"GUAR_PERMRES\")))\n",
    ".withColumn(\"GUAR_PERMRES\",(f.when(\n",
    "    (f.col(\"GUAR_PERMRES\").isNull())\n",
    "    &(f.col(\"EXP_CD\").isNotNull())\n",
    "    &(f.col(\"DSCR_C\").isNotNull()),\"No Guaranter\").otherwise(f.col(\"GUAR_PERMRES\")))\n",
    ")  \n",
    ")\n",
    "table2=(\n",
    "    spark.read.csv(\n",
    "        \"../dataset/New/detail_report.csv\", \n",
    "        header=True,\n",
    "        inferSchema=True\n",
    "    ).select(\n",
    "        \"ACCOUNT NUMBER\",\n",
    "        \"Conex Date\",\n",
    "        \"Portfolio\",\n",
    "        \"TOTAL DUE\",\n",
    "        \"TOTAL COLLECTION\",\n",
    "        \"Collection Ratio\"\n",
    "    )\n",
    "    .withColumnRenamed(\"ACCOUNT NUMBER\",\"FAC NO\")\n",
    "    .filter(f.col(\"Conex Date\").between(\"2022-04-01\",\"2023-04-01\"))\n",
    "    )\n",
    "table3=(\n",
    "    spark.read.csv(\n",
    "        \"../dataset/New/finalcrib.csv\", \n",
    "        header=True,\n",
    "        inferSchema=True\n",
    "    ).select(\n",
    "        \"Fac\",\n",
    "        \"CRIB OUTPUT\",\n",
    "        \"CRIB score\"\n",
    "    )\n",
    "    .filter(f.col(\"CRIB score\")!=0)\n",
    "    .withColumnRenamed(\"Fac\",\"FAC NO\")\n",
    ")\n",
    "table4=(spark.read.csv(\n",
    "        \"../dataset/New/finalcrib.csv\", \n",
    "        header=True,\n",
    "        inferSchema=True\n",
    "    ).select(\n",
    "        \"Fac\",\n",
    "        \"CRIB OUTPUT\",\n",
    "        \"CRIB score\"\n",
    "    )\n",
    ".filter(f.col(\"CRIB score\")==0)\n",
    "    .withColumnRenamed(\"Fac\",\"FAC NO\")\n",
    "    .withColumn(\"CRIB score\",f.lit(\"NO HIT\"))\n",
    "       )\n",
    "    \n",
    "\n"
   ]
  },
  {
   "cell_type": "code",
   "execution_count": 3,
   "id": "24986f65",
   "metadata": {},
   "outputs": [
    {
     "data": {
      "text/plain": [
       "18277"
      ]
     },
     "execution_count": 3,
     "metadata": {},
     "output_type": "execute_result"
    }
   ],
   "source": [
    "table3.count()"
   ]
  },
  {
   "cell_type": "code",
   "execution_count": 4,
   "id": "5b6fbffb",
   "metadata": {},
   "outputs": [
    {
     "data": {
      "text/plain": [
       "1115"
      ]
     },
     "execution_count": 4,
     "metadata": {},
     "output_type": "execute_result"
    }
   ],
   "source": [
    "table4.count()"
   ]
  },
  {
   "cell_type": "code",
   "execution_count": 5,
   "id": "28f63b3f",
   "metadata": {},
   "outputs": [],
   "source": [
    "table5= (table3.union(table4).select(\"FAC NO\",\"CRIB score\"))"
   ]
  },
  {
   "cell_type": "code",
   "execution_count": 6,
   "id": "6b2d124d",
   "metadata": {},
   "outputs": [
    {
     "data": {
      "text/plain": [
       "19392"
      ]
     },
     "execution_count": 6,
     "metadata": {},
     "output_type": "execute_result"
    }
   ],
   "source": [
    "table5.count()"
   ]
  },
  {
   "cell_type": "code",
   "execution_count": 7,
   "id": "d02efbd2",
   "metadata": {},
   "outputs": [
    {
     "name": "stdout",
     "output_type": "stream",
     "text": [
      "+-------------------+-----------+----------+\n",
      "|             FAC NO|CRIB OUTPUT|CRIB score|\n",
      "+-------------------+-----------+----------+\n",
      "|'041600794120050202|    NO CRIB|  -400.000|\n",
      "|'006100798148050201|    NO CRIB|  -400.000|\n",
      "|'011500798116050201|    NO CRIB|  -400.000|\n",
      "|'011500044709050202|    NO CRIB|  -400.000|\n",
      "|'013800796663050202|    NO CRIB|  -400.000|\n",
      "|'013800796663050201|    NO CRIB|  -400.000|\n",
      "|'007000797964050801|    NO CRIB|  -400.000|\n",
      "|'017500798051050201|    NO CRIB|  -400.000|\n",
      "|'005000413648050801|        HIT|    50.950|\n",
      "|'006800796830050202|    NO CRIB|  -400.000|\n",
      "|'002900711921050801|    NO CRIB|  -400.000|\n",
      "|'005200797575050202|    NO CRIB|  -400.000|\n",
      "|'005000622866050802|    NO CRIB|  -400.000|\n",
      "|'000600798195050201|    NO CRIB|  -400.000|\n",
      "|'013900797777050201|    NO CRIB|  -400.000|\n",
      "|'003400798039050202|    NO CRIB|  -400.000|\n",
      "|'005000797918050201|    NO CRIB|  -400.000|\n",
      "|'000800798010050201|    NO CRIB|  -400.000|\n",
      "|'000300798074050201|    NO CRIB|  -400.000|\n",
      "|'000600798054050201|    NO CRIB|  -400.000|\n",
      "+-------------------+-----------+----------+\n",
      "only showing top 20 rows\n",
      "\n"
     ]
    }
   ],
   "source": [
    "table3.show()"
   ]
  },
  {
   "cell_type": "code",
   "execution_count": 8,
   "id": "dbfdbab7",
   "metadata": {},
   "outputs": [],
   "source": [
    "master_table=(\n",
    "    table1\n",
    "    .join(table2,\"FAC NO\",\"left\")\n",
    "    .join(table5,\"FAC NO\",\"left\")\n",
    "    .filter(f.col(\"Conex Date\").between(\"2022-04-01\",\"2023-04-01\"))\n",
    ")"
   ]
  },
  {
   "cell_type": "code",
   "execution_count": 10,
   "id": "d36d8e71",
   "metadata": {},
   "outputs": [
    {
     "name": "stdout",
     "output_type": "stream",
     "text": [
      "+-------------------+------+-------+--------------------+-------------------+------+---------+-----------+---+----------------+----+---+-------------+----------+---------+---------+----------------+----------------+----------+\n",
      "|             FAC NO|BRN CD|PROCODE|        CUST_PERMRES|       GUAR_PERMRES|EXP_CD|   DSCR_C|connex_date|DPD|90>=day_contract|good|bad|      Product|Conex Date|Portfolio|TOTAL DUE|TOTAL COLLECTION|Collection Ratio|CRIB score|\n",
      "+-------------------+------+-------+--------------------+-------------------+------+---------+-----------+---+----------------+----+---+-------------+----------+---------+---------+----------------+----------------+----------+\n",
      "|'014200183766050801|   142|    508|  With Billing Proof|       No Guaranter| 32.04|3.2785542| 2022-06-29| 11|               0|   1|  0| Cash in hand|2022-06-29|  143,315|  445,127|         513,619|         274.17%|  -400.000|\n",
      "|'041200813926050803|   412|    508|                Rent|               Rent|  31.2|5.3452116| 2022-05-23|  6|               0|   1|  0| Cash in hand|2022-05-23|  332,284|  229,420|         262,615|          96.49%|  -400.000|\n",
      "|'002100432865050802|    21|    508|  With Billing Proof| With Billing Proof| 93.56|1.5796291| 2022-06-23|  6|               0|   1|  0| Cash in hand|2022-06-23|  738,432|  579,509|         635,137|          64.68%|  -400.000|\n",
      "|'005300797207050201|    53|    502|  With Billing Proof| With Billing Proof|  55.4| 3.131524| 2022-06-22| 11|               0|   1|  0|Registered 3w|2022-06-22|  241,466|  354,666|         387,730|           3.64%|  -400.000|\n",
      "|'006500745360050801|    65|    508|  With Billing Proof|       No Guaranter| 61.21|4.4687744| 2022-07-04| 27|               0|   1|  0| Cash in hand|2022-07-04|  318,704|  330,540|         346,044|          53.22%|  -400.000|\n",
      "|'002500470992050801|    25|    508|  With Billing Proof|       No Guaranter|  35.6|4.7294102| 2022-12-28|  6|               0|   1|  0| Cash in hand|2022-12-28|  284,221|  197,552|         203,521|         115.05%|    42.580|\n",
      "|'006200168092050801|    62|    508|  With Billing Proof|               Rent| 97.74|1.0136436| 2022-07-15|  6|               0|   1|  0| Cash in hand|2022-07-15|  461,859|  795,163|         816,928|          62.87%|  -400.000|\n",
      "|'021200829222050201|   212|    502|  With Billing Proof|       No Guaranter| 49.06|7.1692702| 2022-10-14| 17|               0|   1|  0|Registered 3w|2022-10-14|  280,088|  210,039|         215,514|          79.42%|    40.500|\n",
      "|'004600319266050801|    46|    508|  With Billing Proof|With Parents/Spouse| 94.16| 3.858918| 2022-06-16|  0|               0|   1|  0| Cash in hand|2022-06-16|  723,765|  492,366|         497,886|         199.71%|  -400.000|\n",
      "|'004000220361050201|    40|    502|  With Billing Proof|       No Guaranter| 77.96|4.0120361| 2022-09-20| 71|               0|   1|  0|Registered 3w|2022-09-20|  697,266|  383,241|         383,801|           0.00%|  -400.000|\n",
      "|'020900402032050801|   209|    508| With Parents/Spouse|               Rent| 78.87|3.0628497| 2022-10-19|  0|               0|   1|  0| Cash in hand|2022-10-19|  756,831|  326,013|         326,013|         100.00%|     5.060|\n",
      "|'019000826710050201|   190|    502|With G S Certificate| With Billing Proof| 33.71|5.5288149| 2022-08-31|  0|               0|   1|  0|Registered 3w|2022-08-31|  210,305|  261,358|         261,358|         100.00%|  -400.000|\n",
      "|'014200668924050801|   142|    508| With Parents/Spouse|With Parents/Spouse| 60.67|4.8097945| 2022-07-22|  0|               0|   1|  0| Cash in hand|2022-07-22|  440,762|  411,660|         411,660|         100.00%|  -400.000|\n",
      "|'014000809097050202|   140|    502|With G S Certificate|With Parents/Spouse| 90.76| 8.841733| 2022-05-19|  0|               0|   1|  0|Registered 3w|2022-05-19|  512,537|  470,700|         470,700|         100.00%|  -400.000|\n",
      "|'013000470584050201|   130|    502| With Parents/Spouse|With Parents/Spouse| 88.04|2.7663793| 2022-05-09|  0|               0|   1|  0|Registered 3w|2022-05-09|  514,020|  433,780|         433,780|         220.78%|  -400.000|\n",
      "|'010200730397050801|   102|    508|  With Billing Proof|       No Guaranter| 41.34|5.7657658| 2022-11-22|  0|               0|   1|  0| Cash in hand|2022-11-22|  288,596|  194,250|         194,250|         152.97%|    65.380|\n",
      "|'009600258276050802|    96|    508|                NULL|       No Guaranter| 84.57|2.1007521| 2022-12-30|  0|               0|   1|  0| Cash in hand|2022-12-30|  667,364|  338,143|         338,143|         100.00%|    84.840|\n",
      "|'009300806496050201|    93|    502| With Parents/Spouse|With Parents/Spouse|  30.9|4.1538589| 2022-04-21|  0|               0|   1|  0|Registered 3w|2022-04-21|  147,892|  252,777|         252,777|         100.00%|  -400.000|\n",
      "|'009300592066050202|    93|    502|With G S Certificate| With Billing Proof| 90.42|3.0055818| 2022-06-16|  0|               0|   1|  0|Registered 3w|2022-06-16|  314,498|  442,510|         442,510|         138.29%|  -400.000|\n",
      "|'008700818537050202|    87|    502|  With Billing Proof|               Rent|  98.8|7.5726979| 2022-06-15|  0|               0|   1|  0|Registered 3w|2022-06-15|  466,589|  376,352|         376,352|         204.99%|  -400.000|\n",
      "+-------------------+------+-------+--------------------+-------------------+------+---------+-----------+---+----------------+----+---+-------------+----------+---------+---------+----------------+----------------+----------+\n",
      "only showing top 20 rows\n",
      "\n"
     ]
    }
   ],
   "source": [
    "master_table.show()"
   ]
  },
  {
   "cell_type": "code",
   "execution_count": 11,
   "id": "399f5ca6",
   "metadata": {},
   "outputs": [
    {
     "name": "stdout",
     "output_type": "stream",
     "text": [
      "+----------------+\n",
      "|90>=day_contract|\n",
      "+----------------+\n",
      "|               0|\n",
      "|               1|\n",
      "+----------------+\n",
      "\n"
     ]
    }
   ],
   "source": [
    "master_table.select(\"90>=day_contract\").distinct().show()"
   ]
  },
  {
   "cell_type": "code",
   "execution_count": 12,
   "id": "147a6842",
   "metadata": {},
   "outputs": [
    {
     "data": {
      "text/plain": [
       "7654"
      ]
     },
     "execution_count": 12,
     "metadata": {},
     "output_type": "execute_result"
    }
   ],
   "source": [
    "master_table.count()"
   ]
  },
  {
   "cell_type": "code",
   "execution_count": 13,
   "id": "84ac687e",
   "metadata": {},
   "outputs": [],
   "source": [
    "master_table_pd=master_table.toPandas()"
   ]
  },
  {
   "cell_type": "code",
   "execution_count": 14,
   "id": "6829b0ed",
   "metadata": {},
   "outputs": [],
   "source": [
    "# master_table_pd.to_csv(\"../output/20240126_final_output/master_table3.csv\")"
   ]
  },
  {
   "cell_type": "markdown",
   "id": "eed754a9",
   "metadata": {},
   "source": [
    "## Analysis"
   ]
  },
  {
   "cell_type": "code",
   "execution_count": 15,
   "id": "efc7400a",
   "metadata": {},
   "outputs": [],
   "source": [
    "master_table_new= (\n",
    "      master_table\n",
    "    )\n"
   ]
  },
  {
   "cell_type": "code",
   "execution_count": 16,
   "id": "a1eb5f95",
   "metadata": {},
   "outputs": [
    {
     "data": {
      "text/plain": [
       "7654"
      ]
     },
     "execution_count": 16,
     "metadata": {},
     "output_type": "execute_result"
    }
   ],
   "source": [
    "master_table_new.count()"
   ]
  },
  {
   "cell_type": "markdown",
   "id": "b75f4089",
   "metadata": {},
   "source": [
    "# Taking good/bad as target variable(90 DPD Contracts)"
   ]
  },
  {
   "cell_type": "markdown",
   "id": "773adaef",
   "metadata": {},
   "source": [
    "### Product wise"
   ]
  },
  {
   "cell_type": "code",
   "execution_count": 17,
   "id": "ac107d61",
   "metadata": {},
   "outputs": [],
   "source": [
    "master_table_new_product=(\n",
    "     master_table_new\n",
    ")\n",
    "Product_wise= (\n",
    "        master_table_new_product\n",
    "        .groupBy(\"Product\")\n",
    "        .agg(\n",
    "            f.sum(\"good\").alias(\"good\"),\n",
    "            f.sum(\"bad\").alias(\"bad\")\n",
    "        )\n",
    "    )\n",
    "total_good=(\n",
    "        Product_wise\n",
    "        .agg(f.sum(\"good\").alias(\"good\"))\n",
    "        .collect()[0]['good']\n",
    "    )\n",
    "total_bad= (\n",
    "        Product_wise\n",
    "        .agg(f.sum(\"bad\").alias(\"bad\"))\n",
    "        .collect()[0]['bad']\n",
    "    )\n",
    "\n",
    "Product_wise=(\n",
    "    Product_wise\n",
    "    .withColumn(\n",
    "        \"Total_rate\",\n",
    "        ((f.col(\"good\")+f.col(\"bad\"))/(total_good+total_bad))\n",
    "        )\n",
    "    .withColumn(\n",
    "        \"good_rate\",\n",
    "        f.col(\"good\")/total_good    \n",
    "    )\n",
    "    .withColumn(\n",
    "        \"bad_rate\",\n",
    "        f.col(\"bad\")/total_bad   \n",
    "    )\n",
    "    .withColumn(\n",
    "        \"odd\",\n",
    "        f.col(\"good\")/f.col(\"bad\")  \n",
    "    )\n",
    "    .withColumn(\n",
    "    \"IV\",\n",
    "    (\n",
    "        ((f.col(\"good\") / total_good) - (f.col(\"bad\") / total_bad)) *\n",
    "        f.ln((f.col(\"good\") / total_good) / (f.col(\"bad\") / total_bad))\n",
    "    )\n",
    ")\n",
    "    .withColumn(\n",
    "       \"good_rate_of_sub_cat\",\n",
    "    f.col(\"good\") / (f.col(\"good\") + f.col(\"bad\"))\n",
    "    )\n",
    "    .orderBy(\"good_rate_of_sub_cat\")\n",
    ")\n",
    "\n",
    "# Iv_value_Product_wise= 0.029287+0.058048\n",
    "Iv_value_Product_wise= 0.031576+0.049028"
   ]
  },
  {
   "cell_type": "code",
   "execution_count": 18,
   "id": "21c9d059",
   "metadata": {},
   "outputs": [
    {
     "name": "stdout",
     "output_type": "stream",
     "text": [
      "+-------------+\n",
      "|      Product|\n",
      "+-------------+\n",
      "|Registered 3w|\n",
      "| Cash in hand|\n",
      "+-------------+\n",
      "\n"
     ]
    }
   ],
   "source": [
    "master_table_new_product.select(\"Product\").distinct().show()"
   ]
  },
  {
   "cell_type": "code",
   "execution_count": 19,
   "id": "0a96cf2c",
   "metadata": {},
   "outputs": [
    {
     "data": {
      "text/plain": [
       "1376"
      ]
     },
     "execution_count": 19,
     "metadata": {},
     "output_type": "execute_result"
    }
   ],
   "source": [
    "total_bad"
   ]
  },
  {
   "cell_type": "code",
   "execution_count": 20,
   "id": "c66943ca",
   "metadata": {},
   "outputs": [
    {
     "data": {
      "text/plain": [
       "6278"
      ]
     },
     "execution_count": 20,
     "metadata": {},
     "output_type": "execute_result"
    }
   ],
   "source": [
    "total_good"
   ]
  },
  {
   "cell_type": "code",
   "execution_count": 21,
   "id": "6f2dd764",
   "metadata": {},
   "outputs": [
    {
     "data": {
      "text/html": [
       "<div>\n",
       "<style scoped>\n",
       "    .dataframe tbody tr th:only-of-type {\n",
       "        vertical-align: middle;\n",
       "    }\n",
       "\n",
       "    .dataframe tbody tr th {\n",
       "        vertical-align: top;\n",
       "    }\n",
       "\n",
       "    .dataframe thead th {\n",
       "        text-align: right;\n",
       "    }\n",
       "</style>\n",
       "<table border=\"1\" class=\"dataframe\">\n",
       "  <thead>\n",
       "    <tr style=\"text-align: right;\">\n",
       "      <th></th>\n",
       "      <th>Product</th>\n",
       "      <th>good</th>\n",
       "      <th>bad</th>\n",
       "      <th>Total_rate</th>\n",
       "      <th>good_rate</th>\n",
       "      <th>bad_rate</th>\n",
       "      <th>odd</th>\n",
       "      <th>IV</th>\n",
       "      <th>good_rate_of_sub_cat</th>\n",
       "    </tr>\n",
       "  </thead>\n",
       "  <tbody>\n",
       "    <tr>\n",
       "      <th>0</th>\n",
       "      <td>Registered 3w</td>\n",
       "      <td>3376</td>\n",
       "      <td>930</td>\n",
       "      <td>0.562582</td>\n",
       "      <td>0.537751</td>\n",
       "      <td>0.675872</td>\n",
       "      <td>3.630108</td>\n",
       "      <td>0.031576</td>\n",
       "      <td>0.784022</td>\n",
       "    </tr>\n",
       "    <tr>\n",
       "      <th>1</th>\n",
       "      <td>Cash in hand</td>\n",
       "      <td>2902</td>\n",
       "      <td>446</td>\n",
       "      <td>0.437418</td>\n",
       "      <td>0.462249</td>\n",
       "      <td>0.324128</td>\n",
       "      <td>6.506726</td>\n",
       "      <td>0.049028</td>\n",
       "      <td>0.866786</td>\n",
       "    </tr>\n",
       "  </tbody>\n",
       "</table>\n",
       "</div>"
      ],
      "text/plain": [
       "         Product  good  bad  Total_rate  good_rate  bad_rate       odd  \\\n",
       "0  Registered 3w  3376  930    0.562582   0.537751  0.675872  3.630108   \n",
       "1   Cash in hand  2902  446    0.437418   0.462249  0.324128  6.506726   \n",
       "\n",
       "         IV  good_rate_of_sub_cat  \n",
       "0  0.031576              0.784022  \n",
       "1  0.049028              0.866786  "
      ]
     },
     "execution_count": 21,
     "metadata": {},
     "output_type": "execute_result"
    }
   ],
   "source": [
    "Product_wise.toPandas()"
   ]
  },
  {
   "cell_type": "code",
   "execution_count": 212,
   "id": "a39f1f2c",
   "metadata": {},
   "outputs": [],
   "source": [
    "# Product_wise.toPandas().to_csv(\"../output/20240126_final_output/product_wise_final.csv\")"
   ]
  },
  {
   "cell_type": "code",
   "execution_count": 22,
   "id": "2134ce40",
   "metadata": {},
   "outputs": [
    {
     "data": {
      "text/plain": [
       "0.08060400000000001"
      ]
     },
     "execution_count": 22,
     "metadata": {},
     "output_type": "execute_result"
    }
   ],
   "source": [
    "Iv_value_Product_wise"
   ]
  },
  {
   "cell_type": "markdown",
   "id": "03fe866e",
   "metadata": {},
   "source": [
    "#### CUST_PERMRES"
   ]
  },
  {
   "cell_type": "code",
   "execution_count": 23,
   "id": "df9b20eb",
   "metadata": {},
   "outputs": [],
   "source": [
    "master_table_new_custer_pre=(\n",
    "     master_table_new\n",
    "    .filter(f.col(\"CUST_PERMRES\").isNotNull())\n",
    ")\n",
    "CUST_PERMRES_wise= (\n",
    "       master_table_new_custer_pre\n",
    "\n",
    "    .groupBy(\"CUST_PERMRES\")\n",
    "        .agg(\n",
    "            f.sum(\"good\").alias(\"good\"),\n",
    "            f.sum(\"bad\").alias(\"bad\")\n",
    "        )\n",
    "    )\n",
    "total_good_CUST_PERMRES_wise=(\n",
    "       CUST_PERMRES_wise\n",
    "        .agg(f.sum(\"good\").alias(\"good\"))\n",
    "        .collect()[0]['good']\n",
    "    )\n",
    "total_bad_CUST_PERMRES_wise= (\n",
    "        CUST_PERMRES_wise\n",
    "        .agg(f.sum(\"bad\").alias(\"bad\"))\n",
    "        .collect()[0]['bad']\n",
    "    )\n",
    "\n",
    "CUST_PERMRES_wise=(\n",
    "    CUST_PERMRES_wise\n",
    "    .withColumn(\n",
    "        \"Total_rate\",\n",
    "        ((f.col(\"good\")+f.col(\"bad\"))/(total_good_CUST_PERMRES_wise+total_bad_CUST_PERMRES_wise))\n",
    "        )\n",
    "    .withColumn(\n",
    "        \"good_rate\",\n",
    "        f.col(\"good\")/total_good_CUST_PERMRES_wise    \n",
    "    )\n",
    "    .withColumn(\n",
    "        \"bad_rate\",\n",
    "        f.col(\"bad\")/total_bad_CUST_PERMRES_wise   \n",
    "    )\n",
    "    .withColumn(\n",
    "        \"odd\",\n",
    "        f.col(\"good\")/f.col(\"bad\")  \n",
    "    )\n",
    "    .withColumn(\n",
    "    \"IV\",\n",
    "    (\n",
    "        ((f.col(\"good\") / total_good_CUST_PERMRES_wise) - (f.col(\"bad\") / total_bad_CUST_PERMRES_wise)) *\n",
    "        f.ln((f.col(\"good\") / total_good_CUST_PERMRES_wise) / (f.col(\"bad\") / total_bad_CUST_PERMRES_wise))\n",
    "    )\n",
    ")\n",
    "     .withColumn(\n",
    "       \"good_rate_of_sub_cat\",\n",
    "    f.col(\"good\") / (f.col(\"good\") + f.col(\"bad\"))\n",
    "    )\n",
    "    .orderBy(\"good_rate_of_sub_cat\")\n",
    ")\n",
    "# IV_value_CUST_PERMRES= 0.001037 + 0.091448 + 0.002238 + 0.014116\n",
    "IV_value_CUST_PERMRES=0.008460+0.003860\t+0.000013+0.003943"
   ]
  },
  {
   "cell_type": "code",
   "execution_count": null,
   "id": "cb13e751",
   "metadata": {},
   "outputs": [],
   "source": []
  },
  {
   "cell_type": "code",
   "execution_count": 24,
   "id": "73e22dd7",
   "metadata": {},
   "outputs": [
    {
     "data": {
      "text/html": [
       "<div>\n",
       "<style scoped>\n",
       "    .dataframe tbody tr th:only-of-type {\n",
       "        vertical-align: middle;\n",
       "    }\n",
       "\n",
       "    .dataframe tbody tr th {\n",
       "        vertical-align: top;\n",
       "    }\n",
       "\n",
       "    .dataframe thead th {\n",
       "        text-align: right;\n",
       "    }\n",
       "</style>\n",
       "<table border=\"1\" class=\"dataframe\">\n",
       "  <thead>\n",
       "    <tr style=\"text-align: right;\">\n",
       "      <th></th>\n",
       "      <th>CUST_PERMRES</th>\n",
       "      <th>good</th>\n",
       "      <th>bad</th>\n",
       "      <th>Total_rate</th>\n",
       "      <th>good_rate</th>\n",
       "      <th>bad_rate</th>\n",
       "      <th>odd</th>\n",
       "      <th>IV</th>\n",
       "      <th>good_rate_of_sub_cat</th>\n",
       "    </tr>\n",
       "  </thead>\n",
       "  <tbody>\n",
       "    <tr>\n",
       "      <th>0</th>\n",
       "      <td>With G S Certificate</td>\n",
       "      <td>403</td>\n",
       "      <td>114</td>\n",
       "      <td>0.072076</td>\n",
       "      <td>0.067663</td>\n",
       "      <td>0.093673</td>\n",
       "      <td>3.535088</td>\n",
       "      <td>0.008460</td>\n",
       "      <td>0.779497</td>\n",
       "    </tr>\n",
       "    <tr>\n",
       "      <th>1</th>\n",
       "      <td>With Parents/Spouse</td>\n",
       "      <td>1057</td>\n",
       "      <td>249</td>\n",
       "      <td>0.182072</td>\n",
       "      <td>0.177468</td>\n",
       "      <td>0.204601</td>\n",
       "      <td>4.244980</td>\n",
       "      <td>0.003860</td>\n",
       "      <td>0.809342</td>\n",
       "    </tr>\n",
       "    <tr>\n",
       "      <th>2</th>\n",
       "      <td>Rent</td>\n",
       "      <td>165</td>\n",
       "      <td>33</td>\n",
       "      <td>0.027604</td>\n",
       "      <td>0.027703</td>\n",
       "      <td>0.027116</td>\n",
       "      <td>5.000000</td>\n",
       "      <td>0.000013</td>\n",
       "      <td>0.833333</td>\n",
       "    </tr>\n",
       "    <tr>\n",
       "      <th>3</th>\n",
       "      <td>With Billing Proof</td>\n",
       "      <td>4331</td>\n",
       "      <td>821</td>\n",
       "      <td>0.718249</td>\n",
       "      <td>0.727166</td>\n",
       "      <td>0.674610</td>\n",
       "      <td>5.275274</td>\n",
       "      <td>0.003943</td>\n",
       "      <td>0.840644</td>\n",
       "    </tr>\n",
       "  </tbody>\n",
       "</table>\n",
       "</div>"
      ],
      "text/plain": [
       "           CUST_PERMRES  good  bad  Total_rate  good_rate  bad_rate       odd  \\\n",
       "0  With G S Certificate   403  114    0.072076   0.067663  0.093673  3.535088   \n",
       "1   With Parents/Spouse  1057  249    0.182072   0.177468  0.204601  4.244980   \n",
       "2                  Rent   165   33    0.027604   0.027703  0.027116  5.000000   \n",
       "3    With Billing Proof  4331  821    0.718249   0.727166  0.674610  5.275274   \n",
       "\n",
       "         IV  good_rate_of_sub_cat  \n",
       "0  0.008460              0.779497  \n",
       "1  0.003860              0.809342  \n",
       "2  0.000013              0.833333  \n",
       "3  0.003943              0.840644  "
      ]
     },
     "execution_count": 24,
     "metadata": {},
     "output_type": "execute_result"
    }
   ],
   "source": [
    "CUST_PERMRES_wise.toPandas().head()"
   ]
  },
  {
   "cell_type": "code",
   "execution_count": 25,
   "id": "2c5c925c",
   "metadata": {},
   "outputs": [],
   "source": [
    "# CUST_PERMRES_wise.toPandas().to_csv(\"../output/20240126_final_output/cust_pre_wise_active3w.csv\")"
   ]
  },
  {
   "cell_type": "code",
   "execution_count": 26,
   "id": "5b9dd584",
   "metadata": {},
   "outputs": [
    {
     "data": {
      "text/plain": [
       "0.016276000000000002"
      ]
     },
     "execution_count": 26,
     "metadata": {},
     "output_type": "execute_result"
    }
   ],
   "source": [
    "IV_value_CUST_PERMRES"
   ]
  },
  {
   "cell_type": "markdown",
   "id": "49f03d1b",
   "metadata": {},
   "source": [
    "### Guarantor PreNises"
   ]
  },
  {
   "cell_type": "code",
   "execution_count": 27,
   "id": "a999f18b",
   "metadata": {},
   "outputs": [],
   "source": [
    "master_table_new_Guarantor_PreNises=(\n",
    "     master_table_new\n",
    "     .filter(f.col(\"GUAR_PERMRES\").isNotNull())\n",
    "#     .filter((f.col(\"CUST_PERMRES\")==\"With G S Certificate\")|\n",
    "#             (f.col(\"CUST_PERMRES\")==\"Rent\")|\n",
    "#            (f.col(\"CUST_PERMRES\")==\"No Guarantors\")|\n",
    "#             (f.col(\"CUST_PERMRES\")==\"With Parents/spouse\")|\n",
    "#             (f.col(\"CUST_PERMRES\")==\"With Billing Proof\")\n",
    "            \n",
    "           )\n",
    "\n",
    "Guarantor_PreNises_wise= (\n",
    "       master_table_new_Guarantor_PreNises\n",
    "#     .filter(~f.col(\"Guarantor PreNises\").isNull())\n",
    "    .groupBy(\"GUAR_PERMRES\")\n",
    "        .agg(\n",
    "            f.sum(\"good\").alias(\"good\"),\n",
    "            f.sum(\"bad\").alias(\"bad\")\n",
    "        )\n",
    "    )\n",
    "total_good_Guarantor_PreNises_wise=(\n",
    "       Guarantor_PreNises_wise\n",
    "        .agg(f.sum(\"good\").alias(\"good\"))\n",
    "        .collect()[0]['good']\n",
    "    )\n",
    "total_bad_Guarantor_PreNises_wise= (\n",
    "        CUST_PERMRES_wise\n",
    "        .agg(f.sum(\"bad\").alias(\"bad\"))\n",
    "        .collect()[0]['bad']\n",
    "    )\n",
    "\n",
    "Guarantor_PreNises_wise=(\n",
    "    Guarantor_PreNises_wise\n",
    "    .withColumn(\n",
    "        \"Total_rate\",\n",
    "        ((f.col(\"good\")+f.col(\"bad\"))/(total_good_Guarantor_PreNises_wise+total_bad_Guarantor_PreNises_wise))\n",
    "        )\n",
    "    .withColumn(\n",
    "        \"good_rate\",\n",
    "        f.col(\"good\")/total_good_Guarantor_PreNises_wise    \n",
    "    )\n",
    "    .withColumn(\n",
    "        \"bad_rate\",\n",
    "        f.col(\"bad\")/total_bad_Guarantor_PreNises_wise   \n",
    "    )\n",
    "    .withColumn(\n",
    "        \"odd\",\n",
    "        f.col(\"good\")/f.col(\"bad\")  \n",
    "    )\n",
    "    .withColumn(\n",
    "    \"IV\",\n",
    "    (\n",
    "        ((f.col(\"good\") / total_good_Guarantor_PreNises_wise) - (f.col(\"bad\") / total_bad_Guarantor_PreNises_wise)) *\n",
    "        f.ln((f.col(\"good\") / total_good_Guarantor_PreNises_wise) / (f.col(\"bad\") / total_bad_Guarantor_PreNises_wise))\n",
    "    )\n",
    ")\n",
    "    .withColumn(\n",
    "       \"good_rate_of_sub_cat\",\n",
    "    f.col(\"good\") / (f.col(\"good\") + f.col(\"bad\"))\n",
    "    )\n",
    "    .orderBy(\"good_rate_of_sub_cat\")\n",
    ")\n",
    "\n",
    "# IV_Guarantor_PreNises_wise=4.694247e-08+5.527456e-05+2.444583e-04+1.225676e-03+3.686925e-05\n",
    "IV_Guarantor_PreNises_wise=\t0.003338+0.009574+0.002563+0.000303+0.046931"
   ]
  },
  {
   "cell_type": "code",
   "execution_count": 28,
   "id": "9ce8739f",
   "metadata": {},
   "outputs": [
    {
     "data": {
      "text/html": [
       "<div>\n",
       "<style scoped>\n",
       "    .dataframe tbody tr th:only-of-type {\n",
       "        vertical-align: middle;\n",
       "    }\n",
       "\n",
       "    .dataframe tbody tr th {\n",
       "        vertical-align: top;\n",
       "    }\n",
       "\n",
       "    .dataframe thead th {\n",
       "        text-align: right;\n",
       "    }\n",
       "</style>\n",
       "<table border=\"1\" class=\"dataframe\">\n",
       "  <thead>\n",
       "    <tr style=\"text-align: right;\">\n",
       "      <th></th>\n",
       "      <th>GUAR_PERMRES</th>\n",
       "      <th>good</th>\n",
       "      <th>bad</th>\n",
       "      <th>Total_rate</th>\n",
       "      <th>good_rate</th>\n",
       "      <th>bad_rate</th>\n",
       "      <th>odd</th>\n",
       "      <th>IV</th>\n",
       "      <th>good_rate_of_sub_cat</th>\n",
       "    </tr>\n",
       "  </thead>\n",
       "  <tbody>\n",
       "    <tr>\n",
       "      <th>0</th>\n",
       "      <td>With G S Certificate</td>\n",
       "      <td>122</td>\n",
       "      <td>36</td>\n",
       "      <td>0.022033</td>\n",
       "      <td>0.020490</td>\n",
       "      <td>0.029581</td>\n",
       "      <td>3.388889</td>\n",
       "      <td>0.003338</td>\n",
       "      <td>0.772152</td>\n",
       "    </tr>\n",
       "    <tr>\n",
       "      <th>1</th>\n",
       "      <td>Rent</td>\n",
       "      <td>1039</td>\n",
       "      <td>265</td>\n",
       "      <td>0.181844</td>\n",
       "      <td>0.174505</td>\n",
       "      <td>0.217749</td>\n",
       "      <td>3.920755</td>\n",
       "      <td>0.009574</td>\n",
       "      <td>0.796779</td>\n",
       "    </tr>\n",
       "    <tr>\n",
       "      <th>2</th>\n",
       "      <td>With Parents/Spouse</td>\n",
       "      <td>952</td>\n",
       "      <td>220</td>\n",
       "      <td>0.163436</td>\n",
       "      <td>0.159893</td>\n",
       "      <td>0.180772</td>\n",
       "      <td>4.327273</td>\n",
       "      <td>0.002563</td>\n",
       "      <td>0.812287</td>\n",
       "    </tr>\n",
       "    <tr>\n",
       "      <th>3</th>\n",
       "      <td>With Billing Proof</td>\n",
       "      <td>2781</td>\n",
       "      <td>583</td>\n",
       "      <td>0.469112</td>\n",
       "      <td>0.467081</td>\n",
       "      <td>0.479047</td>\n",
       "      <td>4.770154</td>\n",
       "      <td>0.000303</td>\n",
       "      <td>0.826694</td>\n",
       "    </tr>\n",
       "    <tr>\n",
       "      <th>4</th>\n",
       "      <td>No Guaranter</td>\n",
       "      <td>1060</td>\n",
       "      <td>120</td>\n",
       "      <td>0.164552</td>\n",
       "      <td>0.178032</td>\n",
       "      <td>0.098603</td>\n",
       "      <td>8.833333</td>\n",
       "      <td>0.046931</td>\n",
       "      <td>0.898305</td>\n",
       "    </tr>\n",
       "  </tbody>\n",
       "</table>\n",
       "</div>"
      ],
      "text/plain": [
       "           GUAR_PERMRES  good  bad  Total_rate  good_rate  bad_rate       odd  \\\n",
       "0  With G S Certificate   122   36    0.022033   0.020490  0.029581  3.388889   \n",
       "1                  Rent  1039  265    0.181844   0.174505  0.217749  3.920755   \n",
       "2   With Parents/Spouse   952  220    0.163436   0.159893  0.180772  4.327273   \n",
       "3    With Billing Proof  2781  583    0.469112   0.467081  0.479047  4.770154   \n",
       "4          No Guaranter  1060  120    0.164552   0.178032  0.098603  8.833333   \n",
       "\n",
       "         IV  good_rate_of_sub_cat  \n",
       "0  0.003338              0.772152  \n",
       "1  0.009574              0.796779  \n",
       "2  0.002563              0.812287  \n",
       "3  0.000303              0.826694  \n",
       "4  0.046931              0.898305  "
      ]
     },
     "execution_count": 28,
     "metadata": {},
     "output_type": "execute_result"
    }
   ],
   "source": [
    "Guarantor_PreNises_wise.toPandas()"
   ]
  },
  {
   "cell_type": "code",
   "execution_count": 29,
   "id": "b76d0732",
   "metadata": {},
   "outputs": [],
   "source": [
    "# Guarantor_PreNises_wise.toPandas().to_csv(\"../output/20240126_final_output/guarantor_pre_wise_active3w.csv\")"
   ]
  },
  {
   "cell_type": "code",
   "execution_count": 30,
   "id": "06568a5d",
   "metadata": {},
   "outputs": [
    {
     "data": {
      "text/plain": [
       "0.062709"
      ]
     },
     "execution_count": 30,
     "metadata": {},
     "output_type": "execute_result"
    }
   ],
   "source": [
    "IV_Guarantor_PreNises_wise"
   ]
  },
  {
   "cell_type": "markdown",
   "id": "b9b5123e",
   "metadata": {},
   "source": [
    "### Exposure Category(Score)"
   ]
  },
  {
   "cell_type": "code",
   "execution_count": 38,
   "id": "d7ac1f3f",
   "metadata": {},
   "outputs": [],
   "source": [
    "master_table_exp=(\n",
    "    master_table_new.orderBy(\"EXP_CD\")\n",
    "    .filter(f.col(\"EXP_CD\").isNotNull())\n",
    "#     .filter(~f.col(\"Exposure\").isNull())\n",
    "#     .withColumn(\"Exposure_cat\",\n",
    "#                 f.when(f.col(\"Exposure\").between(0,10),\"0-10\")\n",
    "#                 .when(f.col(\"Exposure\").between(11,20),\"11-20\")\n",
    "#                 .when(f.col(\"Exposure\").between(21,30),\"21-30\")\n",
    "#                 .when(f.col(\"Exposure\").between(31,40),\"31-40\")\n",
    "#                 .when(f.col(\"Exposure\").between(41,50),\"41-50\")\n",
    "#                 .when(f.col(\"Exposure\").between(51,60),\"51-60\")\n",
    "#                 .when(f.col(\"Exposure\").between(61,70),\"61-70\")\n",
    "#                 .when(f.col(\"Exposure\").between(71,80),\"71-80\")\n",
    "#                 .when(f.col(\"Exposure\")>80,\"80>\")\n",
    "#                )\n",
    "#     .withColumn(\"Exposure_cat\",\n",
    "#                 f.when(f.col(\"EXP_CD\").between(0,20),\"0-20\")\n",
    "#                 .when(f.col(\"EXP_CD\").between(21,40),\"21-40\")\n",
    "#                 .when(f.col(\"EXP_CD\").between(41,60),\"41-60\")\n",
    "#                 .when(f.col(\"EXP_CD\").between(61,80),\"61-80\")\n",
    "#                 .when(f.col(\"EXP_CD\")>=80,\"80>\")\n",
    "#                )\n",
    "    .withColumn(\"Exposure_cat\",\n",
    "                f.when(f.col(\"EXP_CD\").between(50,60),\"50-60\")\n",
    "                .when(f.col(\"EXP_CD\").between(60,70),\"60-70\")\n",
    "                .when(f.col(\"EXP_CD\").between(70,80),\"70-80\")\n",
    "                .when(f.col(\"EXP_CD\")<50,\"below 50\")\n",
    "#                 .when(f.col(\"EXP_CD\").between(61,80),\"61-80\")\n",
    "                .when(f.col(\"EXP_CD\")>=80,\"80>\")\n",
    "               )\n",
    "    .filter(f.col(\"Exposure_cat\").isNotNull())\n",
    "    \n",
    ")\n",
    "\n",
    "master_table_new1=master_table_exp.groupBy(\"Exposure_cat\").agg(f.count(\"FAC NO\"))\n",
    "\n",
    "Exposure_Category_Score_wise= (\n",
    "        master_table_exp.groupBy(\"Exposure_cat\")\n",
    "        .agg(\n",
    "            f.sum(\"good\").alias(\"good\"),\n",
    "            f.sum(\"bad\").alias(\"bad\")\n",
    "        )\n",
    "    )\n",
    "total_good_Exposure_Category_Score_wise=(\n",
    "      Exposure_Category_Score_wise\n",
    "        .agg(f.sum(\"good\").alias(\"good\"))\n",
    "        .collect()[0]['good']\n",
    "    )\n",
    "total_bad_Exposure_Category_Score_wise= (\n",
    "       Exposure_Category_Score_wise\n",
    "        .agg(f.sum(\"bad\").alias(\"bad\"))\n",
    "        .collect()[0]['bad']\n",
    "    )\n",
    "\n",
    "Exposure_Category_Score_wise=(\n",
    "    Exposure_Category_Score_wise\n",
    "    .withColumnRenamed(\"Exposure Category(Score)\",\"Exp\")\n",
    "    .withColumn(\n",
    "        \"Total_rate\",\n",
    "        ((f.col(\"good\")+f.col(\"bad\"))/(total_good_Exposure_Category_Score_wise+total_bad_Exposure_Category_Score_wise))\n",
    "        )\n",
    "    .withColumn(\n",
    "        \"good_rate\",\n",
    "        f.col(\"good\")/total_good_Exposure_Category_Score_wise    \n",
    "    )\n",
    "    .withColumn(\n",
    "        \"bad_rate\",\n",
    "        f.col(\"bad\")/total_bad_Exposure_Category_Score_wise  \n",
    "    )\n",
    "    .withColumn(\n",
    "        \"odd\",\n",
    "        f.col(\"good\")/f.col(\"bad\")  \n",
    "    )\n",
    "    .withColumn(\n",
    "    \"IV\",\n",
    "    (\n",
    "        ((f.col(\"good\") / total_good_Exposure_Category_Score_wise) - (f.col(\"bad\") / total_bad_Exposure_Category_Score_wise)) *\n",
    "        f.ln((f.col(\"good\") / total_good_Exposure_Category_Score_wise) / (f.col(\"bad\") / total_bad_Exposure_Category_Score_wise))\n",
    "    )\n",
    ")\n",
    "    .withColumn(\n",
    "       \"good_rate_of_sub_cat\",\n",
    "    f.col(\"good\") / (f.col(\"good\") + f.col(\"bad\"))\n",
    "    )\n",
    "    .orderBy(\"good_rate_of_sub_cat\")\n",
    ")\n",
    "# IVP_Exp_value=(\n",
    "# 0.050055+\n",
    "# 0.030004+\n",
    "# 0.055117+\n",
    "# 0.001172+\n",
    "# 0.053804+\n",
    "# 0.039878+\n",
    "# 0.034502+\n",
    "# 0.007726+\n",
    "# 0.003169\n",
    "# )\n",
    "# IVP_Exp_value=0.063524+0.018908+0.005051+0.048916+0.029908\n",
    "IVP_EXP_value=0.101762+0.004935+0.033289+0.060101+0.018490"
   ]
  },
  {
   "cell_type": "code",
   "execution_count": 39,
   "id": "4e75d5ae",
   "metadata": {},
   "outputs": [
    {
     "name": "stdout",
     "output_type": "stream",
     "text": [
      "+------------+-------------+\n",
      "|Exposure_cat|count(FAC NO)|\n",
      "+------------+-------------+\n",
      "|    below 50|         1548|\n",
      "|       60-70|          988|\n",
      "|       50-60|          859|\n",
      "|         80>|         2370|\n",
      "|       70-80|         1274|\n",
      "+------------+-------------+\n",
      "\n"
     ]
    }
   ],
   "source": [
    "master_table_new1.show()"
   ]
  },
  {
   "cell_type": "code",
   "execution_count": 40,
   "id": "0b461c12",
   "metadata": {},
   "outputs": [
    {
     "data": {
      "text/html": [
       "<div>\n",
       "<style scoped>\n",
       "    .dataframe tbody tr th:only-of-type {\n",
       "        vertical-align: middle;\n",
       "    }\n",
       "\n",
       "    .dataframe tbody tr th {\n",
       "        vertical-align: top;\n",
       "    }\n",
       "\n",
       "    .dataframe thead th {\n",
       "        text-align: right;\n",
       "    }\n",
       "</style>\n",
       "<table border=\"1\" class=\"dataframe\">\n",
       "  <thead>\n",
       "    <tr style=\"text-align: right;\">\n",
       "      <th></th>\n",
       "      <th>Exposure_cat</th>\n",
       "      <th>good</th>\n",
       "      <th>bad</th>\n",
       "      <th>Total_rate</th>\n",
       "      <th>good_rate</th>\n",
       "      <th>bad_rate</th>\n",
       "      <th>odd</th>\n",
       "      <th>IV</th>\n",
       "      <th>good_rate_of_sub_cat</th>\n",
       "    </tr>\n",
       "  </thead>\n",
       "  <tbody>\n",
       "    <tr>\n",
       "      <th>0</th>\n",
       "      <td>80&gt;</td>\n",
       "      <td>1764</td>\n",
       "      <td>606</td>\n",
       "      <td>0.336696</td>\n",
       "      <td>0.302107</td>\n",
       "      <td>0.505000</td>\n",
       "      <td>2.910891</td>\n",
       "      <td>0.104242</td>\n",
       "      <td>0.744304</td>\n",
       "    </tr>\n",
       "    <tr>\n",
       "      <th>1</th>\n",
       "      <td>70-80</td>\n",
       "      <td>1070</td>\n",
       "      <td>204</td>\n",
       "      <td>0.180992</td>\n",
       "      <td>0.183251</td>\n",
       "      <td>0.170000</td>\n",
       "      <td>5.245098</td>\n",
       "      <td>0.000995</td>\n",
       "      <td>0.839874</td>\n",
       "    </tr>\n",
       "    <tr>\n",
       "      <th>2</th>\n",
       "      <td>60-70</td>\n",
       "      <td>846</td>\n",
       "      <td>142</td>\n",
       "      <td>0.140361</td>\n",
       "      <td>0.144888</td>\n",
       "      <td>0.118333</td>\n",
       "      <td>5.957746</td>\n",
       "      <td>0.005376</td>\n",
       "      <td>0.856275</td>\n",
       "    </tr>\n",
       "    <tr>\n",
       "      <th>3</th>\n",
       "      <td>50-60</td>\n",
       "      <td>751</td>\n",
       "      <td>108</td>\n",
       "      <td>0.122034</td>\n",
       "      <td>0.128618</td>\n",
       "      <td>0.090000</td>\n",
       "      <td>6.953704</td>\n",
       "      <td>0.013788</td>\n",
       "      <td>0.874272</td>\n",
       "    </tr>\n",
       "    <tr>\n",
       "      <th>4</th>\n",
       "      <td>below 50</td>\n",
       "      <td>1408</td>\n",
       "      <td>140</td>\n",
       "      <td>0.219918</td>\n",
       "      <td>0.241137</td>\n",
       "      <td>0.116667</td>\n",
       "      <td>10.057143</td>\n",
       "      <td>0.090371</td>\n",
       "      <td>0.909561</td>\n",
       "    </tr>\n",
       "  </tbody>\n",
       "</table>\n",
       "</div>"
      ],
      "text/plain": [
       "  Exposure_cat  good  bad  Total_rate  good_rate  bad_rate        odd  \\\n",
       "0          80>  1764  606    0.336696   0.302107  0.505000   2.910891   \n",
       "1        70-80  1070  204    0.180992   0.183251  0.170000   5.245098   \n",
       "2        60-70   846  142    0.140361   0.144888  0.118333   5.957746   \n",
       "3        50-60   751  108    0.122034   0.128618  0.090000   6.953704   \n",
       "4     below 50  1408  140    0.219918   0.241137  0.116667  10.057143   \n",
       "\n",
       "         IV  good_rate_of_sub_cat  \n",
       "0  0.104242              0.744304  \n",
       "1  0.000995              0.839874  \n",
       "2  0.005376              0.856275  \n",
       "3  0.013788              0.874272  \n",
       "4  0.090371              0.909561  "
      ]
     },
     "execution_count": 40,
     "metadata": {},
     "output_type": "execute_result"
    }
   ],
   "source": [
    "Exposure_Category_Score_wise.toPandas().head(10)"
   ]
  },
  {
   "cell_type": "code",
   "execution_count": 37,
   "id": "9cc09faf",
   "metadata": {},
   "outputs": [],
   "source": [
    "Exposure_Category_Score_wise.toPandas().to_csv(\"../output/20240126_final_output/exp_cat_wise_active3w_new.csv\")"
   ]
  },
  {
   "cell_type": "code",
   "execution_count": 35,
   "id": "763bab57",
   "metadata": {},
   "outputs": [
    {
     "data": {
      "text/plain": [
       "0.21857700000000002"
      ]
     },
     "execution_count": 35,
     "metadata": {},
     "output_type": "execute_result"
    }
   ],
   "source": [
    "IVP_EXP_value"
   ]
  },
  {
   "cell_type": "markdown",
   "id": "5f791395",
   "metadata": {},
   "source": [
    "### CRIB"
   ]
  },
  {
   "cell_type": "code",
   "execution_count": 226,
   "id": "5da64de7",
   "metadata": {},
   "outputs": [],
   "source": [
    "master_table_new_CRIB = (\n",
    "    master_table_new\n",
    "    .filter(~f.col(\"CRIB score\").isin([-400]))  # Filter out -400 values\n",
    "    .withColumn(\"CRIB_score_cat\",\n",
    "                f.when(f.col(\"CRIB score\").between(-80, -61), \"(-80)-(-61)\")\n",
    "                .when(f.col(\"CRIB score\").between(-60, -41), \"(-60)-(-41)\")\n",
    "                .when(f.col(\"CRIB score\").between(-40, -21), \"(-40)-(-21)\")\n",
    "                .when(f.col(\"CRIB score\").between(-20, 0), \"(-20)-0\")\n",
    "                .when(f.col(\"CRIB score\").between(1, 20), \"1-20\")\n",
    "                .when(f.col(\"CRIB score\").between(21, 40), \"21-40\")\n",
    "                .when(f.col(\"CRIB score\").between(41, 60), \"41-60\")\n",
    "                .when(f.col(\"CRIB score\").between(61, 80), \"61-80\")\n",
    "                .when(f.col(\"CRIB score\") > 80, \"80>\")\n",
    "             .when(f.col(\"CRIB score\")==\"NO HIT\",\"NO HIT\")\n",
    "#                 .otherwise(\"Unknown\")  # Handle other cases\n",
    "    \n",
    "               )\n",
    "    .filter(f.col(\"CRIB_score_cat\").isNotNull())\n",
    ")\n",
    "master_table_new_CRIB1=master_table_new_CRIB.groupBy(\"CRIB_score_cat\").agg(f.count(\"CRIB score\"))\n",
    "CRIB= (\n",
    "      master_table_new_CRIB.groupBy(\"CRIB_score_cat\")\n",
    "        .agg(\n",
    "            f.sum(\"good\").alias(\"good\"),\n",
    "            f.sum(\"bad\").alias(\"bad\")\n",
    "        )\n",
    "    )\n",
    "total_good_CRIB=(\n",
    "       CRIB\n",
    "        .agg(f.sum(\"good\").alias(\"good\"))\n",
    "        .collect()[0]['good']\n",
    "    )\n",
    "total_bad_CRIB= (\n",
    "        CRIB\n",
    "        .agg(f.sum(\"bad\").alias(\"bad\"))\n",
    "        .collect()[0]['bad']\n",
    "    )\n",
    "\n",
    "CRIB=(\n",
    "    CRIB\n",
    "    .withColumn(\n",
    "        \"Total_rate\",\n",
    "        ((f.col(\"good\")+f.col(\"bad\"))/(total_good_CRIB+total_bad_CRIB))\n",
    "        )\n",
    "    .withColumn(\n",
    "        \"good_rate\",\n",
    "        f.col(\"good\")/total_good_CRIB   \n",
    "    )\n",
    "    .withColumn(\n",
    "        \"bad_rate\",\n",
    "        f.col(\"bad\")/total_bad_CRIB \n",
    "    )\n",
    "    .withColumn(\n",
    "        \"odd\",\n",
    "        f.col(\"good\")/f.col(\"bad\")  \n",
    "    )\n",
    "    .withColumn(\n",
    "    \"IV\",\n",
    "    (\n",
    "        ((f.col(\"good\") / total_good_CRIB) - (f.col(\"bad\") / total_bad_CRIB)) *\n",
    "        f.ln((f.col(\"good\") / total_good_CRIB) / (f.col(\"bad\") / total_bad_CRIB))\n",
    "    )\n",
    ")\n",
    "    .withColumn(\n",
    "       \"good_rate_of_sub_cat\",\n",
    "    f.col(\"good\") / (f.col(\"good\") + f.col(\"bad\"))\n",
    "    )\n",
    "    .orderBy(\"good_rate_of_sub_cat\")\n",
    ")\n",
    "# IV_value_DSCR= 0.000052+0.004582+0.0036=66+0.023002+0.000092\n",
    "IV_value_CRIB=0.062192+0.015977+0.009420+0.007757+0.003961+0.000498+0.000215+0.004002+0.054429+0.001011\t"
   ]
  },
  {
   "cell_type": "code",
   "execution_count": 227,
   "id": "d3af3ed1",
   "metadata": {},
   "outputs": [
    {
     "name": "stdout",
     "output_type": "stream",
     "text": [
      "+--------------+-----------------+\n",
      "|CRIB_score_cat|count(CRIB score)|\n",
      "+--------------+-----------------+\n",
      "|       (-20)-0|               72|\n",
      "|        NO HIT|              243|\n",
      "|         21-40|              826|\n",
      "|         61-80|              592|\n",
      "|   (-80)-(-61)|               18|\n",
      "|           80>|             1080|\n",
      "|   (-60)-(-41)|               38|\n",
      "|          1-20|              146|\n",
      "|         41-60|              494|\n",
      "|   (-40)-(-21)|               55|\n",
      "+--------------+-----------------+\n",
      "\n"
     ]
    }
   ],
   "source": [
    "master_table_new_CRIB1.show()"
   ]
  },
  {
   "cell_type": "code",
   "execution_count": 228,
   "id": "c8284939",
   "metadata": {},
   "outputs": [
    {
     "data": {
      "text/html": [
       "<div>\n",
       "<style scoped>\n",
       "    .dataframe tbody tr th:only-of-type {\n",
       "        vertical-align: middle;\n",
       "    }\n",
       "\n",
       "    .dataframe tbody tr th {\n",
       "        vertical-align: top;\n",
       "    }\n",
       "\n",
       "    .dataframe thead th {\n",
       "        text-align: right;\n",
       "    }\n",
       "</style>\n",
       "<table border=\"1\" class=\"dataframe\">\n",
       "  <thead>\n",
       "    <tr style=\"text-align: right;\">\n",
       "      <th></th>\n",
       "      <th>CRIB_score_cat</th>\n",
       "      <th>good</th>\n",
       "      <th>bad</th>\n",
       "      <th>Total_rate</th>\n",
       "      <th>good_rate</th>\n",
       "      <th>bad_rate</th>\n",
       "      <th>odd</th>\n",
       "      <th>IV</th>\n",
       "      <th>good_rate_of_sub_cat</th>\n",
       "    </tr>\n",
       "  </thead>\n",
       "  <tbody>\n",
       "    <tr>\n",
       "      <th>0</th>\n",
       "      <td>1-20</td>\n",
       "      <td>92</td>\n",
       "      <td>54</td>\n",
       "      <td>0.040965</td>\n",
       "      <td>0.031060</td>\n",
       "      <td>0.089701</td>\n",
       "      <td>1.703704</td>\n",
       "      <td>0.062192</td>\n",
       "      <td>0.630137</td>\n",
       "    </tr>\n",
       "    <tr>\n",
       "      <th>1</th>\n",
       "      <td>(-60)-(-41)</td>\n",
       "      <td>24</td>\n",
       "      <td>14</td>\n",
       "      <td>0.010662</td>\n",
       "      <td>0.008103</td>\n",
       "      <td>0.023256</td>\n",
       "      <td>1.714286</td>\n",
       "      <td>0.015977</td>\n",
       "      <td>0.631579</td>\n",
       "    </tr>\n",
       "    <tr>\n",
       "      <th>2</th>\n",
       "      <td>(-40)-(-21)</td>\n",
       "      <td>39</td>\n",
       "      <td>16</td>\n",
       "      <td>0.015432</td>\n",
       "      <td>0.013167</td>\n",
       "      <td>0.026578</td>\n",
       "      <td>2.437500</td>\n",
       "      <td>0.009420</td>\n",
       "      <td>0.709091</td>\n",
       "    </tr>\n",
       "    <tr>\n",
       "      <th>3</th>\n",
       "      <td>(-20)-0</td>\n",
       "      <td>53</td>\n",
       "      <td>19</td>\n",
       "      <td>0.020202</td>\n",
       "      <td>0.017893</td>\n",
       "      <td>0.031561</td>\n",
       "      <td>2.789474</td>\n",
       "      <td>0.007757</td>\n",
       "      <td>0.736111</td>\n",
       "    </tr>\n",
       "    <tr>\n",
       "      <th>4</th>\n",
       "      <td>21-40</td>\n",
       "      <td>671</td>\n",
       "      <td>155</td>\n",
       "      <td>0.231762</td>\n",
       "      <td>0.226536</td>\n",
       "      <td>0.257475</td>\n",
       "      <td>4.329032</td>\n",
       "      <td>0.003961</td>\n",
       "      <td>0.812349</td>\n",
       "    </tr>\n",
       "    <tr>\n",
       "      <th>5</th>\n",
       "      <td>NO HIT</td>\n",
       "      <td>199</td>\n",
       "      <td>44</td>\n",
       "      <td>0.068182</td>\n",
       "      <td>0.067184</td>\n",
       "      <td>0.073090</td>\n",
       "      <td>4.522727</td>\n",
       "      <td>0.000498</td>\n",
       "      <td>0.818930</td>\n",
       "    </tr>\n",
       "    <tr>\n",
       "      <th>6</th>\n",
       "      <td>61-80</td>\n",
       "      <td>489</td>\n",
       "      <td>103</td>\n",
       "      <td>0.166105</td>\n",
       "      <td>0.165091</td>\n",
       "      <td>0.171096</td>\n",
       "      <td>4.747573</td>\n",
       "      <td>0.000215</td>\n",
       "      <td>0.826014</td>\n",
       "    </tr>\n",
       "    <tr>\n",
       "      <th>7</th>\n",
       "      <td>41-60</td>\n",
       "      <td>422</td>\n",
       "      <td>72</td>\n",
       "      <td>0.138608</td>\n",
       "      <td>0.142471</td>\n",
       "      <td>0.119601</td>\n",
       "      <td>5.861111</td>\n",
       "      <td>0.004002</td>\n",
       "      <td>0.854251</td>\n",
       "    </tr>\n",
       "    <tr>\n",
       "      <th>8</th>\n",
       "      <td>80&gt;</td>\n",
       "      <td>957</td>\n",
       "      <td>123</td>\n",
       "      <td>0.303030</td>\n",
       "      <td>0.323093</td>\n",
       "      <td>0.204319</td>\n",
       "      <td>7.780488</td>\n",
       "      <td>0.054429</td>\n",
       "      <td>0.886111</td>\n",
       "    </tr>\n",
       "    <tr>\n",
       "      <th>9</th>\n",
       "      <td>(-80)-(-61)</td>\n",
       "      <td>16</td>\n",
       "      <td>2</td>\n",
       "      <td>0.005051</td>\n",
       "      <td>0.005402</td>\n",
       "      <td>0.003322</td>\n",
       "      <td>8.000000</td>\n",
       "      <td>0.001011</td>\n",
       "      <td>0.888889</td>\n",
       "    </tr>\n",
       "  </tbody>\n",
       "</table>\n",
       "</div>"
      ],
      "text/plain": [
       "  CRIB_score_cat  good  bad  Total_rate  good_rate  bad_rate       odd  \\\n",
       "0           1-20    92   54    0.040965   0.031060  0.089701  1.703704   \n",
       "1    (-60)-(-41)    24   14    0.010662   0.008103  0.023256  1.714286   \n",
       "2    (-40)-(-21)    39   16    0.015432   0.013167  0.026578  2.437500   \n",
       "3        (-20)-0    53   19    0.020202   0.017893  0.031561  2.789474   \n",
       "4          21-40   671  155    0.231762   0.226536  0.257475  4.329032   \n",
       "5         NO HIT   199   44    0.068182   0.067184  0.073090  4.522727   \n",
       "6          61-80   489  103    0.166105   0.165091  0.171096  4.747573   \n",
       "7          41-60   422   72    0.138608   0.142471  0.119601  5.861111   \n",
       "8            80>   957  123    0.303030   0.323093  0.204319  7.780488   \n",
       "9    (-80)-(-61)    16    2    0.005051   0.005402  0.003322  8.000000   \n",
       "\n",
       "         IV  good_rate_of_sub_cat  \n",
       "0  0.062192              0.630137  \n",
       "1  0.015977              0.631579  \n",
       "2  0.009420              0.709091  \n",
       "3  0.007757              0.736111  \n",
       "4  0.003961              0.812349  \n",
       "5  0.000498              0.818930  \n",
       "6  0.000215              0.826014  \n",
       "7  0.004002              0.854251  \n",
       "8  0.054429              0.886111  \n",
       "9  0.001011              0.888889  "
      ]
     },
     "execution_count": 228,
     "metadata": {},
     "output_type": "execute_result"
    }
   ],
   "source": [
    "CRIB.toPandas().head(10)"
   ]
  },
  {
   "cell_type": "code",
   "execution_count": 229,
   "id": "58cd103e",
   "metadata": {},
   "outputs": [],
   "source": [
    "CRIB.toPandas().to_csv(\"../output/20240126_final_output/CRIB_cat_wise_active.csv\")"
   ]
  },
  {
   "cell_type": "code",
   "execution_count": 230,
   "id": "f4541a27",
   "metadata": {},
   "outputs": [
    {
     "data": {
      "text/plain": [
       "0.15946200000000002"
      ]
     },
     "execution_count": 230,
     "metadata": {},
     "output_type": "execute_result"
    }
   ],
   "source": [
    "IV_value_CRIB"
   ]
  },
  {
   "cell_type": "markdown",
   "id": "46a7f127",
   "metadata": {},
   "source": [
    "## DCSR"
   ]
  },
  {
   "cell_type": "code",
   "execution_count": 231,
   "id": "5fb4031d",
   "metadata": {},
   "outputs": [],
   "source": [
    "master_table_new_dcsr=(\n",
    "     master_table_new\n",
    ".filter(~f.col(\"DSCR_C\").isNull())\n",
    "    .withColumn(\"DSCR_cat\",\n",
    "                f.when(f.col(\"DSCR_C\").between(0,5),\"0-5\")\n",
    "                .when(f.col(\"DSCR_C\").between(6,11),\"6-11\")\n",
    "                .when(f.col(\"DSCR_C\").between(12,17),\"12-17\")\n",
    "                .when(f.col(\"DSCR_C\").between(18,23),\"18-23\")\n",
    "                .when(f.col(\"DSCR_C\")>23,\"23>\")\n",
    "               )\n",
    "    .filter(f.col(\"DSCR_cat\").isNotNull())\n",
    ")\n",
    "master_table_new_dcsr1=master_table_new_dcsr.groupBy(\"DSCR_cat\").agg(f.count(\"DSCR_C\"))\n",
    "DSCR= (\n",
    "      master_table_new_dcsr.groupBy(\"DSCR_cat\")\n",
    "        .agg(\n",
    "            f.sum(\"good\").alias(\"good\"),\n",
    "            f.sum(\"bad\").alias(\"bad\")\n",
    "        )\n",
    "    )\n",
    "total_good_DSCR=(\n",
    "       DSCR\n",
    "        .agg(f.sum(\"good\").alias(\"good\"))\n",
    "        .collect()[0]['good']\n",
    "    )\n",
    "total_bad_DSCR= (\n",
    "        DSCR\n",
    "        .agg(f.sum(\"bad\").alias(\"bad\"))\n",
    "        .collect()[0]['bad']\n",
    "    )\n",
    "\n",
    "DSCR=(\n",
    "    DSCR\n",
    "    .withColumn(\n",
    "        \"Total_rate\",\n",
    "        ((f.col(\"good\")+f.col(\"bad\"))/(total_good_DSCR+total_bad_DSCR))\n",
    "        )\n",
    "    .withColumn(\n",
    "        \"good_rate\",\n",
    "        f.col(\"good\")/total_good_DSCR   \n",
    "    )\n",
    "    .withColumn(\n",
    "        \"bad_rate\",\n",
    "        f.col(\"bad\")/total_bad_DSCR \n",
    "    )\n",
    "    .withColumn(\n",
    "        \"odd\",\n",
    "        f.col(\"good\")/f.col(\"bad\")  \n",
    "    )\n",
    "    .withColumn(\n",
    "    \"IV\",\n",
    "    (\n",
    "        ((f.col(\"good\") / total_good_DSCR) - (f.col(\"bad\") / total_bad_DSCR)) *\n",
    "        f.ln((f.col(\"good\") / total_good_DSCR) / (f.col(\"bad\") / total_bad_DSCR))\n",
    "    )\n",
    ")\n",
    "    .withColumn(\n",
    "       \"good_rate_of_sub_cat\",\n",
    "    f.col(\"good\") / (f.col(\"good\") + f.col(\"bad\"))\n",
    "    )\n",
    "    .orderBy(\"good_rate_of_sub_cat\")\n",
    ")\n",
    "# IV_value_DSCR= 0.000052+0.004582+0.0036=66+0.023002+0.000092\n",
    "IV_value_DSCR= \t0.004085+0.001120+\t0.003951+0.019609+0.003596"
   ]
  },
  {
   "cell_type": "code",
   "execution_count": 232,
   "id": "957a0199",
   "metadata": {},
   "outputs": [
    {
     "name": "stdout",
     "output_type": "stream",
     "text": [
      "+--------+-------------+\n",
      "|DSCR_cat|count(DSCR_C)|\n",
      "+--------+-------------+\n",
      "|   12-17|           70|\n",
      "|     23>|          153|\n",
      "|     0-5|         5653|\n",
      "|    6-11|          750|\n",
      "|   18-23|           39|\n",
      "+--------+-------------+\n",
      "\n"
     ]
    }
   ],
   "source": [
    "master_table_new_dcsr1.show()"
   ]
  },
  {
   "cell_type": "code",
   "execution_count": 233,
   "id": "56367443",
   "metadata": {},
   "outputs": [
    {
     "data": {
      "text/html": [
       "<div>\n",
       "<style scoped>\n",
       "    .dataframe tbody tr th:only-of-type {\n",
       "        vertical-align: middle;\n",
       "    }\n",
       "\n",
       "    .dataframe tbody tr th {\n",
       "        vertical-align: top;\n",
       "    }\n",
       "\n",
       "    .dataframe thead th {\n",
       "        text-align: right;\n",
       "    }\n",
       "</style>\n",
       "<table border=\"1\" class=\"dataframe\">\n",
       "  <thead>\n",
       "    <tr style=\"text-align: right;\">\n",
       "      <th></th>\n",
       "      <th>DSCR_cat</th>\n",
       "      <th>good</th>\n",
       "      <th>bad</th>\n",
       "      <th>Total_rate</th>\n",
       "      <th>good_rate</th>\n",
       "      <th>bad_rate</th>\n",
       "      <th>odd</th>\n",
       "      <th>IV</th>\n",
       "      <th>good_rate_of_sub_cat</th>\n",
       "    </tr>\n",
       "  </thead>\n",
       "  <tbody>\n",
       "    <tr>\n",
       "      <th>0</th>\n",
       "      <td>0-5</td>\n",
       "      <td>4620</td>\n",
       "      <td>1033</td>\n",
       "      <td>0.848162</td>\n",
       "      <td>0.837867</td>\n",
       "      <td>0.897480</td>\n",
       "      <td>4.472410</td>\n",
       "      <td>0.004097</td>\n",
       "      <td>0.817265</td>\n",
       "    </tr>\n",
       "    <tr>\n",
       "      <th>1</th>\n",
       "      <td>12-17</td>\n",
       "      <td>61</td>\n",
       "      <td>9</td>\n",
       "      <td>0.010503</td>\n",
       "      <td>0.011063</td>\n",
       "      <td>0.007819</td>\n",
       "      <td>6.777778</td>\n",
       "      <td>0.001125</td>\n",
       "      <td>0.871429</td>\n",
       "    </tr>\n",
       "    <tr>\n",
       "      <th>2</th>\n",
       "      <td>23&gt;</td>\n",
       "      <td>135</td>\n",
       "      <td>18</td>\n",
       "      <td>0.022956</td>\n",
       "      <td>0.024483</td>\n",
       "      <td>0.015639</td>\n",
       "      <td>7.500000</td>\n",
       "      <td>0.003965</td>\n",
       "      <td>0.882353</td>\n",
       "    </tr>\n",
       "    <tr>\n",
       "      <th>3</th>\n",
       "      <td>6-11</td>\n",
       "      <td>662</td>\n",
       "      <td>88</td>\n",
       "      <td>0.112528</td>\n",
       "      <td>0.120058</td>\n",
       "      <td>0.076455</td>\n",
       "      <td>7.522727</td>\n",
       "      <td>0.019677</td>\n",
       "      <td>0.882667</td>\n",
       "    </tr>\n",
       "    <tr>\n",
       "      <th>4</th>\n",
       "      <td>18-23</td>\n",
       "      <td>36</td>\n",
       "      <td>3</td>\n",
       "      <td>0.005851</td>\n",
       "      <td>0.006529</td>\n",
       "      <td>0.002606</td>\n",
       "      <td>12.000000</td>\n",
       "      <td>0.003602</td>\n",
       "      <td>0.923077</td>\n",
       "    </tr>\n",
       "  </tbody>\n",
       "</table>\n",
       "</div>"
      ],
      "text/plain": [
       "  DSCR_cat  good   bad  Total_rate  good_rate  bad_rate        odd        IV  \\\n",
       "0      0-5  4620  1033    0.848162   0.837867  0.897480   4.472410  0.004097   \n",
       "1    12-17    61     9    0.010503   0.011063  0.007819   6.777778  0.001125   \n",
       "2      23>   135    18    0.022956   0.024483  0.015639   7.500000  0.003965   \n",
       "3     6-11   662    88    0.112528   0.120058  0.076455   7.522727  0.019677   \n",
       "4    18-23    36     3    0.005851   0.006529  0.002606  12.000000  0.003602   \n",
       "\n",
       "   good_rate_of_sub_cat  \n",
       "0              0.817265  \n",
       "1              0.871429  \n",
       "2              0.882353  \n",
       "3              0.882667  \n",
       "4              0.923077  "
      ]
     },
     "execution_count": 233,
     "metadata": {},
     "output_type": "execute_result"
    }
   ],
   "source": [
    "DSCR.toPandas().head(10)"
   ]
  },
  {
   "cell_type": "code",
   "execution_count": 234,
   "id": "75047b2e",
   "metadata": {},
   "outputs": [],
   "source": [
    "DSCR.toPandas().to_csv(\"../output/20240126_final_output/DSCR_cat_wise_active_3w.csv\")"
   ]
  },
  {
   "cell_type": "code",
   "execution_count": 235,
   "id": "a24e5bbc",
   "metadata": {},
   "outputs": [
    {
     "data": {
      "text/plain": [
       "0.032361"
      ]
     },
     "execution_count": 235,
     "metadata": {},
     "output_type": "execute_result"
    }
   ],
   "source": [
    "IV_value_DSCR"
   ]
  },
  {
   "cell_type": "markdown",
   "id": "28a572e8",
   "metadata": {},
   "source": [
    "IV (Information Value Statistic)\tDescription of Correlation\n",
    "<0.01                               No Correlation\n",
    "0.01 - 0.03                        \tMarginal contribution\n",
    "0.03 - 0.10\t                        Adequate predictability\n",
    "0.10 - 0.30\t                        Strong predictor\n",
    "0.30 - 0.50\t                        Very Strong predictor\n",
    ">=0.5\t                            \"Suspicious\" - Too good to be true\n"
   ]
  },
  {
   "cell_type": "code",
   "execution_count": 53,
   "id": "f1c5e1f3",
   "metadata": {},
   "outputs": [
    {
     "name": "stdout",
     "output_type": "stream",
     "text": [
      "IV_value_CUST_PERMRES:  0.01641\n",
      "IV_Guarantor_PreNises_wise: 0.062701\n",
      "IV_value_DSCR: 0.032361\n",
      "IVP_Exp_value: 0.217904\n",
      "Iv_value_Product_wise: 0.08003299999999999\n"
     ]
    }
   ],
   "source": [
    "print(\"IV_value_CUST_PERMRES: \",IV_value_CUST_PERMRES)\n",
    "print(\"IV_Guarantor_PreNises_wise:\",IV_Guarantor_PreNises_wise)\n",
    "print(\"IV_value_DSCR:\",IV_value_DSCR)\n",
    "print(\"IVP_Exp_value:\",IVP_EXP_value)\n",
    "print(\"Iv_value_Product_wise:\",Iv_value_Product_wise)"
   ]
  },
  {
   "cell_type": "markdown",
   "id": "480f3771",
   "metadata": {},
   "source": [
    "# Selecting Customer good or bad (On Total Collectiion Ratio)"
   ]
  },
  {
   "cell_type": "code",
   "execution_count": null,
   "id": "5dff3e2c",
   "metadata": {},
   "outputs": [],
   "source": []
  }
 ],
 "metadata": {
  "kernelspec": {
   "display_name": "Python 3 (ipykernel)",
   "language": "python",
   "name": "python3"
  },
  "language_info": {
   "codemirror_mode": {
    "name": "ipython",
    "version": 3
   },
   "file_extension": ".py",
   "mimetype": "text/x-python",
   "name": "python",
   "nbconvert_exporter": "python",
   "pygments_lexer": "ipython3",
   "version": "3.11.4"
  }
 },
 "nbformat": 4,
 "nbformat_minor": 5
}
