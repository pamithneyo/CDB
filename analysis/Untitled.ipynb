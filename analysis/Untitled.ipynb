{
 "cells": [
  {
   "cell_type": "code",
   "execution_count": 39,
   "id": "59ea44b6",
   "metadata": {},
   "outputs": [],
   "source": [
    "from pyspark.sql import SparkSession\n",
    "from pyspark.sql import functions as f\n",
    "from pyspark.sql.window import Window\n",
    "from sklearn.preprocessing import LabelEncoder\n",
    "from sklearn.feature_selection import chi2\n",
    "import matplotlib.pyplot as plt\n",
    "import pandas as pd\n",
    "spark = SparkSession.builder \\\n",
    "    .appName(\"Analysis_23\") \\\n",
    "    .getOrCreate()"
   ]
  },
  {
   "cell_type": "code",
   "execution_count": 49,
   "id": "2cca77ed",
   "metadata": {},
   "outputs": [],
   "source": [
    "df= (\n",
    "    spark.read.csv(\n",
    "        \"../dataset/New/nbs.csv\", \n",
    "        header=True,\n",
    "        inferSchema=True\n",
    "    )\n",
    "    .withColumnRenamed(\"Fac\",\"FAC NO\")\n",
    ")\n",
    "\n",
    "validation= (\n",
    "    spark.read.csv(\n",
    "        \"../dataset/New/boss.csv\", \n",
    "        header=True,\n",
    "        inferSchema=True\n",
    "    )\n",
    "#     .filter(~f.col(\"CRIB_assign\").isin[-400])\n",
    "    .filter(~f.col(\"CRIB_Assigned\").isin([-400]))\n",
    "    .withColumn(\"total_score_cat\",\n",
    "                f.when(f.col(\"Total_Score\")<0,\"below 0\")\n",
    "                 .when(f.col(\"Total_Score\").between(0,40),\"0-40\")\n",
    "#                 .when(f.col(\"Total_Score\").between(10,20),\"10-20\")\n",
    "#                 .when(f.col(\"Total_Score\").between(20,30),\"20-30\")\n",
    "#                 .when(f.col(\"Total_Score\").between(30,40),\"30-40\")\n",
    "                .when(f.col(\"Total_Score\").between(40,50),\"40-50\")\n",
    "                .when(f.col(\"Total_Score\").between(50,60),\"50-60\")\n",
    "                .when(f.col(\"Total_Score\").between(60,70),\"60-70\")\n",
    "                .when(f.col(\"Total_Score\").between(70,80),\"70-80\")\n",
    "                .when(f.col(\"Total_Score\").between(80,90),\"80-90\")\n",
    "                .when(f.col(\"Total_Score\")>=90,\"above90\")\n",
    "               )\n",
    "    .join(df,\"FAC NO\",\"left\")\n",
    ")\n",
    "\n",
    "validation6=(\n",
    "   validation\n",
    "#     .filter(~f.col(\"CRIB_assign\").isin[-400])\n",
    "    .filter(~f.col(\"Credit score\").isin([-400]))\n",
    "    .withColumn(\"Credit_score_cat\",\n",
    "                f.when(f.col(\"Credit score\")<0,\"below 0\")\n",
    "                 .when(f.col(\"Credit score\").between(0,40),\"0-40\")\n",
    "#                 .when(f.col(\"Total_Score\").between(10,20),\"10-20\")\n",
    "#                 .when(f.col(\"Total_Score\").between(20,30),\"20-30\")\n",
    "#                 .when(f.col(\"Total_Score\").between(30,40),\"30-40\")\n",
    "                .when(f.col(\"Credit score\").between(40,50),\"40-50\")\n",
    "                .when(f.col(\"Credit score\").between(50,60),\"50-60\")\n",
    "                .when(f.col(\"Credit score\").between(60,70),\"60-70\")\n",
    "                .when(f.col(\"Credit score\").between(70,80),\"70-80\")\n",
    "                .when(f.col(\"Credit score\").between(80,90),\"80-90\")\n",
    "                .when(f.col(\"Credit score\")>=90,\"above90\")\n",
    "               )\n",
    "   \n",
    ")\n"
   ]
  },
  {
   "cell_type": "code",
   "execution_count": 50,
   "id": "afcdd5ba",
   "metadata": {},
   "outputs": [
    {
     "name": "stdout",
     "output_type": "stream",
     "text": [
      "+-------------------+---+------+-------+--------------------+-------------------+------+---------+-----------+---+----------------+----+---+-------------+----------+---------+---------+----------------+----------------+----------+---------------------+---------------------+---------------+---------------+----------------+------------------+-------------------+---------------+------------+----------------+\n",
      "|             FAC NO|_c0|BRN CD|PROCODE|        CUST_PERMRES|       GUAR_PERMRES|EXP_CD|   DSCR_C|connex_date|DPD|90>=day_contract|good|bad|      Product|Conex Date|Portfolio|TOTAL DUE|TOTAL COLLECTION|Collection Ratio|CRIB_SCORE|CUST_PERMRES_Assigned|GUAR_PERMRES_Assigned|EXP_CD_Assigned|DSCR_C_Assigned|PROCODE_Assigned|     CRIB_Assigned|        Total_Score|total_score_cat|Credit score|Credit_score_cat|\n",
      "+-------------------+---+------+-------+--------------------+-------------------+------+---------+-----------+---+----------------+----+---+-------------+----------+---------+---------+----------------+----------------+----------+---------------------+---------------------+---------------+---------------+----------------+------------------+-------------------+---------------+------------+----------------+\n",
      "|'002500470992050801|  5|    25|    508|  With Billing Proof|       No Guaranter|  35.6|4.7294102| 2022-12-28|  6|               0|   1|  0| Cash in hand|2022-12-28|   284221|   197552|          203521|          1.1505|     42.58|                  5.0|                  0.0|           37.0|            5.0|            15.0|11.922400000000001|            73.9224|          70-80|       75.65|           70-80|\n",
      "|'021200829222050201|  7|   212|    502|  With Billing Proof|       No Guaranter| 49.06|7.1692702| 2022-10-14| 17|               0|   1|  0|Registered 3w|2022-10-14|   280088|   210039|          215514|          0.7942|      40.5|                  5.0|                  0.0|           37.0|            5.0|            12.5|11.340000000000002|              70.84|          70-80|       70.13|           60-70|\n",
      "|'020900402032050801| 10|   209|    508| With Parents/Spouse|               Rent| 78.87|3.0628497| 2022-10-19|  0|               0|   1|  0| Cash in hand|2022-10-19|   756831|   326013|          326013|             1.0|      5.06|                  4.0|                  4.0|          -80.0|            5.0|            15.0|            1.4168|           -50.5832|        below 0|          11|            0-40|\n",
      "|'010200730397050801| 15|   102|    508|  With Billing Proof|       No Guaranter| 41.34|5.7657658| 2022-11-22|  0|               0|   1|  0| Cash in hand|2022-11-22|   288596|   194250|          194250|          1.5297|     65.38|                  5.0|                  0.0|           37.0|            5.0|            15.0|           18.3064|            80.3064|          80-90|       81.35|           80-90|\n",
      "|'009600258276050802| 16|    96|    508|                NULL|       No Guaranter| 84.57|2.1007521| 2022-12-30|  0|               0|   1|  0| Cash in hand|2022-12-30|   667364|   338143|          338143|             1.0|     84.84|                  0.0|                  0.0|          -80.0|            5.0|            15.0|23.755200000000002|           -36.2448|        below 0|          11|            0-40|\n",
      "|'007000844894050201| 22|    70|    502|  With Billing Proof| With Billing Proof| 65.44|6.1192021| 2023-03-27|  0|               0|   1|  0|Registered 3w|2023-03-27|   430857|   245130|          245130|             1.0|      38.0|                  5.0|                 10.0|           30.0|            5.0|            12.5|             10.64|              73.14|          70-80|         #NA|            NULL|\n",
      "|'953700840262050201| 35|  9537|    502|  With Billing Proof| With Billing Proof| 72.48|3.8795779| 2023-03-24|  0|               0|   1|  0|Registered 3w|2023-03-24|   622957|   231984|          231984|             1.0|      40.5|                  5.0|                 10.0|          -80.0|            5.0|            12.5|11.340000000000002|             -36.16|        below 0|         #NA|            NULL|\n",
      "|'953700837540050201| 36|  9537|    502|  With Billing Proof| With Billing Proof|  81.5|9.4011469| 2023-02-08|  0|               0|   1|  0|Registered 3w|2023-02-08|   521629|   234014|          234014|             1.0|      40.5|                  5.0|                 10.0|          -80.0|            5.0|            12.5|11.340000000000002|             -36.16|        below 0|       75.13|           70-80|\n",
      "|'041800841178050201| 39|   418|    502| With Parents/Spouse|With Parents/Spouse| 31.14|2.3660799| 2023-02-17|  0|               0|   1|  0|Registered 3w|2023-02-17|   130420|   232452|          232452|             1.0|     34.25|                  4.0|                  7.8|           37.0|            5.0|            12.5| 9.590000000000002|              75.89|          70-80|       71.56|           70-80|\n",
      "|'041800830732050201| 40|   418|    502|With G S Certificate|With Parents/Spouse|  59.8|1.1197205| 2022-11-03|  0|               0|   1|  0|Registered 3w|2022-11-03|   536583|   312578|          312578|             1.0|      40.5|                  2.0|                  7.8|           35.0|            2.0|            12.5|11.340000000000002|              70.64|          70-80|       65.13|           60-70|\n",
      "|'041800706875050801| 43|   418|    508|With G S Certificate|               Rent|  84.5|4.6075872| 2022-12-01|  0|               0|   1|  0| Cash in hand|2022-12-01|   568175|   338572|          338572|             1.0|     92.83|                  2.0|                  4.0|          -80.0|            5.0|            15.0|25.992400000000004|-28.007599999999996|        below 0|          11|            0-40|\n",
      "|'041800419795050801| 44|   418|    508| With Parents/Spouse|With Parents/Spouse| 14.78|4.3101126| 2023-02-15|  0|               0|   1|  0| Cash in hand|2023-02-15|    19428|   147455|          147455|             1.0|     66.87|                  4.0|                  7.8|           37.0|            5.0|            15.0|18.723600000000005|            87.5236|          80-90|       84.72|           80-90|\n",
      "|'041600845488050801| 45|   416|    508|  With Billing Proof|               Rent|  61.9|3.1803046| 2023-03-24|  0|               0|   1|  0| Cash in hand|2023-03-24|   473939|   267270|          267270|          2.9243|     36.25|                  5.0|                  4.0|           30.0|            5.0|            15.0|             10.15|              69.15|          60-70|         #NA|            NULL|\n",
      "|'041600839694050201| 50|   416|    502|  With Billing Proof|               Rent| 44.91|1.9954769| 2023-02-14|  0|               0|   1|  0|Registered 3w|2023-02-14|   252927|   172040|          172040|             1.0|     81.98|                  5.0|                  4.0|           37.0|            5.0|            12.5|22.954400000000003|            86.4544|          80-90|       82.50|           80-90|\n",
      "|'041600833926050201| 51|   416|    502|  With Billing Proof|       No Guaranter| 34.55|1.3595823| 2022-12-21|  0|               0|   1|  0|Registered 3w|2022-12-21|   165670|   239044|          239044|             1.0|      40.5|                  5.0|                  0.0|           37.0|            3.0|            12.5|11.340000000000002|              68.84|          60-70|       70.13|           60-70|\n",
      "|'041600830561050201| 52|   416|    502|  With Billing Proof|               Rent| 43.42|2.6931191| 2022-11-10|  0|               0|   1|  0|Registered 3w|2022-11-10|   194022|   311906|          311906|             1.0|      45.0|                  5.0|                  4.0|           37.0|            5.0|            12.5|12.600000000000001|               76.1|          70-80|       73.25|           70-80|\n",
      "|'041600815773050802| 53|   416|    508|  With Billing Proof|               Rent| 92.86|1.3202482| 2023-01-24|  0|               0|   1|  0| Cash in hand|2023-01-24|   686715|   327852|          327852|             1.0|      95.5|                  5.0|                  4.0|          -80.0|            3.0|            15.0|26.740000000000002|-26.259999999999998|        below 0|          11|            0-40|\n",
      "|'041600703861050801| 56|   416|    508|  With Billing Proof|       No Guaranter| 33.91|2.6910657| 2022-10-17|  0|               0|   1|  0| Cash in hand|2022-10-17|   144082|   139350|          139350|          1.0376|      89.0|                  5.0|                  0.0|           37.0|            5.0|            15.0|             24.92|              86.92|          80-90|       87.25|           80-90|\n",
      "|'041600701433050801| 57|   416|    508|  With Billing Proof|               Rent| 70.55|2.7675641| 2022-11-22|  0|               0|   1|  0| Cash in hand|2022-11-22|   481133|   354102|          354102|             1.0|     87.37|                  5.0|                  4.0|          -80.0|            5.0|            15.0|24.463600000000003|-26.536399999999997|        below 0|          11|            0-40|\n",
      "|'041500837484050201| 59|   415|    502|  With Billing Proof|               Rent| 81.72|3.3312513| 2023-01-23|  0|               0|   1|  0|Registered 3w|2023-01-23|   504812|   288180|          288180|             1.0|       0.0|                  5.0|                  4.0|          -80.0|            5.0|            12.5|               0.0|              -53.5|        below 0|       76.00|           70-80|\n",
      "+-------------------+---+------+-------+--------------------+-------------------+------+---------+-----------+---+----------------+----+---+-------------+----------+---------+---------+----------------+----------------+----------+---------------------+---------------------+---------------+---------------+----------------+------------------+-------------------+---------------+------------+----------------+\n",
      "only showing top 20 rows\n",
      "\n"
     ]
    }
   ],
   "source": [
    "validation6.show()"
   ]
  },
  {
   "cell_type": "code",
   "execution_count": 52,
   "id": "ee69cd67",
   "metadata": {},
   "outputs": [],
   "source": [
    "validation_group=(validation6\n",
    "                  .groupBy(\"total_score_cat\")\n",
    "                  .agg(\n",
    "                      f.count(\"FAC NO\").alias(\"Total_facility_count\"),\n",
    "                      f.sum(\"90>=day_contract\").alias(\"NPA\"),\n",
    "                      f.sum(\"Portfolio\").alias(\"Portfolio\"),\n",
    "                      f.sum(\"TOTAL COLLECTION\").alias(\"TOTAL COLLECTION\"),\n",
    "                        f.sum(\"TOTAL DUE\").alias(\"TOTAL DUE\")\n",
    "                  )\n",
    "                  .withColumn(\"NPA_rate\",f.col(\"NPA\")/f.col(\"Total_facility_count\"))\n",
    "\n",
    "                  \n",
    "                 )\n",
    "validation_group2=(validation6\n",
    "                   .groupBy(\"total_score_cat\",\"90>=day_contract\")\n",
    "                   .agg(\n",
    "                       f.sum(\"Portfolio\").alias(\"NPL_Portfolio\"))\n",
    "                   .filter(f.col(\"90>=day_contract\")==1)\n",
    "                   .select(\"total_score_cat\",\"NPL_Portfolio\")\n",
    "                   )\n",
    "validation_group3=(\n",
    "    validation_group.join(validation_group2,\"total_score_cat\",\"left\")\n",
    "    .withColumn(\"Total_collection_ratio\",f.col(\"TOTAL COLLECTION\")/f.col(\"TOTAL DUE\"))\n",
    "    .withColumn(\"NPL_ratio\",f.col(\"NPL_Portfolio\")/f.col(\"Portfolio\"))\n",
    ")           "
   ]
  },
  {
   "cell_type": "code",
   "execution_count": 43,
   "id": "0d4dec45",
   "metadata": {},
   "outputs": [
    {
     "name": "stdout",
     "output_type": "stream",
     "text": [
      "+---------------+--------------------+---+----------+----------------+---------+-------------------+-------------+----------------------+-------------------+\n",
      "|total_score_cat|Total_facility_count|NPA| Portfolio|TOTAL COLLECTION|TOTAL DUE|           NPA_rate|NPL_Portfolio|Total_collection_ratio|          NPL_ratio|\n",
      "+---------------+--------------------+---+----------+----------------+---------+-------------------+-------------+----------------------+-------------------+\n",
      "|          40-50|                   1|  0|    362136|          202500|   219375|                0.0|         NULL|    0.9230769230769231|               NULL|\n",
      "|          80-90|                 626| 61| 196350741|       139574808|154682692|0.09744408945686901|     25461209|    0.9023298353250796| 0.1296720800254072|\n",
      "|          60-70|                 301| 49| 101938858|        68693317| 78753364|0.16279069767441862|     19519928|    0.8722588282070084| 0.1914866262284398|\n",
      "|           0-40|                  11|  1|   4972987|         3078072|  3379457|0.09090909090909091|       324368|    0.9108185131516691|0.06522598993321317|\n",
      "|          50-60|                  91| 22|  30670743|        21616862| 25408472|0.24175824175824176|      8277139|    0.8507737891519018|0.26987083423443636|\n",
      "|        below 0|                1810|398|1019057328|       494824143|589629116|0.21988950276243094|    239665309|    0.8392125313567452|0.23518334289432635|\n",
      "|        above90|                 273| 21|  86988586|        64030621| 69651164|0.07692307692307693|      7833618|    0.9193043923860339|0.09005340079904277|\n",
      "|          70-80|                 556| 73| 180666073|       128584804|144527098|0.13129496402877697|     31000218|     0.889693391615737|0.17158848634519222|\n",
      "+---------------+--------------------+---+----------+----------------+---------+-------------------+-------------+----------------------+-------------------+\n",
      "\n"
     ]
    }
   ],
   "source": [
    "validation_group3.show()"
   ]
  },
  {
   "cell_type": "code",
   "execution_count": 53,
   "id": "85508d70",
   "metadata": {},
   "outputs": [],
   "source": [
    "validation_group3.toPandas().to_csv(\"../output/20240126_final_output/validation_new model.csv\")"
   ]
  },
  {
   "cell_type": "code",
   "execution_count": 55,
   "id": "e268d520",
   "metadata": {},
   "outputs": [],
   "source": [
    "validation_group=(validation6\n",
    "                  .groupBy(\"Credit_score_cat\")\n",
    "                  .agg(\n",
    "                      f.count(\"FAC NO\").alias(\"Total_facility_count\"),\n",
    "                      f.sum(\"90>=day_contract\").alias(\"NPA\"),\n",
    "                      f.sum(\"Portfolio\").alias(\"Portfolio\"),\n",
    "                      f.sum(\"TOTAL COLLECTION\").alias(\"TOTAL COLLECTION\"),\n",
    "                        f.sum(\"TOTAL DUE\").alias(\"TOTAL DUE\")\n",
    "                  )\n",
    "                  .withColumn(\"NPA_rate\",f.col(\"NPA\")/f.col(\"Total_facility_count\"))\n",
    "\n",
    "                  \n",
    "                 )\n",
    "validation_group2=(validation6\n",
    "                   .groupBy(\"Credit_score_cat\",\"90>=day_contract\")\n",
    "                   .agg(\n",
    "                       f.sum(\"Portfolio\").alias(\"NPL_Portfolio\"))\n",
    "                   .filter(f.col(\"90>=day_contract\")==1)\n",
    "                   .select(\"Credit_score_cat\",\"NPL_Portfolio\")\n",
    "                   )\n",
    "validation_group3=(\n",
    "    validation_group.join(validation_group2,\"Credit_score_cat\",\"left\")\n",
    "    .withColumn(\"Total_collection_ratio\",f.col(\"TOTAL COLLECTION\")/f.col(\"TOTAL DUE\"))\n",
    "    .withColumn(\"NPL_ratio\",f.col(\"NPL_Portfolio\")/f.col(\"Portfolio\"))\n",
    ")           "
   ]
  },
  {
   "cell_type": "code",
   "execution_count": 56,
   "id": "81bc9f35",
   "metadata": {},
   "outputs": [],
   "source": [
    "validation_group3.toPandas().to_csv(\"../output/20240126_final_output/validation_old_model.csv\")"
   ]
  },
  {
   "cell_type": "code",
   "execution_count": null,
   "id": "a6ce04dc",
   "metadata": {},
   "outputs": [],
   "source": []
  }
 ],
 "metadata": {
  "kernelspec": {
   "display_name": "Python 3 (ipykernel)",
   "language": "python",
   "name": "python3"
  },
  "language_info": {
   "codemirror_mode": {
    "name": "ipython",
    "version": 3
   },
   "file_extension": ".py",
   "mimetype": "text/x-python",
   "name": "python",
   "nbconvert_exporter": "python",
   "pygments_lexer": "ipython3",
   "version": "3.11.4"
  }
 },
 "nbformat": 4,
 "nbformat_minor": 5
}
