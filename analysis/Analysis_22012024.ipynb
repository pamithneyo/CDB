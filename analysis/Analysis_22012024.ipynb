{
 "cells": [
  {
   "cell_type": "code",
   "execution_count": 58,
   "id": "6905238f",
   "metadata": {},
   "outputs": [],
   "source": [
    "from pyspark.sql import SparkSession\n",
    "from pyspark.sql import functions as f\n",
    "from pyspark.sql.window import Window\n",
    "from sklearn.preprocessing import LabelEncoder\n",
    "from sklearn.feature_selection import chi2\n",
    "import matplotlib.pyplot as plt\n",
    "import pandas as pd\n",
    "import numpy as np\n",
    "import math\n",
    "spark = SparkSession.builder \\\n",
    "    .appName(\"Analysis\") \\\n",
    "    .getOrCreate()"
   ]
  },
  {
   "cell_type": "code",
   "execution_count": 59,
   "id": "dfea310f",
   "metadata": {},
   "outputs": [],
   "source": [
    "table1= (\n",
    "    spark.read.csv(\n",
    "        \"../dataset/New/final_set2.csv\", \n",
    "        header=True,\n",
    "        inferSchema=True\n",
    "    )\n",
    "    .withColumn(\"good\", f.when(f.col(\"90>=day_contract\") == 0, 1).otherwise(0))\n",
    "    .withColumn(\"bad\", f.when(f.col(\"90>=day_contract\") == 1, 1).otherwise(0))\n",
    "    .select(\n",
    "        \"FAC NO\",\n",
    "        \"BRN CD\",\n",
    "        \"PROCODE\",\n",
    "        \"CUST_PERMRES\",\n",
    "        \"GUAR_PERMRES\",\n",
    "        \"EXP_CD\",\n",
    "        \"DSCR_C\",\n",
    "        \"connex_date\",\n",
    "        \"DPD\",\n",
    "        \"90>=day_contract\",\n",
    "        \"good\",\n",
    "        \"bad\"\n",
    "    )\n",
    "# .withColumn(\"GUAR_PERMRES\", f.when((f.col(\"GUAR_PERMRES\").isNull())&(f.col(\"DSCR_C\").isNotNull()), \"No Guaranter\").otherwise(f.col(\"GUAR_PERMRES\")))\n",
    ".filter(f.col(\"90>=day_contract\").isNotNull())\n",
    ".filter(f.col(\"connex_date\").between(\"2022-04-01\",\"2023-04-01\"))\n",
    ".withColumn(\"Product\",f.when(f.col(\"PROCODE\")==502,\"Registered 3w\").otherwise(\"Cash in hand\"))\n",
    ".withColumn(\"CUST_PERMRES\",\n",
    "            f.when(f.col(\"CUST_PERMRES\")==\"With Parents/spouse\",\n",
    "                   \"With Parents/Spouse\"\n",
    "                  ).otherwise(f.col(\"CUST_PERMRES\")))\n",
    ".withColumn(\"GUAR_PERMRES\",\n",
    "            f.when(f.col(\"GUAR_PERMRES\")==\"With Parents/spouse\",\n",
    "                   \"With Parents/Spouse\"\n",
    "                  ).otherwise(f.col(\"GUAR_PERMRES\")))\n",
    ".withColumn(\"GUAR_PERMRES\",(f.when(\n",
    "    (f.col(\"GUAR_PERMRES\").isNull())\n",
    "    &(f.col(\"EXP_CD\").isNotNull())\n",
    "    &(f.col(\"DSCR_C\").isNotNull()),\"No Guaranter\").otherwise(f.col(\"GUAR_PERMRES\")))\n",
    ")  \n",
    ")\n",
    "table2=(\n",
    "    spark.read.csv(\n",
    "        \"../dataset/New/detail_report.csv\", \n",
    "        header=True,\n",
    "        inferSchema=True\n",
    "    ).select(\n",
    "        \"ACCOUNT NUMBER\",\n",
    "        \"Conex Date\",\n",
    "        \"Portfolio\",\n",
    "        \"TOTAL DUE\",\n",
    "        \"TOTAL COLLECTION\",\n",
    "        \"Collection Ratio\"\n",
    "    )\n",
    "    .withColumnRenamed(\"ACCOUNT NUMBER\",\"FAC NO\")\n",
    "    .filter(f.col(\"Conex Date\").between(\"2022-04-01\",\"2023-04-01\"))\n",
    "    )\n",
    "table3=(\n",
    "    spark.read.csv(\n",
    "        \"../dataset/New/finalcrib.csv\", \n",
    "        header=True,\n",
    "        inferSchema=True\n",
    "    ).select(\n",
    "        \"Fac\",\n",
    "        \"CRIB score\"\n",
    "    )\n",
    "    .withColumnRenamed(\"Fac\",\"FAC NO\")\n",
    "    \n",
    "    )\n"
   ]
  },
  {
   "cell_type": "code",
   "execution_count": 60,
   "id": "a5ec86b0",
   "metadata": {},
   "outputs": [
    {
     "name": "stdout",
     "output_type": "stream",
     "text": [
      "+-------------------+----------+\n",
      "|             FAC NO|CRIB score|\n",
      "+-------------------+----------+\n",
      "|'041600794120050202|  -400.000|\n",
      "|'006100798148050201|  -400.000|\n",
      "|'011500798116050201|  -400.000|\n",
      "|'011500044709050202|  -400.000|\n",
      "|'013800796663050202|  -400.000|\n",
      "|'013800796663050201|  -400.000|\n",
      "|'007000797964050801|  -400.000|\n",
      "|'017500798051050201|  -400.000|\n",
      "|'005000413648050801|    50.950|\n",
      "|'006800796830050202|  -400.000|\n",
      "|'002900711921050801|  -400.000|\n",
      "|'005200797575050202|  -400.000|\n",
      "|'005000622866050802|  -400.000|\n",
      "|'000600798195050201|  -400.000|\n",
      "|'013900797777050201|  -400.000|\n",
      "|'003400798039050202|  -400.000|\n",
      "|'005000797918050201|  -400.000|\n",
      "|'000800798010050201|  -400.000|\n",
      "|'000300798074050201|  -400.000|\n",
      "|'000600798054050201|  -400.000|\n",
      "+-------------------+----------+\n",
      "only showing top 20 rows\n",
      "\n"
     ]
    }
   ],
   "source": [
    "table3.show()"
   ]
  },
  {
   "cell_type": "code",
   "execution_count": 61,
   "id": "dbfdbab7",
   "metadata": {},
   "outputs": [],
   "source": [
    "master_table=(\n",
    "    table1\n",
    "    .join(table2,\"FAC NO\",\"left\")\n",
    "    .join(table3,\"FAC NO\",\"left\")\n",
    "    .filter(f.col(\"Conex Date\").between(\"2022-04-01\",\"2023-04-01\"))\n",
    ")"
   ]
  },
  {
   "cell_type": "code",
   "execution_count": 62,
   "id": "d36d8e71",
   "metadata": {},
   "outputs": [
    {
     "name": "stdout",
     "output_type": "stream",
     "text": [
      "+-------------------+------+-------+--------------------+-------------------+------+---------+-----------+---+----------------+----+---+-------------+----------+---------+---------+----------------+----------------+----------+\n",
      "|             FAC NO|BRN CD|PROCODE|        CUST_PERMRES|       GUAR_PERMRES|EXP_CD|   DSCR_C|connex_date|DPD|90>=day_contract|good|bad|      Product|Conex Date|Portfolio|TOTAL DUE|TOTAL COLLECTION|Collection Ratio|CRIB score|\n",
      "+-------------------+------+-------+--------------------+-------------------+------+---------+-----------+---+----------------+----+---+-------------+----------+---------+---------+----------------+----------------+----------+\n",
      "|'014200183766050801|   142|    508|  With Billing Proof|       No Guaranter| 32.04|3.2785542| 2022-06-29| 11|               0|   1|  0| Cash in hand|2022-06-29|  143,315|  445,127|         513,619|         274.17%|  -400.000|\n",
      "|'041200813926050803|   412|    508|                Rent|               Rent|  31.2|5.3452116| 2022-05-23|  6|               0|   1|  0| Cash in hand|2022-05-23|  332,284|  229,420|         262,615|          96.49%|  -400.000|\n",
      "|'002100432865050802|    21|    508|  With Billing Proof| With Billing Proof| 93.56|1.5796291| 2022-06-23|  6|               0|   1|  0| Cash in hand|2022-06-23|  738,432|  579,509|         635,137|          64.68%|  -400.000|\n",
      "|'005300797207050201|    53|    502|  With Billing Proof| With Billing Proof|  55.4| 3.131524| 2022-06-22| 11|               0|   1|  0|Registered 3w|2022-06-22|  241,466|  354,666|         387,730|           3.64%|  -400.000|\n",
      "|'006500745360050801|    65|    508|  With Billing Proof|       No Guaranter| 61.21|4.4687744| 2022-07-04| 27|               0|   1|  0| Cash in hand|2022-07-04|  318,704|  330,540|         346,044|          53.22%|  -400.000|\n",
      "|'002500470992050801|    25|    508|  With Billing Proof|       No Guaranter|  35.6|4.7294102| 2022-12-28|  6|               0|   1|  0| Cash in hand|2022-12-28|  284,221|  197,552|         203,521|         115.05%|    42.580|\n",
      "|'006200168092050801|    62|    508|  With Billing Proof|               Rent| 97.74|1.0136436| 2022-07-15|  6|               0|   1|  0| Cash in hand|2022-07-15|  461,859|  795,163|         816,928|          62.87%|  -400.000|\n",
      "|'021200829222050201|   212|    502|  With Billing Proof|       No Guaranter| 49.06|7.1692702| 2022-10-14| 17|               0|   1|  0|Registered 3w|2022-10-14|  280,088|  210,039|         215,514|          79.42%|    40.500|\n",
      "|'004600319266050801|    46|    508|  With Billing Proof|With Parents/Spouse| 94.16| 3.858918| 2022-06-16|  0|               0|   1|  0| Cash in hand|2022-06-16|  723,765|  492,366|         497,886|         199.71%|  -400.000|\n",
      "|'004000220361050201|    40|    502|  With Billing Proof|       No Guaranter| 77.96|4.0120361| 2022-09-20| 71|               0|   1|  0|Registered 3w|2022-09-20|  697,266|  383,241|         383,801|           0.00%|  -400.000|\n",
      "|'020900402032050801|   209|    508| With Parents/Spouse|               Rent| 78.87|3.0628497| 2022-10-19|  0|               0|   1|  0| Cash in hand|2022-10-19|  756,831|  326,013|         326,013|         100.00%|     5.060|\n",
      "|'019000826710050201|   190|    502|With G S Certificate| With Billing Proof| 33.71|5.5288149| 2022-08-31|  0|               0|   1|  0|Registered 3w|2022-08-31|  210,305|  261,358|         261,358|         100.00%|  -400.000|\n",
      "|'014200668924050801|   142|    508| With Parents/Spouse|With Parents/Spouse| 60.67|4.8097945| 2022-07-22|  0|               0|   1|  0| Cash in hand|2022-07-22|  440,762|  411,660|         411,660|         100.00%|  -400.000|\n",
      "|'014000809097050202|   140|    502|With G S Certificate|With Parents/Spouse| 90.76| 8.841733| 2022-05-19|  0|               0|   1|  0|Registered 3w|2022-05-19|  512,537|  470,700|         470,700|         100.00%|  -400.000|\n",
      "|'013000470584050201|   130|    502| With Parents/Spouse|With Parents/Spouse| 88.04|2.7663793| 2022-05-09|  0|               0|   1|  0|Registered 3w|2022-05-09|  514,020|  433,780|         433,780|         220.78%|  -400.000|\n",
      "|'010200730397050801|   102|    508|  With Billing Proof|       No Guaranter| 41.34|5.7657658| 2022-11-22|  0|               0|   1|  0| Cash in hand|2022-11-22|  288,596|  194,250|         194,250|         152.97%|    65.380|\n",
      "|'009600258276050802|    96|    508|                NULL|       No Guaranter| 84.57|2.1007521| 2022-12-30|  0|               0|   1|  0| Cash in hand|2022-12-30|  667,364|  338,143|         338,143|         100.00%|    84.840|\n",
      "|'009300806496050201|    93|    502| With Parents/Spouse|With Parents/Spouse|  30.9|4.1538589| 2022-04-21|  0|               0|   1|  0|Registered 3w|2022-04-21|  147,892|  252,777|         252,777|         100.00%|  -400.000|\n",
      "|'009300592066050202|    93|    502|With G S Certificate| With Billing Proof| 90.42|3.0055818| 2022-06-16|  0|               0|   1|  0|Registered 3w|2022-06-16|  314,498|  442,510|         442,510|         138.29%|  -400.000|\n",
      "|'008700818537050202|    87|    502|  With Billing Proof|               Rent|  98.8|7.5726979| 2022-06-15|  0|               0|   1|  0|Registered 3w|2022-06-15|  466,589|  376,352|         376,352|         204.99%|  -400.000|\n",
      "+-------------------+------+-------+--------------------+-------------------+------+---------+-----------+---+----------------+----+---+-------------+----------+---------+---------+----------------+----------------+----------+\n",
      "only showing top 20 rows\n",
      "\n"
     ]
    }
   ],
   "source": [
    "master_table.show()"
   ]
  },
  {
   "cell_type": "code",
   "execution_count": 63,
   "id": "399f5ca6",
   "metadata": {},
   "outputs": [
    {
     "name": "stdout",
     "output_type": "stream",
     "text": [
      "+----------------+\n",
      "|90>=day_contract|\n",
      "+----------------+\n",
      "|               0|\n",
      "|               1|\n",
      "+----------------+\n",
      "\n"
     ]
    }
   ],
   "source": [
    "master_table.select(\"90>=day_contract\").distinct().show()"
   ]
  },
  {
   "cell_type": "code",
   "execution_count": 64,
   "id": "84ac687e",
   "metadata": {},
   "outputs": [],
   "source": [
    "master_table_pd=master_table.toPandas()"
   ]
  },
  {
   "cell_type": "code",
   "execution_count": 65,
   "id": "6829b0ed",
   "metadata": {},
   "outputs": [],
   "source": [
    "master_table_pd.to_csv(\"../output/last/master_table3.csv\")"
   ]
  },
  {
   "cell_type": "markdown",
   "id": "eed754a9",
   "metadata": {},
   "source": [
    "## Analysis"
   ]
  },
  {
   "cell_type": "code",
   "execution_count": 66,
   "id": "efc7400a",
   "metadata": {},
   "outputs": [],
   "source": [
    "master_table_new= (\n",
    "    spark.read.csv(\n",
    "        \"../dataset/New/final_set2.csv\", \n",
    "        header=True,\n",
    "        inferSchema=True\n",
    "    )\n",
    ")"
   ]
  },
  {
   "cell_type": "code",
   "execution_count": 67,
   "id": "a1eb5f95",
   "metadata": {},
   "outputs": [
    {
     "data": {
      "text/plain": [
       "14927"
      ]
     },
     "execution_count": 67,
     "metadata": {},
     "output_type": "execute_result"
    }
   ],
   "source": [
    "master_table_new.count()"
   ]
  },
  {
   "cell_type": "markdown",
   "id": "b75f4089",
   "metadata": {},
   "source": [
    "# Taking good/bad as target variable(90 DPD Contracts)"
   ]
  },
  {
   "cell_type": "markdown",
   "id": "773adaef",
   "metadata": {},
   "source": [
    "### Product wise"
   ]
  },
  {
   "cell_type": "code",
   "execution_count": 484,
   "id": "ac107d61",
   "metadata": {},
   "outputs": [],
   "source": [
    "master_table_new_product=(\n",
    "     master_table_new\n",
    ")\n",
    "Product_wise= (\n",
    "        master_table_new_product\n",
    "        .groupBy(\"Product\")\n",
    "        .agg(\n",
    "            f.sum(\"good\").alias(\"good\"),\n",
    "            f.sum(\"bad\").alias(\"bad\")\n",
    "        )\n",
    "    )\n",
    "total_good=(\n",
    "        Product_wise\n",
    "        .agg(f.sum(\"good\").alias(\"good\"))\n",
    "        .collect()[0]['good']\n",
    "    )\n",
    "total_bad= (\n",
    "        Product_wise\n",
    "        .agg(f.sum(\"bad\").alias(\"bad\"))\n",
    "        .collect()[0]['bad']\n",
    "    )\n",
    "\n",
    "Product_wise=(\n",
    "    Product_wise\n",
    "    .withColumn(\n",
    "        \"Total_rate\",\n",
    "        ((f.col(\"good\")+f.col(\"bad\"))/(total_good+total_bad))\n",
    "        )\n",
    "    .withColumn(\n",
    "        \"good_rate\",\n",
    "        f.col(\"good\")/total_good    \n",
    "    )\n",
    "    .withColumn(\n",
    "        \"bad_rate\",\n",
    "        f.col(\"bad\")/total_bad   \n",
    "    )\n",
    "    .withColumn(\n",
    "        \"odd\",\n",
    "        f.col(\"good\")/f.col(\"bad\")  \n",
    "    )\n",
    "    .withColumn(\n",
    "    \"IV\",\n",
    "    (\n",
    "        ((f.col(\"good\") / total_good) - (f.col(\"bad\") / total_bad)) *\n",
    "        f.ln((f.col(\"good\") / total_good) / (f.col(\"bad\") / total_bad))\n",
    "    )\n",
    ")\n",
    "    .withColumn(\n",
    "       \"good_rate_of_sub_cat\",\n",
    "    f.col(\"good\") / (f.col(\"good\") + f.col(\"bad\"))\n",
    "    )\n",
    "    .orderBy(\"good_rate_of_sub_cat\")\n",
    ")\n",
    "\n",
    "# Iv_value_Product_wise= 0.029287+0.058048\n",
    "Iv_value_Product_wise= 0.031372+0.048661"
   ]
  },
  {
   "cell_type": "code",
   "execution_count": 485,
   "id": "21c9d059",
   "metadata": {},
   "outputs": [
    {
     "name": "stdout",
     "output_type": "stream",
     "text": [
      "+-------------+\n",
      "|      Product|\n",
      "+-------------+\n",
      "|Registered 3w|\n",
      "| Cash in hand|\n",
      "+-------------+\n",
      "\n"
     ]
    }
   ],
   "source": [
    "master_table_new_product.select(\"Product\").distinct().show()"
   ]
  },
  {
   "cell_type": "code",
   "execution_count": 486,
   "id": "0a96cf2c",
   "metadata": {},
   "outputs": [
    {
     "data": {
      "text/plain": [
       "1374"
      ]
     },
     "execution_count": 486,
     "metadata": {},
     "output_type": "execute_result"
    }
   ],
   "source": [
    "total_bad"
   ]
  },
  {
   "cell_type": "code",
   "execution_count": 487,
   "id": "c66943ca",
   "metadata": {},
   "outputs": [
    {
     "data": {
      "text/plain": [
       "6278"
      ]
     },
     "execution_count": 487,
     "metadata": {},
     "output_type": "execute_result"
    }
   ],
   "source": [
    "total_good"
   ]
  },
  {
   "cell_type": "code",
   "execution_count": 488,
   "id": "6f2dd764",
   "metadata": {},
   "outputs": [
    {
     "data": {
      "text/html": [
       "<div>\n",
       "<style scoped>\n",
       "    .dataframe tbody tr th:only-of-type {\n",
       "        vertical-align: middle;\n",
       "    }\n",
       "\n",
       "    .dataframe tbody tr th {\n",
       "        vertical-align: top;\n",
       "    }\n",
       "\n",
       "    .dataframe thead th {\n",
       "        text-align: right;\n",
       "    }\n",
       "</style>\n",
       "<table border=\"1\" class=\"dataframe\">\n",
       "  <thead>\n",
       "    <tr style=\"text-align: right;\">\n",
       "      <th></th>\n",
       "      <th>Product</th>\n",
       "      <th>good</th>\n",
       "      <th>bad</th>\n",
       "      <th>Total_rate</th>\n",
       "      <th>good_rate</th>\n",
       "      <th>bad_rate</th>\n",
       "      <th>odd</th>\n",
       "      <th>IV</th>\n",
       "      <th>good_rate_of_sub_cat</th>\n",
       "    </tr>\n",
       "  </thead>\n",
       "  <tbody>\n",
       "    <tr>\n",
       "      <th>0</th>\n",
       "      <td>Registered 3w</td>\n",
       "      <td>3376</td>\n",
       "      <td>928</td>\n",
       "      <td>0.562467</td>\n",
       "      <td>0.537751</td>\n",
       "      <td>0.6754</td>\n",
       "      <td>3.637931</td>\n",
       "      <td>0.031372</td>\n",
       "      <td>0.784387</td>\n",
       "    </tr>\n",
       "    <tr>\n",
       "      <th>1</th>\n",
       "      <td>Cash in hand</td>\n",
       "      <td>2902</td>\n",
       "      <td>446</td>\n",
       "      <td>0.437533</td>\n",
       "      <td>0.462249</td>\n",
       "      <td>0.3246</td>\n",
       "      <td>6.506726</td>\n",
       "      <td>0.048661</td>\n",
       "      <td>0.866786</td>\n",
       "    </tr>\n",
       "  </tbody>\n",
       "</table>\n",
       "</div>"
      ],
      "text/plain": [
       "         Product  good  bad  Total_rate  good_rate  bad_rate       odd  \\\n",
       "0  Registered 3w  3376  928    0.562467   0.537751    0.6754  3.637931   \n",
       "1   Cash in hand  2902  446    0.437533   0.462249    0.3246  6.506726   \n",
       "\n",
       "         IV  good_rate_of_sub_cat  \n",
       "0  0.031372              0.784387  \n",
       "1  0.048661              0.866786  "
      ]
     },
     "execution_count": 488,
     "metadata": {},
     "output_type": "execute_result"
    }
   ],
   "source": [
    "Product_wise.toPandas()"
   ]
  },
  {
   "cell_type": "code",
   "execution_count": 489,
   "id": "a39f1f2c",
   "metadata": {},
   "outputs": [
    {
     "ename": "PermissionError",
     "evalue": "[Errno 13] Permission denied: '../output/last/product_wise_final.csv'",
     "output_type": "error",
     "traceback": [
      "\u001b[1;31m---------------------------------------------------------------------------\u001b[0m",
      "\u001b[1;31mPermissionError\u001b[0m                           Traceback (most recent call last)",
      "Cell \u001b[1;32mIn[489], line 1\u001b[0m\n\u001b[1;32m----> 1\u001b[0m Product_wise\u001b[38;5;241m.\u001b[39mtoPandas()\u001b[38;5;241m.\u001b[39mto_csv(\u001b[38;5;124m\"\u001b[39m\u001b[38;5;124m../output/last/product_wise_final.csv\u001b[39m\u001b[38;5;124m\"\u001b[39m)\n",
      "File \u001b[1;32m~\\AppData\\Local\\anaconda3\\Lib\\site-packages\\pandas\\util\\_decorators.py:211\u001b[0m, in \u001b[0;36mdeprecate_kwarg.<locals>._deprecate_kwarg.<locals>.wrapper\u001b[1;34m(*args, **kwargs)\u001b[0m\n\u001b[0;32m    209\u001b[0m     \u001b[38;5;28;01melse\u001b[39;00m:\n\u001b[0;32m    210\u001b[0m         kwargs[new_arg_name] \u001b[38;5;241m=\u001b[39m new_arg_value\n\u001b[1;32m--> 211\u001b[0m \u001b[38;5;28;01mreturn\u001b[39;00m func(\u001b[38;5;241m*\u001b[39margs, \u001b[38;5;241m*\u001b[39m\u001b[38;5;241m*\u001b[39mkwargs)\n",
      "File \u001b[1;32m~\\AppData\\Local\\anaconda3\\Lib\\site-packages\\pandas\\core\\generic.py:3720\u001b[0m, in \u001b[0;36mNDFrame.to_csv\u001b[1;34m(self, path_or_buf, sep, na_rep, float_format, columns, header, index, index_label, mode, encoding, compression, quoting, quotechar, lineterminator, chunksize, date_format, doublequote, escapechar, decimal, errors, storage_options)\u001b[0m\n\u001b[0;32m   3709\u001b[0m df \u001b[38;5;241m=\u001b[39m \u001b[38;5;28mself\u001b[39m \u001b[38;5;28;01mif\u001b[39;00m \u001b[38;5;28misinstance\u001b[39m(\u001b[38;5;28mself\u001b[39m, ABCDataFrame) \u001b[38;5;28;01melse\u001b[39;00m \u001b[38;5;28mself\u001b[39m\u001b[38;5;241m.\u001b[39mto_frame()\n\u001b[0;32m   3711\u001b[0m formatter \u001b[38;5;241m=\u001b[39m DataFrameFormatter(\n\u001b[0;32m   3712\u001b[0m     frame\u001b[38;5;241m=\u001b[39mdf,\n\u001b[0;32m   3713\u001b[0m     header\u001b[38;5;241m=\u001b[39mheader,\n\u001b[1;32m   (...)\u001b[0m\n\u001b[0;32m   3717\u001b[0m     decimal\u001b[38;5;241m=\u001b[39mdecimal,\n\u001b[0;32m   3718\u001b[0m )\n\u001b[1;32m-> 3720\u001b[0m \u001b[38;5;28;01mreturn\u001b[39;00m DataFrameRenderer(formatter)\u001b[38;5;241m.\u001b[39mto_csv(\n\u001b[0;32m   3721\u001b[0m     path_or_buf,\n\u001b[0;32m   3722\u001b[0m     lineterminator\u001b[38;5;241m=\u001b[39mlineterminator,\n\u001b[0;32m   3723\u001b[0m     sep\u001b[38;5;241m=\u001b[39msep,\n\u001b[0;32m   3724\u001b[0m     encoding\u001b[38;5;241m=\u001b[39mencoding,\n\u001b[0;32m   3725\u001b[0m     errors\u001b[38;5;241m=\u001b[39merrors,\n\u001b[0;32m   3726\u001b[0m     compression\u001b[38;5;241m=\u001b[39mcompression,\n\u001b[0;32m   3727\u001b[0m     quoting\u001b[38;5;241m=\u001b[39mquoting,\n\u001b[0;32m   3728\u001b[0m     columns\u001b[38;5;241m=\u001b[39mcolumns,\n\u001b[0;32m   3729\u001b[0m     index_label\u001b[38;5;241m=\u001b[39mindex_label,\n\u001b[0;32m   3730\u001b[0m     mode\u001b[38;5;241m=\u001b[39mmode,\n\u001b[0;32m   3731\u001b[0m     chunksize\u001b[38;5;241m=\u001b[39mchunksize,\n\u001b[0;32m   3732\u001b[0m     quotechar\u001b[38;5;241m=\u001b[39mquotechar,\n\u001b[0;32m   3733\u001b[0m     date_format\u001b[38;5;241m=\u001b[39mdate_format,\n\u001b[0;32m   3734\u001b[0m     doublequote\u001b[38;5;241m=\u001b[39mdoublequote,\n\u001b[0;32m   3735\u001b[0m     escapechar\u001b[38;5;241m=\u001b[39mescapechar,\n\u001b[0;32m   3736\u001b[0m     storage_options\u001b[38;5;241m=\u001b[39mstorage_options,\n\u001b[0;32m   3737\u001b[0m )\n",
      "File \u001b[1;32m~\\AppData\\Local\\anaconda3\\Lib\\site-packages\\pandas\\util\\_decorators.py:211\u001b[0m, in \u001b[0;36mdeprecate_kwarg.<locals>._deprecate_kwarg.<locals>.wrapper\u001b[1;34m(*args, **kwargs)\u001b[0m\n\u001b[0;32m    209\u001b[0m     \u001b[38;5;28;01melse\u001b[39;00m:\n\u001b[0;32m    210\u001b[0m         kwargs[new_arg_name] \u001b[38;5;241m=\u001b[39m new_arg_value\n\u001b[1;32m--> 211\u001b[0m \u001b[38;5;28;01mreturn\u001b[39;00m func(\u001b[38;5;241m*\u001b[39margs, \u001b[38;5;241m*\u001b[39m\u001b[38;5;241m*\u001b[39mkwargs)\n",
      "File \u001b[1;32m~\\AppData\\Local\\anaconda3\\Lib\\site-packages\\pandas\\io\\formats\\format.py:1189\u001b[0m, in \u001b[0;36mDataFrameRenderer.to_csv\u001b[1;34m(self, path_or_buf, encoding, sep, columns, index_label, mode, compression, quoting, quotechar, lineterminator, chunksize, date_format, doublequote, escapechar, errors, storage_options)\u001b[0m\n\u001b[0;32m   1168\u001b[0m     created_buffer \u001b[38;5;241m=\u001b[39m \u001b[38;5;28;01mFalse\u001b[39;00m\n\u001b[0;32m   1170\u001b[0m csv_formatter \u001b[38;5;241m=\u001b[39m CSVFormatter(\n\u001b[0;32m   1171\u001b[0m     path_or_buf\u001b[38;5;241m=\u001b[39mpath_or_buf,\n\u001b[0;32m   1172\u001b[0m     lineterminator\u001b[38;5;241m=\u001b[39mlineterminator,\n\u001b[1;32m   (...)\u001b[0m\n\u001b[0;32m   1187\u001b[0m     formatter\u001b[38;5;241m=\u001b[39m\u001b[38;5;28mself\u001b[39m\u001b[38;5;241m.\u001b[39mfmt,\n\u001b[0;32m   1188\u001b[0m )\n\u001b[1;32m-> 1189\u001b[0m csv_formatter\u001b[38;5;241m.\u001b[39msave()\n\u001b[0;32m   1191\u001b[0m \u001b[38;5;28;01mif\u001b[39;00m created_buffer:\n\u001b[0;32m   1192\u001b[0m     \u001b[38;5;28;01massert\u001b[39;00m \u001b[38;5;28misinstance\u001b[39m(path_or_buf, StringIO)\n",
      "File \u001b[1;32m~\\AppData\\Local\\anaconda3\\Lib\\site-packages\\pandas\\io\\formats\\csvs.py:241\u001b[0m, in \u001b[0;36mCSVFormatter.save\u001b[1;34m(self)\u001b[0m\n\u001b[0;32m    237\u001b[0m \u001b[38;5;250m\u001b[39m\u001b[38;5;124;03m\"\"\"\u001b[39;00m\n\u001b[0;32m    238\u001b[0m \u001b[38;5;124;03mCreate the writer & save.\u001b[39;00m\n\u001b[0;32m    239\u001b[0m \u001b[38;5;124;03m\"\"\"\u001b[39;00m\n\u001b[0;32m    240\u001b[0m \u001b[38;5;66;03m# apply compression and byte/text conversion\u001b[39;00m\n\u001b[1;32m--> 241\u001b[0m \u001b[38;5;28;01mwith\u001b[39;00m get_handle(\n\u001b[0;32m    242\u001b[0m     \u001b[38;5;28mself\u001b[39m\u001b[38;5;241m.\u001b[39mfilepath_or_buffer,\n\u001b[0;32m    243\u001b[0m     \u001b[38;5;28mself\u001b[39m\u001b[38;5;241m.\u001b[39mmode,\n\u001b[0;32m    244\u001b[0m     encoding\u001b[38;5;241m=\u001b[39m\u001b[38;5;28mself\u001b[39m\u001b[38;5;241m.\u001b[39mencoding,\n\u001b[0;32m    245\u001b[0m     errors\u001b[38;5;241m=\u001b[39m\u001b[38;5;28mself\u001b[39m\u001b[38;5;241m.\u001b[39merrors,\n\u001b[0;32m    246\u001b[0m     compression\u001b[38;5;241m=\u001b[39m\u001b[38;5;28mself\u001b[39m\u001b[38;5;241m.\u001b[39mcompression,\n\u001b[0;32m    247\u001b[0m     storage_options\u001b[38;5;241m=\u001b[39m\u001b[38;5;28mself\u001b[39m\u001b[38;5;241m.\u001b[39mstorage_options,\n\u001b[0;32m    248\u001b[0m ) \u001b[38;5;28;01mas\u001b[39;00m handles:\n\u001b[0;32m    249\u001b[0m \n\u001b[0;32m    250\u001b[0m     \u001b[38;5;66;03m# Note: self.encoding is irrelevant here\u001b[39;00m\n\u001b[0;32m    251\u001b[0m     \u001b[38;5;28mself\u001b[39m\u001b[38;5;241m.\u001b[39mwriter \u001b[38;5;241m=\u001b[39m csvlib\u001b[38;5;241m.\u001b[39mwriter(\n\u001b[0;32m    252\u001b[0m         handles\u001b[38;5;241m.\u001b[39mhandle,\n\u001b[0;32m    253\u001b[0m         lineterminator\u001b[38;5;241m=\u001b[39m\u001b[38;5;28mself\u001b[39m\u001b[38;5;241m.\u001b[39mlineterminator,\n\u001b[1;32m   (...)\u001b[0m\n\u001b[0;32m    258\u001b[0m         quotechar\u001b[38;5;241m=\u001b[39m\u001b[38;5;28mself\u001b[39m\u001b[38;5;241m.\u001b[39mquotechar,\n\u001b[0;32m    259\u001b[0m     )\n\u001b[0;32m    261\u001b[0m     \u001b[38;5;28mself\u001b[39m\u001b[38;5;241m.\u001b[39m_save()\n",
      "File \u001b[1;32m~\\AppData\\Local\\anaconda3\\Lib\\site-packages\\pandas\\io\\common.py:856\u001b[0m, in \u001b[0;36mget_handle\u001b[1;34m(path_or_buf, mode, encoding, compression, memory_map, is_text, errors, storage_options)\u001b[0m\n\u001b[0;32m    851\u001b[0m \u001b[38;5;28;01melif\u001b[39;00m \u001b[38;5;28misinstance\u001b[39m(handle, \u001b[38;5;28mstr\u001b[39m):\n\u001b[0;32m    852\u001b[0m     \u001b[38;5;66;03m# Check whether the filename is to be opened in binary mode.\u001b[39;00m\n\u001b[0;32m    853\u001b[0m     \u001b[38;5;66;03m# Binary mode does not support 'encoding' and 'newline'.\u001b[39;00m\n\u001b[0;32m    854\u001b[0m     \u001b[38;5;28;01mif\u001b[39;00m ioargs\u001b[38;5;241m.\u001b[39mencoding \u001b[38;5;129;01mand\u001b[39;00m \u001b[38;5;124m\"\u001b[39m\u001b[38;5;124mb\u001b[39m\u001b[38;5;124m\"\u001b[39m \u001b[38;5;129;01mnot\u001b[39;00m \u001b[38;5;129;01min\u001b[39;00m ioargs\u001b[38;5;241m.\u001b[39mmode:\n\u001b[0;32m    855\u001b[0m         \u001b[38;5;66;03m# Encoding\u001b[39;00m\n\u001b[1;32m--> 856\u001b[0m         handle \u001b[38;5;241m=\u001b[39m \u001b[38;5;28mopen\u001b[39m(\n\u001b[0;32m    857\u001b[0m             handle,\n\u001b[0;32m    858\u001b[0m             ioargs\u001b[38;5;241m.\u001b[39mmode,\n\u001b[0;32m    859\u001b[0m             encoding\u001b[38;5;241m=\u001b[39mioargs\u001b[38;5;241m.\u001b[39mencoding,\n\u001b[0;32m    860\u001b[0m             errors\u001b[38;5;241m=\u001b[39merrors,\n\u001b[0;32m    861\u001b[0m             newline\u001b[38;5;241m=\u001b[39m\u001b[38;5;124m\"\u001b[39m\u001b[38;5;124m\"\u001b[39m,\n\u001b[0;32m    862\u001b[0m         )\n\u001b[0;32m    863\u001b[0m     \u001b[38;5;28;01melse\u001b[39;00m:\n\u001b[0;32m    864\u001b[0m         \u001b[38;5;66;03m# Binary mode\u001b[39;00m\n\u001b[0;32m    865\u001b[0m         handle \u001b[38;5;241m=\u001b[39m \u001b[38;5;28mopen\u001b[39m(handle, ioargs\u001b[38;5;241m.\u001b[39mmode)\n",
      "\u001b[1;31mPermissionError\u001b[0m: [Errno 13] Permission denied: '../output/last/product_wise_final.csv'"
     ]
    }
   ],
   "source": [
    "Product_wise.toPandas().to_csv(\"../output/last/product_wise_final.csv\")"
   ]
  },
  {
   "cell_type": "code",
   "execution_count": 490,
   "id": "2134ce40",
   "metadata": {},
   "outputs": [
    {
     "data": {
      "text/plain": [
       "0.08003299999999999"
      ]
     },
     "execution_count": 490,
     "metadata": {},
     "output_type": "execute_result"
    }
   ],
   "source": [
    "Iv_value_Product_wise"
   ]
  },
  {
   "cell_type": "markdown",
   "id": "03fe866e",
   "metadata": {},
   "source": [
    "#### CUST_PERMRES"
   ]
  },
  {
   "cell_type": "code",
   "execution_count": 491,
   "id": "df9b20eb",
   "metadata": {},
   "outputs": [],
   "source": [
    "master_table_new_custer_pre=(\n",
    "     master_table_new\n",
    "    .filter(f.col(\"CUST_PERMRES\").isNotNull())\n",
    ")\n",
    "CUST_PERMRES_wise= (\n",
    "       master_table_new_custer_pre\n",
    "\n",
    "    .groupBy(\"CUST_PERMRES\")\n",
    "        .agg(\n",
    "            f.sum(\"good\").alias(\"good\"),\n",
    "            f.sum(\"bad\").alias(\"bad\")\n",
    "        )\n",
    "    )\n",
    "total_good_CUST_PERMRES_wise=(\n",
    "       CUST_PERMRES_wise\n",
    "        .agg(f.sum(\"good\").alias(\"good\"))\n",
    "        .collect()[0]['good']\n",
    "    )\n",
    "total_bad_CUST_PERMRES_wise= (\n",
    "        CUST_PERMRES_wise\n",
    "        .agg(f.sum(\"bad\").alias(\"bad\"))\n",
    "        .collect()[0]['bad']\n",
    "    )\n",
    "\n",
    "CUST_PERMRES_wise=(\n",
    "    CUST_PERMRES_wise\n",
    "    .withColumn(\n",
    "        \"Total_rate\",\n",
    "        ((f.col(\"good\")+f.col(\"bad\"))/(total_good_CUST_PERMRES_wise+total_bad_CUST_PERMRES_wise))\n",
    "        )\n",
    "    .withColumn(\n",
    "        \"good_rate\",\n",
    "        f.col(\"good\")/total_good_CUST_PERMRES_wise    \n",
    "    )\n",
    "    .withColumn(\n",
    "        \"bad_rate\",\n",
    "        f.col(\"bad\")/total_bad_CUST_PERMRES_wise   \n",
    "    )\n",
    "    .withColumn(\n",
    "        \"odd\",\n",
    "        f.col(\"good\")/f.col(\"bad\")  \n",
    "    )\n",
    "    .withColumn(\n",
    "    \"IV\",\n",
    "    (\n",
    "        ((f.col(\"good\") / total_good_CUST_PERMRES_wise) - (f.col(\"bad\") / total_bad_CUST_PERMRES_wise)) *\n",
    "        f.ln((f.col(\"good\") / total_good_CUST_PERMRES_wise) / (f.col(\"bad\") / total_bad_CUST_PERMRES_wise))\n",
    "    )\n",
    ")\n",
    "     .withColumn(\n",
    "       \"good_rate_of_sub_cat\",\n",
    "    f.col(\"good\") / (f.col(\"good\") + f.col(\"bad\"))\n",
    "    )\n",
    "    .orderBy(\"good_rate_of_sub_cat\")\n",
    ")\n",
    "# IV_value_CUST_PERMRES= 0.001037 + 0.091448 + 0.002238 + 0.014116\n",
    "IV_value_CUST_PERMRES=0.008507+0.003907+0.000012+0.003984"
   ]
  },
  {
   "cell_type": "code",
   "execution_count": null,
   "id": "cb13e751",
   "metadata": {},
   "outputs": [],
   "source": []
  },
  {
   "cell_type": "code",
   "execution_count": 492,
   "id": "73e22dd7",
   "metadata": {},
   "outputs": [
    {
     "data": {
      "text/html": [
       "<div>\n",
       "<style scoped>\n",
       "    .dataframe tbody tr th:only-of-type {\n",
       "        vertical-align: middle;\n",
       "    }\n",
       "\n",
       "    .dataframe tbody tr th {\n",
       "        vertical-align: top;\n",
       "    }\n",
       "\n",
       "    .dataframe thead th {\n",
       "        text-align: right;\n",
       "    }\n",
       "</style>\n",
       "<table border=\"1\" class=\"dataframe\">\n",
       "  <thead>\n",
       "    <tr style=\"text-align: right;\">\n",
       "      <th></th>\n",
       "      <th>CUST_PERMRES</th>\n",
       "      <th>good</th>\n",
       "      <th>bad</th>\n",
       "      <th>Total_rate</th>\n",
       "      <th>good_rate</th>\n",
       "      <th>bad_rate</th>\n",
       "      <th>odd</th>\n",
       "      <th>IV</th>\n",
       "      <th>good_rate_of_sub_cat</th>\n",
       "    </tr>\n",
       "  </thead>\n",
       "  <tbody>\n",
       "    <tr>\n",
       "      <th>0</th>\n",
       "      <td>With G S Certificate</td>\n",
       "      <td>403</td>\n",
       "      <td>114</td>\n",
       "      <td>0.072086</td>\n",
       "      <td>0.067663</td>\n",
       "      <td>0.093750</td>\n",
       "      <td>3.535088</td>\n",
       "      <td>0.008507</td>\n",
       "      <td>0.779497</td>\n",
       "    </tr>\n",
       "    <tr>\n",
       "      <th>1</th>\n",
       "      <td>With Parents/Spouse</td>\n",
       "      <td>1057</td>\n",
       "      <td>249</td>\n",
       "      <td>0.182097</td>\n",
       "      <td>0.177468</td>\n",
       "      <td>0.204770</td>\n",
       "      <td>4.244980</td>\n",
       "      <td>0.003907</td>\n",
       "      <td>0.809342</td>\n",
       "    </tr>\n",
       "    <tr>\n",
       "      <th>2</th>\n",
       "      <td>Rent</td>\n",
       "      <td>165</td>\n",
       "      <td>33</td>\n",
       "      <td>0.027607</td>\n",
       "      <td>0.027703</td>\n",
       "      <td>0.027138</td>\n",
       "      <td>5.000000</td>\n",
       "      <td>0.000012</td>\n",
       "      <td>0.833333</td>\n",
       "    </tr>\n",
       "    <tr>\n",
       "      <th>3</th>\n",
       "      <td>With Billing Proof</td>\n",
       "      <td>4331</td>\n",
       "      <td>820</td>\n",
       "      <td>0.718210</td>\n",
       "      <td>0.727166</td>\n",
       "      <td>0.674342</td>\n",
       "      <td>5.281707</td>\n",
       "      <td>0.003984</td>\n",
       "      <td>0.840808</td>\n",
       "    </tr>\n",
       "  </tbody>\n",
       "</table>\n",
       "</div>"
      ],
      "text/plain": [
       "           CUST_PERMRES  good  bad  Total_rate  good_rate  bad_rate       odd  \\\n",
       "0  With G S Certificate   403  114    0.072086   0.067663  0.093750  3.535088   \n",
       "1   With Parents/Spouse  1057  249    0.182097   0.177468  0.204770  4.244980   \n",
       "2                  Rent   165   33    0.027607   0.027703  0.027138  5.000000   \n",
       "3    With Billing Proof  4331  820    0.718210   0.727166  0.674342  5.281707   \n",
       "\n",
       "         IV  good_rate_of_sub_cat  \n",
       "0  0.008507              0.779497  \n",
       "1  0.003907              0.809342  \n",
       "2  0.000012              0.833333  \n",
       "3  0.003984              0.840808  "
      ]
     },
     "execution_count": 492,
     "metadata": {},
     "output_type": "execute_result"
    }
   ],
   "source": [
    "CUST_PERMRES_wise.toPandas().head()"
   ]
  },
  {
   "cell_type": "code",
   "execution_count": 493,
   "id": "2c5c925c",
   "metadata": {},
   "outputs": [
    {
     "ename": "PermissionError",
     "evalue": "[Errno 13] Permission denied: '../output/last/cust_pre_wise_active3w.csv'",
     "output_type": "error",
     "traceback": [
      "\u001b[1;31m---------------------------------------------------------------------------\u001b[0m",
      "\u001b[1;31mPermissionError\u001b[0m                           Traceback (most recent call last)",
      "Cell \u001b[1;32mIn[493], line 1\u001b[0m\n\u001b[1;32m----> 1\u001b[0m CUST_PERMRES_wise\u001b[38;5;241m.\u001b[39mtoPandas()\u001b[38;5;241m.\u001b[39mto_csv(\u001b[38;5;124m\"\u001b[39m\u001b[38;5;124m../output/last/cust_pre_wise_active3w.csv\u001b[39m\u001b[38;5;124m\"\u001b[39m)\n",
      "File \u001b[1;32m~\\AppData\\Local\\anaconda3\\Lib\\site-packages\\pandas\\util\\_decorators.py:211\u001b[0m, in \u001b[0;36mdeprecate_kwarg.<locals>._deprecate_kwarg.<locals>.wrapper\u001b[1;34m(*args, **kwargs)\u001b[0m\n\u001b[0;32m    209\u001b[0m     \u001b[38;5;28;01melse\u001b[39;00m:\n\u001b[0;32m    210\u001b[0m         kwargs[new_arg_name] \u001b[38;5;241m=\u001b[39m new_arg_value\n\u001b[1;32m--> 211\u001b[0m \u001b[38;5;28;01mreturn\u001b[39;00m func(\u001b[38;5;241m*\u001b[39margs, \u001b[38;5;241m*\u001b[39m\u001b[38;5;241m*\u001b[39mkwargs)\n",
      "File \u001b[1;32m~\\AppData\\Local\\anaconda3\\Lib\\site-packages\\pandas\\core\\generic.py:3720\u001b[0m, in \u001b[0;36mNDFrame.to_csv\u001b[1;34m(self, path_or_buf, sep, na_rep, float_format, columns, header, index, index_label, mode, encoding, compression, quoting, quotechar, lineterminator, chunksize, date_format, doublequote, escapechar, decimal, errors, storage_options)\u001b[0m\n\u001b[0;32m   3709\u001b[0m df \u001b[38;5;241m=\u001b[39m \u001b[38;5;28mself\u001b[39m \u001b[38;5;28;01mif\u001b[39;00m \u001b[38;5;28misinstance\u001b[39m(\u001b[38;5;28mself\u001b[39m, ABCDataFrame) \u001b[38;5;28;01melse\u001b[39;00m \u001b[38;5;28mself\u001b[39m\u001b[38;5;241m.\u001b[39mto_frame()\n\u001b[0;32m   3711\u001b[0m formatter \u001b[38;5;241m=\u001b[39m DataFrameFormatter(\n\u001b[0;32m   3712\u001b[0m     frame\u001b[38;5;241m=\u001b[39mdf,\n\u001b[0;32m   3713\u001b[0m     header\u001b[38;5;241m=\u001b[39mheader,\n\u001b[1;32m   (...)\u001b[0m\n\u001b[0;32m   3717\u001b[0m     decimal\u001b[38;5;241m=\u001b[39mdecimal,\n\u001b[0;32m   3718\u001b[0m )\n\u001b[1;32m-> 3720\u001b[0m \u001b[38;5;28;01mreturn\u001b[39;00m DataFrameRenderer(formatter)\u001b[38;5;241m.\u001b[39mto_csv(\n\u001b[0;32m   3721\u001b[0m     path_or_buf,\n\u001b[0;32m   3722\u001b[0m     lineterminator\u001b[38;5;241m=\u001b[39mlineterminator,\n\u001b[0;32m   3723\u001b[0m     sep\u001b[38;5;241m=\u001b[39msep,\n\u001b[0;32m   3724\u001b[0m     encoding\u001b[38;5;241m=\u001b[39mencoding,\n\u001b[0;32m   3725\u001b[0m     errors\u001b[38;5;241m=\u001b[39merrors,\n\u001b[0;32m   3726\u001b[0m     compression\u001b[38;5;241m=\u001b[39mcompression,\n\u001b[0;32m   3727\u001b[0m     quoting\u001b[38;5;241m=\u001b[39mquoting,\n\u001b[0;32m   3728\u001b[0m     columns\u001b[38;5;241m=\u001b[39mcolumns,\n\u001b[0;32m   3729\u001b[0m     index_label\u001b[38;5;241m=\u001b[39mindex_label,\n\u001b[0;32m   3730\u001b[0m     mode\u001b[38;5;241m=\u001b[39mmode,\n\u001b[0;32m   3731\u001b[0m     chunksize\u001b[38;5;241m=\u001b[39mchunksize,\n\u001b[0;32m   3732\u001b[0m     quotechar\u001b[38;5;241m=\u001b[39mquotechar,\n\u001b[0;32m   3733\u001b[0m     date_format\u001b[38;5;241m=\u001b[39mdate_format,\n\u001b[0;32m   3734\u001b[0m     doublequote\u001b[38;5;241m=\u001b[39mdoublequote,\n\u001b[0;32m   3735\u001b[0m     escapechar\u001b[38;5;241m=\u001b[39mescapechar,\n\u001b[0;32m   3736\u001b[0m     storage_options\u001b[38;5;241m=\u001b[39mstorage_options,\n\u001b[0;32m   3737\u001b[0m )\n",
      "File \u001b[1;32m~\\AppData\\Local\\anaconda3\\Lib\\site-packages\\pandas\\util\\_decorators.py:211\u001b[0m, in \u001b[0;36mdeprecate_kwarg.<locals>._deprecate_kwarg.<locals>.wrapper\u001b[1;34m(*args, **kwargs)\u001b[0m\n\u001b[0;32m    209\u001b[0m     \u001b[38;5;28;01melse\u001b[39;00m:\n\u001b[0;32m    210\u001b[0m         kwargs[new_arg_name] \u001b[38;5;241m=\u001b[39m new_arg_value\n\u001b[1;32m--> 211\u001b[0m \u001b[38;5;28;01mreturn\u001b[39;00m func(\u001b[38;5;241m*\u001b[39margs, \u001b[38;5;241m*\u001b[39m\u001b[38;5;241m*\u001b[39mkwargs)\n",
      "File \u001b[1;32m~\\AppData\\Local\\anaconda3\\Lib\\site-packages\\pandas\\io\\formats\\format.py:1189\u001b[0m, in \u001b[0;36mDataFrameRenderer.to_csv\u001b[1;34m(self, path_or_buf, encoding, sep, columns, index_label, mode, compression, quoting, quotechar, lineterminator, chunksize, date_format, doublequote, escapechar, errors, storage_options)\u001b[0m\n\u001b[0;32m   1168\u001b[0m     created_buffer \u001b[38;5;241m=\u001b[39m \u001b[38;5;28;01mFalse\u001b[39;00m\n\u001b[0;32m   1170\u001b[0m csv_formatter \u001b[38;5;241m=\u001b[39m CSVFormatter(\n\u001b[0;32m   1171\u001b[0m     path_or_buf\u001b[38;5;241m=\u001b[39mpath_or_buf,\n\u001b[0;32m   1172\u001b[0m     lineterminator\u001b[38;5;241m=\u001b[39mlineterminator,\n\u001b[1;32m   (...)\u001b[0m\n\u001b[0;32m   1187\u001b[0m     formatter\u001b[38;5;241m=\u001b[39m\u001b[38;5;28mself\u001b[39m\u001b[38;5;241m.\u001b[39mfmt,\n\u001b[0;32m   1188\u001b[0m )\n\u001b[1;32m-> 1189\u001b[0m csv_formatter\u001b[38;5;241m.\u001b[39msave()\n\u001b[0;32m   1191\u001b[0m \u001b[38;5;28;01mif\u001b[39;00m created_buffer:\n\u001b[0;32m   1192\u001b[0m     \u001b[38;5;28;01massert\u001b[39;00m \u001b[38;5;28misinstance\u001b[39m(path_or_buf, StringIO)\n",
      "File \u001b[1;32m~\\AppData\\Local\\anaconda3\\Lib\\site-packages\\pandas\\io\\formats\\csvs.py:241\u001b[0m, in \u001b[0;36mCSVFormatter.save\u001b[1;34m(self)\u001b[0m\n\u001b[0;32m    237\u001b[0m \u001b[38;5;250m\u001b[39m\u001b[38;5;124;03m\"\"\"\u001b[39;00m\n\u001b[0;32m    238\u001b[0m \u001b[38;5;124;03mCreate the writer & save.\u001b[39;00m\n\u001b[0;32m    239\u001b[0m \u001b[38;5;124;03m\"\"\"\u001b[39;00m\n\u001b[0;32m    240\u001b[0m \u001b[38;5;66;03m# apply compression and byte/text conversion\u001b[39;00m\n\u001b[1;32m--> 241\u001b[0m \u001b[38;5;28;01mwith\u001b[39;00m get_handle(\n\u001b[0;32m    242\u001b[0m     \u001b[38;5;28mself\u001b[39m\u001b[38;5;241m.\u001b[39mfilepath_or_buffer,\n\u001b[0;32m    243\u001b[0m     \u001b[38;5;28mself\u001b[39m\u001b[38;5;241m.\u001b[39mmode,\n\u001b[0;32m    244\u001b[0m     encoding\u001b[38;5;241m=\u001b[39m\u001b[38;5;28mself\u001b[39m\u001b[38;5;241m.\u001b[39mencoding,\n\u001b[0;32m    245\u001b[0m     errors\u001b[38;5;241m=\u001b[39m\u001b[38;5;28mself\u001b[39m\u001b[38;5;241m.\u001b[39merrors,\n\u001b[0;32m    246\u001b[0m     compression\u001b[38;5;241m=\u001b[39m\u001b[38;5;28mself\u001b[39m\u001b[38;5;241m.\u001b[39mcompression,\n\u001b[0;32m    247\u001b[0m     storage_options\u001b[38;5;241m=\u001b[39m\u001b[38;5;28mself\u001b[39m\u001b[38;5;241m.\u001b[39mstorage_options,\n\u001b[0;32m    248\u001b[0m ) \u001b[38;5;28;01mas\u001b[39;00m handles:\n\u001b[0;32m    249\u001b[0m \n\u001b[0;32m    250\u001b[0m     \u001b[38;5;66;03m# Note: self.encoding is irrelevant here\u001b[39;00m\n\u001b[0;32m    251\u001b[0m     \u001b[38;5;28mself\u001b[39m\u001b[38;5;241m.\u001b[39mwriter \u001b[38;5;241m=\u001b[39m csvlib\u001b[38;5;241m.\u001b[39mwriter(\n\u001b[0;32m    252\u001b[0m         handles\u001b[38;5;241m.\u001b[39mhandle,\n\u001b[0;32m    253\u001b[0m         lineterminator\u001b[38;5;241m=\u001b[39m\u001b[38;5;28mself\u001b[39m\u001b[38;5;241m.\u001b[39mlineterminator,\n\u001b[1;32m   (...)\u001b[0m\n\u001b[0;32m    258\u001b[0m         quotechar\u001b[38;5;241m=\u001b[39m\u001b[38;5;28mself\u001b[39m\u001b[38;5;241m.\u001b[39mquotechar,\n\u001b[0;32m    259\u001b[0m     )\n\u001b[0;32m    261\u001b[0m     \u001b[38;5;28mself\u001b[39m\u001b[38;5;241m.\u001b[39m_save()\n",
      "File \u001b[1;32m~\\AppData\\Local\\anaconda3\\Lib\\site-packages\\pandas\\io\\common.py:856\u001b[0m, in \u001b[0;36mget_handle\u001b[1;34m(path_or_buf, mode, encoding, compression, memory_map, is_text, errors, storage_options)\u001b[0m\n\u001b[0;32m    851\u001b[0m \u001b[38;5;28;01melif\u001b[39;00m \u001b[38;5;28misinstance\u001b[39m(handle, \u001b[38;5;28mstr\u001b[39m):\n\u001b[0;32m    852\u001b[0m     \u001b[38;5;66;03m# Check whether the filename is to be opened in binary mode.\u001b[39;00m\n\u001b[0;32m    853\u001b[0m     \u001b[38;5;66;03m# Binary mode does not support 'encoding' and 'newline'.\u001b[39;00m\n\u001b[0;32m    854\u001b[0m     \u001b[38;5;28;01mif\u001b[39;00m ioargs\u001b[38;5;241m.\u001b[39mencoding \u001b[38;5;129;01mand\u001b[39;00m \u001b[38;5;124m\"\u001b[39m\u001b[38;5;124mb\u001b[39m\u001b[38;5;124m\"\u001b[39m \u001b[38;5;129;01mnot\u001b[39;00m \u001b[38;5;129;01min\u001b[39;00m ioargs\u001b[38;5;241m.\u001b[39mmode:\n\u001b[0;32m    855\u001b[0m         \u001b[38;5;66;03m# Encoding\u001b[39;00m\n\u001b[1;32m--> 856\u001b[0m         handle \u001b[38;5;241m=\u001b[39m \u001b[38;5;28mopen\u001b[39m(\n\u001b[0;32m    857\u001b[0m             handle,\n\u001b[0;32m    858\u001b[0m             ioargs\u001b[38;5;241m.\u001b[39mmode,\n\u001b[0;32m    859\u001b[0m             encoding\u001b[38;5;241m=\u001b[39mioargs\u001b[38;5;241m.\u001b[39mencoding,\n\u001b[0;32m    860\u001b[0m             errors\u001b[38;5;241m=\u001b[39merrors,\n\u001b[0;32m    861\u001b[0m             newline\u001b[38;5;241m=\u001b[39m\u001b[38;5;124m\"\u001b[39m\u001b[38;5;124m\"\u001b[39m,\n\u001b[0;32m    862\u001b[0m         )\n\u001b[0;32m    863\u001b[0m     \u001b[38;5;28;01melse\u001b[39;00m:\n\u001b[0;32m    864\u001b[0m         \u001b[38;5;66;03m# Binary mode\u001b[39;00m\n\u001b[0;32m    865\u001b[0m         handle \u001b[38;5;241m=\u001b[39m \u001b[38;5;28mopen\u001b[39m(handle, ioargs\u001b[38;5;241m.\u001b[39mmode)\n",
      "\u001b[1;31mPermissionError\u001b[0m: [Errno 13] Permission denied: '../output/last/cust_pre_wise_active3w.csv'"
     ]
    }
   ],
   "source": [
    "CUST_PERMRES_wise.toPandas().to_csv(\"../output/last/cust_pre_wise_active3w.csv\")"
   ]
  },
  {
   "cell_type": "code",
   "execution_count": 494,
   "id": "5b9dd584",
   "metadata": {},
   "outputs": [
    {
     "data": {
      "text/plain": [
       "0.01641"
      ]
     },
     "execution_count": 494,
     "metadata": {},
     "output_type": "execute_result"
    }
   ],
   "source": [
    "IV_value_CUST_PERMRES"
   ]
  },
  {
   "cell_type": "markdown",
   "id": "49f03d1b",
   "metadata": {},
   "source": [
    "### Guarantor PreNises"
   ]
  },
  {
   "cell_type": "code",
   "execution_count": 495,
   "id": "a999f18b",
   "metadata": {},
   "outputs": [],
   "source": [
    "master_table_new_Guarantor_PreNises=(\n",
    "     master_table_new\n",
    "     .filter(f.col(\"GUAR_PERMRES\").isNotNull())\n",
    "#     .filter((f.col(\"CUST_PERMRES\")==\"With G S Certificate\")|\n",
    "#             (f.col(\"CUST_PERMRES\")==\"Rent\")|\n",
    "#            (f.col(\"CUST_PERMRES\")==\"No Guarantors\")|\n",
    "#             (f.col(\"CUST_PERMRES\")==\"With Parents/spouse\")|\n",
    "#             (f.col(\"CUST_PERMRES\")==\"With Billing Proof\")\n",
    "            \n",
    "           )\n",
    "\n",
    "Guarantor_PreNises_wise= (\n",
    "       master_table_new_Guarantor_PreNises\n",
    "#     .filter(~f.col(\"Guarantor PreNises\").isNull())\n",
    "    .groupBy(\"GUAR_PERMRES\")\n",
    "        .agg(\n",
    "            f.sum(\"good\").alias(\"good\"),\n",
    "            f.sum(\"bad\").alias(\"bad\")\n",
    "        )\n",
    "    )\n",
    "total_good_Guarantor_PreNises_wise=(\n",
    "       Guarantor_PreNises_wise\n",
    "        .agg(f.sum(\"good\").alias(\"good\"))\n",
    "        .collect()[0]['good']\n",
    "    )\n",
    "total_bad_Guarantor_PreNises_wise= (\n",
    "        CUST_PERMRES_wise\n",
    "        .agg(f.sum(\"bad\").alias(\"bad\"))\n",
    "        .collect()[0]['bad']\n",
    "    )\n",
    "\n",
    "Guarantor_PreNises_wise=(\n",
    "    Guarantor_PreNises_wise\n",
    "    .withColumn(\n",
    "        \"Total_rate\",\n",
    "        ((f.col(\"good\")+f.col(\"bad\"))/(total_good_Guarantor_PreNises_wise+total_bad_Guarantor_PreNises_wise))\n",
    "        )\n",
    "    .withColumn(\n",
    "        \"good_rate\",\n",
    "        f.col(\"good\")/total_good_Guarantor_PreNises_wise    \n",
    "    )\n",
    "    .withColumn(\n",
    "        \"bad_rate\",\n",
    "        f.col(\"bad\")/total_bad_Guarantor_PreNises_wise   \n",
    "    )\n",
    "    .withColumn(\n",
    "        \"odd\",\n",
    "        f.col(\"good\")/f.col(\"bad\")  \n",
    "    )\n",
    "    .withColumn(\n",
    "    \"IV\",\n",
    "    (\n",
    "        ((f.col(\"good\") / total_good_Guarantor_PreNises_wise) - (f.col(\"bad\") / total_bad_Guarantor_PreNises_wise)) *\n",
    "        f.ln((f.col(\"good\") / total_good_Guarantor_PreNises_wise) / (f.col(\"bad\") / total_bad_Guarantor_PreNises_wise))\n",
    "    )\n",
    ")\n",
    "    .withColumn(\n",
    "       \"good_rate_of_sub_cat\",\n",
    "    f.col(\"good\") / (f.col(\"good\") + f.col(\"bad\"))\n",
    "    )\n",
    "    .orderBy(\"good_rate_of_sub_cat\")\n",
    ")\n",
    "\n",
    "# IV_Guarantor_PreNises_wise=4.694247e-08+5.527456e-05+2.444583e-04+1.225676e-03+3.686925e-05\n",
    "IV_Guarantor_PreNises_wise=0.003354+0.009649+0.002598+0.000282+0.046818"
   ]
  },
  {
   "cell_type": "code",
   "execution_count": 496,
   "id": "9ce8739f",
   "metadata": {},
   "outputs": [
    {
     "data": {
      "text/html": [
       "<div>\n",
       "<style scoped>\n",
       "    .dataframe tbody tr th:only-of-type {\n",
       "        vertical-align: middle;\n",
       "    }\n",
       "\n",
       "    .dataframe tbody tr th {\n",
       "        vertical-align: top;\n",
       "    }\n",
       "\n",
       "    .dataframe thead th {\n",
       "        text-align: right;\n",
       "    }\n",
       "</style>\n",
       "<table border=\"1\" class=\"dataframe\">\n",
       "  <thead>\n",
       "    <tr style=\"text-align: right;\">\n",
       "      <th></th>\n",
       "      <th>GUAR_PERMRES</th>\n",
       "      <th>good</th>\n",
       "      <th>bad</th>\n",
       "      <th>Total_rate</th>\n",
       "      <th>good_rate</th>\n",
       "      <th>bad_rate</th>\n",
       "      <th>odd</th>\n",
       "      <th>IV</th>\n",
       "      <th>good_rate_of_sub_cat</th>\n",
       "    </tr>\n",
       "  </thead>\n",
       "  <tbody>\n",
       "    <tr>\n",
       "      <th>0</th>\n",
       "      <td>With G S Certificate</td>\n",
       "      <td>122</td>\n",
       "      <td>36</td>\n",
       "      <td>0.022036</td>\n",
       "      <td>0.020490</td>\n",
       "      <td>0.029605</td>\n",
       "      <td>3.388889</td>\n",
       "      <td>0.003354</td>\n",
       "      <td>0.772152</td>\n",
       "    </tr>\n",
       "    <tr>\n",
       "      <th>1</th>\n",
       "      <td>Rent</td>\n",
       "      <td>1039</td>\n",
       "      <td>265</td>\n",
       "      <td>0.181869</td>\n",
       "      <td>0.174505</td>\n",
       "      <td>0.217928</td>\n",
       "      <td>3.920755</td>\n",
       "      <td>0.009649</td>\n",
       "      <td>0.796779</td>\n",
       "    </tr>\n",
       "    <tr>\n",
       "      <th>2</th>\n",
       "      <td>With Parents/Spouse</td>\n",
       "      <td>952</td>\n",
       "      <td>220</td>\n",
       "      <td>0.163459</td>\n",
       "      <td>0.159893</td>\n",
       "      <td>0.180921</td>\n",
       "      <td>4.327273</td>\n",
       "      <td>0.002598</td>\n",
       "      <td>0.812287</td>\n",
       "    </tr>\n",
       "    <tr>\n",
       "      <th>3</th>\n",
       "      <td>With Billing Proof</td>\n",
       "      <td>2781</td>\n",
       "      <td>582</td>\n",
       "      <td>0.469038</td>\n",
       "      <td>0.467081</td>\n",
       "      <td>0.478618</td>\n",
       "      <td>4.778351</td>\n",
       "      <td>0.000282</td>\n",
       "      <td>0.826940</td>\n",
       "    </tr>\n",
       "    <tr>\n",
       "      <th>4</th>\n",
       "      <td>No Guaranter</td>\n",
       "      <td>1060</td>\n",
       "      <td>120</td>\n",
       "      <td>0.164575</td>\n",
       "      <td>0.178032</td>\n",
       "      <td>0.098684</td>\n",
       "      <td>8.833333</td>\n",
       "      <td>0.046818</td>\n",
       "      <td>0.898305</td>\n",
       "    </tr>\n",
       "  </tbody>\n",
       "</table>\n",
       "</div>"
      ],
      "text/plain": [
       "           GUAR_PERMRES  good  bad  Total_rate  good_rate  bad_rate       odd  \\\n",
       "0  With G S Certificate   122   36    0.022036   0.020490  0.029605  3.388889   \n",
       "1                  Rent  1039  265    0.181869   0.174505  0.217928  3.920755   \n",
       "2   With Parents/Spouse   952  220    0.163459   0.159893  0.180921  4.327273   \n",
       "3    With Billing Proof  2781  582    0.469038   0.467081  0.478618  4.778351   \n",
       "4          No Guaranter  1060  120    0.164575   0.178032  0.098684  8.833333   \n",
       "\n",
       "         IV  good_rate_of_sub_cat  \n",
       "0  0.003354              0.772152  \n",
       "1  0.009649              0.796779  \n",
       "2  0.002598              0.812287  \n",
       "3  0.000282              0.826940  \n",
       "4  0.046818              0.898305  "
      ]
     },
     "execution_count": 496,
     "metadata": {},
     "output_type": "execute_result"
    }
   ],
   "source": [
    "Guarantor_PreNises_wise.toPandas()"
   ]
  },
  {
   "cell_type": "code",
   "execution_count": 435,
   "id": "b76d0732",
   "metadata": {},
   "outputs": [],
   "source": [
    "Guarantor_PreNises_wise.toPandas().to_csv(\"../output/last/guarantor_pre_wise_active3w.csv\")"
   ]
  },
  {
   "cell_type": "code",
   "execution_count": 456,
   "id": "06568a5d",
   "metadata": {},
   "outputs": [
    {
     "data": {
      "text/plain": [
       "0.062701"
      ]
     },
     "execution_count": 456,
     "metadata": {},
     "output_type": "execute_result"
    }
   ],
   "source": [
    "IV_Guarantor_PreNises_wise"
   ]
  },
  {
   "cell_type": "markdown",
   "id": "b9b5123e",
   "metadata": {},
   "source": [
    "### Exposure Category(Score)"
   ]
  },
  {
   "cell_type": "code",
   "execution_count": 460,
   "id": "d7ac1f3f",
   "metadata": {},
   "outputs": [],
   "source": [
    "master_table_exp=(\n",
    "    master_table_new.orderBy(\"EXP_CD\")\n",
    "    .filter(f.col(\"EXP_CD\").isNotNull())\n",
    "#     .filter(~f.col(\"Exposure\").isNull())\n",
    "#     .withColumn(\"Exposure_cat\",\n",
    "#                 f.when(f.col(\"Exposure\").between(0,10),\"0-10\")\n",
    "#                 .when(f.col(\"Exposure\").between(11,20),\"11-20\")\n",
    "#                 .when(f.col(\"Exposure\").between(21,30),\"21-30\")\n",
    "#                 .when(f.col(\"Exposure\").between(31,40),\"31-40\")\n",
    "#                 .when(f.col(\"Exposure\").between(41,50),\"41-50\")\n",
    "#                 .when(f.col(\"Exposure\").between(51,60),\"51-60\")\n",
    "#                 .when(f.col(\"Exposure\").between(61,70),\"61-70\")\n",
    "#                 .when(f.col(\"Exposure\").between(71,80),\"71-80\")\n",
    "#                 .when(f.col(\"Exposure\")>80,\"80>\")\n",
    "#                )\n",
    "    .withColumn(\"Exposure_cat\",\n",
    "                f.when(f.col(\"EXP_CD\").between(0,20),\"0-20\")\n",
    "                .when(f.col(\"EXP_CD\").between(21,40),\"21-40\")\n",
    "                .when(f.col(\"EXP_CD\").between(41,60),\"41-60\")\n",
    "                .when(f.col(\"EXP_CD\").between(61,80),\"61-80\")\n",
    "                .when(f.col(\"EXP_CD\")>=80,\"80>\")\n",
    "               )\n",
    "    .filter(f.col(\"Exposure_cat\").isNotNull())\n",
    "    \n",
    ")\n",
    "\n",
    "master_table_new1=master_table_exp.groupBy(\"Exposure_cat\").agg(f.count(\"FAC NO\"))\n",
    "\n",
    "Exposure_Category_Score_wise= (\n",
    "        master_table_exp.groupBy(\"Exposure_cat\")\n",
    "        .agg(\n",
    "            f.sum(\"good\").alias(\"good\"),\n",
    "            f.sum(\"bad\").alias(\"bad\")\n",
    "        )\n",
    "    )\n",
    "total_good_Exposure_Category_Score_wise=(\n",
    "      Exposure_Category_Score_wise\n",
    "        .agg(f.sum(\"good\").alias(\"good\"))\n",
    "        .collect()[0]['good']\n",
    "    )\n",
    "total_bad_Exposure_Category_Score_wise= (\n",
    "       Exposure_Category_Score_wise\n",
    "        .agg(f.sum(\"bad\").alias(\"bad\"))\n",
    "        .collect()[0]['bad']\n",
    "    )\n",
    "\n",
    "Exposure_Category_Score_wise=(\n",
    "    Exposure_Category_Score_wise\n",
    "    .withColumnRenamed(\"Exposure Category(Score)\",\"Exp\")\n",
    "    .withColumn(\n",
    "        \"Total_rate\",\n",
    "        ((f.col(\"good\")+f.col(\"bad\"))/(total_good_Exposure_Category_Score_wise+total_bad_Exposure_Category_Score_wise))\n",
    "        )\n",
    "    .withColumn(\n",
    "        \"good_rate\",\n",
    "        f.col(\"good\")/total_good_Exposure_Category_Score_wise    \n",
    "    )\n",
    "    .withColumn(\n",
    "        \"bad_rate\",\n",
    "        f.col(\"bad\")/total_bad_Exposure_Category_Score_wise  \n",
    "    )\n",
    "    .withColumn(\n",
    "        \"odd\",\n",
    "        f.col(\"good\")/f.col(\"bad\")  \n",
    "    )\n",
    "    .withColumn(\n",
    "    \"IV\",\n",
    "    (\n",
    "        ((f.col(\"good\") / total_good_Exposure_Category_Score_wise) - (f.col(\"bad\") / total_bad_Exposure_Category_Score_wise)) *\n",
    "        f.ln((f.col(\"good\") / total_good_Exposure_Category_Score_wise) / (f.col(\"bad\") / total_bad_Exposure_Category_Score_wise))\n",
    "    )\n",
    ")\n",
    "    .withColumn(\n",
    "       \"good_rate_of_sub_cat\",\n",
    "    f.col(\"good\") / (f.col(\"good\") + f.col(\"bad\"))\n",
    "    )\n",
    "    .orderBy(\"good_rate_of_sub_cat\")\n",
    ")\n",
    "# IVP_Exp_value=(\n",
    "# 0.050055+\n",
    "# 0.030004+\n",
    "# 0.055117+\n",
    "# 0.001172+\n",
    "# 0.053804+\n",
    "# 0.039878+\n",
    "# 0.034502+\n",
    "# 0.007726+\n",
    "# 0.003169\n",
    "# )\n",
    "# IVP_Exp_value=0.063524+0.018908+0.005051+0.048916+0.029908\n",
    "IVP_EXP_value=0.101394+0.004872+0.033171+0.059999+\t0.018468"
   ]
  },
  {
   "cell_type": "code",
   "execution_count": 461,
   "id": "4e75d5ae",
   "metadata": {},
   "outputs": [
    {
     "name": "stdout",
     "output_type": "stream",
     "text": [
      "+------------+-------------+\n",
      "|Exposure_cat|count(FAC NO)|\n",
      "+------------+-------------+\n",
      "|       21-40|          782|\n",
      "|        0-20|          153|\n",
      "|       61-80|         2105|\n",
      "|         80>|         2369|\n",
      "|       41-60|         1373|\n",
      "+------------+-------------+\n",
      "\n"
     ]
    }
   ],
   "source": [
    "master_table_new1.show()"
   ]
  },
  {
   "cell_type": "code",
   "execution_count": 462,
   "id": "0b461c12",
   "metadata": {},
   "outputs": [
    {
     "data": {
      "text/html": [
       "<div>\n",
       "<style scoped>\n",
       "    .dataframe tbody tr th:only-of-type {\n",
       "        vertical-align: middle;\n",
       "    }\n",
       "\n",
       "    .dataframe tbody tr th {\n",
       "        vertical-align: top;\n",
       "    }\n",
       "\n",
       "    .dataframe thead th {\n",
       "        text-align: right;\n",
       "    }\n",
       "</style>\n",
       "<table border=\"1\" class=\"dataframe\">\n",
       "  <thead>\n",
       "    <tr style=\"text-align: right;\">\n",
       "      <th></th>\n",
       "      <th>Exposure_cat</th>\n",
       "      <th>good</th>\n",
       "      <th>bad</th>\n",
       "      <th>Total_rate</th>\n",
       "      <th>good_rate</th>\n",
       "      <th>bad_rate</th>\n",
       "      <th>odd</th>\n",
       "      <th>IV</th>\n",
       "      <th>good_rate_of_sub_cat</th>\n",
       "    </tr>\n",
       "  </thead>\n",
       "  <tbody>\n",
       "    <tr>\n",
       "      <th>0</th>\n",
       "      <td>80&gt;</td>\n",
       "      <td>1764</td>\n",
       "      <td>605</td>\n",
       "      <td>0.349307</td>\n",
       "      <td>0.314270</td>\n",
       "      <td>0.517536</td>\n",
       "      <td>2.915702</td>\n",
       "      <td>0.101394</td>\n",
       "      <td>0.744618</td>\n",
       "    </tr>\n",
       "    <tr>\n",
       "      <th>1</th>\n",
       "      <td>61-80</td>\n",
       "      <td>1779</td>\n",
       "      <td>326</td>\n",
       "      <td>0.310380</td>\n",
       "      <td>0.316943</td>\n",
       "      <td>0.278871</td>\n",
       "      <td>5.457055</td>\n",
       "      <td>0.004872</td>\n",
       "      <td>0.845131</td>\n",
       "    </tr>\n",
       "    <tr>\n",
       "      <th>2</th>\n",
       "      <td>41-60</td>\n",
       "      <td>1210</td>\n",
       "      <td>163</td>\n",
       "      <td>0.202448</td>\n",
       "      <td>0.215571</td>\n",
       "      <td>0.139435</td>\n",
       "      <td>7.423313</td>\n",
       "      <td>0.033171</td>\n",
       "      <td>0.881282</td>\n",
       "    </tr>\n",
       "    <tr>\n",
       "      <th>3</th>\n",
       "      <td>21-40</td>\n",
       "      <td>717</td>\n",
       "      <td>65</td>\n",
       "      <td>0.115305</td>\n",
       "      <td>0.127739</td>\n",
       "      <td>0.055603</td>\n",
       "      <td>11.030769</td>\n",
       "      <td>0.059999</td>\n",
       "      <td>0.916880</td>\n",
       "    </tr>\n",
       "    <tr>\n",
       "      <th>4</th>\n",
       "      <td>0-20</td>\n",
       "      <td>143</td>\n",
       "      <td>10</td>\n",
       "      <td>0.022560</td>\n",
       "      <td>0.025477</td>\n",
       "      <td>0.008554</td>\n",
       "      <td>14.300000</td>\n",
       "      <td>0.018468</td>\n",
       "      <td>0.934641</td>\n",
       "    </tr>\n",
       "  </tbody>\n",
       "</table>\n",
       "</div>"
      ],
      "text/plain": [
       "  Exposure_cat  good  bad  Total_rate  good_rate  bad_rate        odd  \\\n",
       "0          80>  1764  605    0.349307   0.314270  0.517536   2.915702   \n",
       "1        61-80  1779  326    0.310380   0.316943  0.278871   5.457055   \n",
       "2        41-60  1210  163    0.202448   0.215571  0.139435   7.423313   \n",
       "3        21-40   717   65    0.115305   0.127739  0.055603  11.030769   \n",
       "4         0-20   143   10    0.022560   0.025477  0.008554  14.300000   \n",
       "\n",
       "         IV  good_rate_of_sub_cat  \n",
       "0  0.101394              0.744618  \n",
       "1  0.004872              0.845131  \n",
       "2  0.033171              0.881282  \n",
       "3  0.059999              0.916880  \n",
       "4  0.018468              0.934641  "
      ]
     },
     "execution_count": 462,
     "metadata": {},
     "output_type": "execute_result"
    }
   ],
   "source": [
    "Exposure_Category_Score_wise.toPandas().head(10)"
   ]
  },
  {
   "cell_type": "code",
   "execution_count": 421,
   "id": "9cc09faf",
   "metadata": {},
   "outputs": [],
   "source": [
    "Exposure_Category_Score_wise.toPandas().to_csv(\"../output/last/exp_cat_wise_active3w.csv\")"
   ]
  },
  {
   "cell_type": "code",
   "execution_count": 463,
   "id": "763bab57",
   "metadata": {},
   "outputs": [
    {
     "data": {
      "text/plain": [
       "0.217904"
      ]
     },
     "execution_count": 463,
     "metadata": {},
     "output_type": "execute_result"
    }
   ],
   "source": [
    "IVP_EXP_value"
   ]
  },
  {
   "cell_type": "markdown",
   "id": "5f791395",
   "metadata": {},
   "source": [
    "### DSCR"
   ]
  },
  {
   "cell_type": "code",
   "execution_count": 464,
   "id": "b7622ada",
   "metadata": {},
   "outputs": [],
   "source": [
    "master_table_new_dcsr=(\n",
    "     master_table_new\n",
    ".filter(~f.col(\"DSCR_C\").isNull())\n",
    "    .withColumn(\"DSCR_cat\",\n",
    "                f.when(f.col(\"DSCR_C\").between(0,5),\"0-5\")\n",
    "                .when(f.col(\"DSCR_C\").between(6,11),\"6-11\")\n",
    "                .when(f.col(\"DSCR_C\").between(12,17),\"12-17\")\n",
    "                .when(f.col(\"DSCR_C\").between(18,23),\"18-23\")\n",
    "                .when(f.col(\"DSCR_C\")>23,\"23>\")\n",
    "               )\n",
    "    .filter(f.col(\"DSCR_cat\").isNotNull())\n",
    ")\n",
    "master_table_new_dcsr1=master_table_new_dcsr.groupBy(\"DSCR_cat\").agg(f.count(\"DSCR_C\"))\n",
    "DSCR= (\n",
    "      master_table_new_dcsr.groupBy(\"DSCR_cat\")\n",
    "        .agg(\n",
    "            f.sum(\"good\").alias(\"good\"),\n",
    "            f.sum(\"bad\").alias(\"bad\")\n",
    "        )\n",
    "    )\n",
    "total_good_DSCR=(\n",
    "       DSCR\n",
    "        .agg(f.sum(\"good\").alias(\"good\"))\n",
    "        .collect()[0]['good']\n",
    "    )\n",
    "total_bad_DSCR= (\n",
    "        DSCR\n",
    "        .agg(f.sum(\"bad\").alias(\"bad\"))\n",
    "        .collect()[0]['bad']\n",
    "    )\n",
    "\n",
    "DSCR=(\n",
    "    DSCR\n",
    "    .withColumn(\n",
    "        \"Total_rate\",\n",
    "        ((f.col(\"good\")+f.col(\"bad\"))/(total_good_DSCR+total_bad_DSCR))\n",
    "        )\n",
    "    .withColumn(\n",
    "        \"good_rate\",\n",
    "        f.col(\"good\")/total_good_DSCR   \n",
    "    )\n",
    "    .withColumn(\n",
    "        \"bad_rate\",\n",
    "        f.col(\"bad\")/total_bad_DSCR \n",
    "    )\n",
    "    .withColumn(\n",
    "        \"odd\",\n",
    "        f.col(\"good\")/f.col(\"bad\")  \n",
    "    )\n",
    "    .withColumn(\n",
    "    \"IV\",\n",
    "    (\n",
    "        ((f.col(\"good\") / total_good_DSCR) - (f.col(\"bad\") / total_bad_DSCR)) *\n",
    "        f.ln((f.col(\"good\") / total_good_DSCR) / (f.col(\"bad\") / total_bad_DSCR))\n",
    "    )\n",
    ")\n",
    "    .withColumn(\n",
    "       \"good_rate_of_sub_cat\",\n",
    "    f.col(\"good\") / (f.col(\"good\") + f.col(\"bad\"))\n",
    "    )\n",
    "    .orderBy(\"good_rate_of_sub_cat\")\n",
    ")\n",
    "# IV_value_DSCR= 0.000052+0.004582+0.0036=66+0.023002+0.000092\n",
    "IV_value_DSCR= \t0.004085+0.001120+\t0.003951+0.019609+0.003596"
   ]
  },
  {
   "cell_type": "code",
   "execution_count": 465,
   "id": "d3af3ed1",
   "metadata": {},
   "outputs": [
    {
     "name": "stdout",
     "output_type": "stream",
     "text": [
      "+--------+-------------+\n",
      "|DSCR_cat|count(DSCR_C)|\n",
      "+--------+-------------+\n",
      "|   12-17|           70|\n",
      "|     23>|          153|\n",
      "|     0-5|         5652|\n",
      "|    6-11|          750|\n",
      "|   18-23|           39|\n",
      "+--------+-------------+\n",
      "\n"
     ]
    }
   ],
   "source": [
    "master_table_new_dcsr1.show()"
   ]
  },
  {
   "cell_type": "code",
   "execution_count": 466,
   "id": "c8284939",
   "metadata": {},
   "outputs": [
    {
     "data": {
      "text/html": [
       "<div>\n",
       "<style scoped>\n",
       "    .dataframe tbody tr th:only-of-type {\n",
       "        vertical-align: middle;\n",
       "    }\n",
       "\n",
       "    .dataframe tbody tr th {\n",
       "        vertical-align: top;\n",
       "    }\n",
       "\n",
       "    .dataframe thead th {\n",
       "        text-align: right;\n",
       "    }\n",
       "</style>\n",
       "<table border=\"1\" class=\"dataframe\">\n",
       "  <thead>\n",
       "    <tr style=\"text-align: right;\">\n",
       "      <th></th>\n",
       "      <th>DSCR_cat</th>\n",
       "      <th>good</th>\n",
       "      <th>bad</th>\n",
       "      <th>Total_rate</th>\n",
       "      <th>good_rate</th>\n",
       "      <th>bad_rate</th>\n",
       "      <th>odd</th>\n",
       "      <th>IV</th>\n",
       "      <th>good_rate_of_sub_cat</th>\n",
       "    </tr>\n",
       "  </thead>\n",
       "  <tbody>\n",
       "    <tr>\n",
       "      <th>0</th>\n",
       "      <td>0-5</td>\n",
       "      <td>4620</td>\n",
       "      <td>1032</td>\n",
       "      <td>0.848139</td>\n",
       "      <td>0.837867</td>\n",
       "      <td>0.897391</td>\n",
       "      <td>4.476744</td>\n",
       "      <td>0.004085</td>\n",
       "      <td>0.817410</td>\n",
       "    </tr>\n",
       "    <tr>\n",
       "      <th>1</th>\n",
       "      <td>12-17</td>\n",
       "      <td>61</td>\n",
       "      <td>9</td>\n",
       "      <td>0.010504</td>\n",
       "      <td>0.011063</td>\n",
       "      <td>0.007826</td>\n",
       "      <td>6.777778</td>\n",
       "      <td>0.001120</td>\n",
       "      <td>0.871429</td>\n",
       "    </tr>\n",
       "    <tr>\n",
       "      <th>2</th>\n",
       "      <td>23&gt;</td>\n",
       "      <td>135</td>\n",
       "      <td>18</td>\n",
       "      <td>0.022959</td>\n",
       "      <td>0.024483</td>\n",
       "      <td>0.015652</td>\n",
       "      <td>7.500000</td>\n",
       "      <td>0.003951</td>\n",
       "      <td>0.882353</td>\n",
       "    </tr>\n",
       "    <tr>\n",
       "      <th>3</th>\n",
       "      <td>6-11</td>\n",
       "      <td>662</td>\n",
       "      <td>88</td>\n",
       "      <td>0.112545</td>\n",
       "      <td>0.120058</td>\n",
       "      <td>0.076522</td>\n",
       "      <td>7.522727</td>\n",
       "      <td>0.019609</td>\n",
       "      <td>0.882667</td>\n",
       "    </tr>\n",
       "    <tr>\n",
       "      <th>4</th>\n",
       "      <td>18-23</td>\n",
       "      <td>36</td>\n",
       "      <td>3</td>\n",
       "      <td>0.005852</td>\n",
       "      <td>0.006529</td>\n",
       "      <td>0.002609</td>\n",
       "      <td>12.000000</td>\n",
       "      <td>0.003596</td>\n",
       "      <td>0.923077</td>\n",
       "    </tr>\n",
       "  </tbody>\n",
       "</table>\n",
       "</div>"
      ],
      "text/plain": [
       "  DSCR_cat  good   bad  Total_rate  good_rate  bad_rate        odd        IV  \\\n",
       "0      0-5  4620  1032    0.848139   0.837867  0.897391   4.476744  0.004085   \n",
       "1    12-17    61     9    0.010504   0.011063  0.007826   6.777778  0.001120   \n",
       "2      23>   135    18    0.022959   0.024483  0.015652   7.500000  0.003951   \n",
       "3     6-11   662    88    0.112545   0.120058  0.076522   7.522727  0.019609   \n",
       "4    18-23    36     3    0.005852   0.006529  0.002609  12.000000  0.003596   \n",
       "\n",
       "   good_rate_of_sub_cat  \n",
       "0              0.817410  \n",
       "1              0.871429  \n",
       "2              0.882353  \n",
       "3              0.882667  \n",
       "4              0.923077  "
      ]
     },
     "execution_count": 466,
     "metadata": {},
     "output_type": "execute_result"
    }
   ],
   "source": [
    "DSCR.toPandas().head()"
   ]
  },
  {
   "cell_type": "code",
   "execution_count": 430,
   "id": "58cd103e",
   "metadata": {},
   "outputs": [],
   "source": [
    "DSCR.toPandas().to_csv(\"../output/last/dscr_cat_wise_active_3w.csv\")"
   ]
  },
  {
   "cell_type": "code",
   "execution_count": 431,
   "id": "f4541a27",
   "metadata": {},
   "outputs": [
    {
     "data": {
      "text/plain": [
       "0.032361"
      ]
     },
     "execution_count": 431,
     "metadata": {},
     "output_type": "execute_result"
    }
   ],
   "source": [
    "IV_value_DSCR"
   ]
  },
  {
   "cell_type": "markdown",
   "id": "28a572e8",
   "metadata": {},
   "source": [
    "IV (Information Value Statistic)\tDescription of Correlation\n",
    "<0.01                               No Correlation\n",
    "0.01 - 0.03                        \tMarginal contribution\n",
    "0.03 - 0.10\t                        Adequate predictability\n",
    "0.10 - 0.30\t                        Strong predictor\n",
    "0.30 - 0.50\t                        Very Strong predictor\n",
    ">=0.5\t                            \"Suspicious\" - Too good to be true\n"
   ]
  },
  {
   "cell_type": "code",
   "execution_count": 467,
   "id": "f1c5e1f3",
   "metadata": {},
   "outputs": [
    {
     "name": "stdout",
     "output_type": "stream",
     "text": [
      "IV_value_CUST_PERMRES:  0.01641\n",
      "IV_Guarantor_PreNises_wise: 0.062701\n",
      "IV_value_DSCR: 0.032361\n",
      "IVP_Exp_value: 0.217904\n",
      "Iv_value_Product_wise: 0.08003299999999999\n"
     ]
    }
   ],
   "source": [
    "print(\"IV_value_CUST_PERMRES: \",IV_value_CUST_PERMRES)\n",
    "print(\"IV_Guarantor_PreNises_wise:\",IV_Guarantor_PreNises_wise)\n",
    "print(\"IV_value_DSCR:\",IV_value_DSCR)\n",
    "print(\"IVP_Exp_value:\",IVP_EXP_value)\n",
    "print(\"Iv_value_Product_wise:\",Iv_value_Product_wise)"
   ]
  },
  {
   "cell_type": "markdown",
   "id": "480f3771",
   "metadata": {},
   "source": [
    "# Selecting Customer good or bad (On Total Collectiion Ratio)"
   ]
  },
  {
   "cell_type": "code",
   "execution_count": null,
   "id": "5dff3e2c",
   "metadata": {},
   "outputs": [],
   "source": []
  }
 ],
 "metadata": {
  "kernelspec": {
   "display_name": "Python 3 (ipykernel)",
   "language": "python",
   "name": "python3"
  },
  "language_info": {
   "codemirror_mode": {
    "name": "ipython",
    "version": 3
   },
   "file_extension": ".py",
   "mimetype": "text/x-python",
   "name": "python",
   "nbconvert_exporter": "python",
   "pygments_lexer": "ipython3",
   "version": "3.11.4"
  }
 },
 "nbformat": 4,
 "nbformat_minor": 5
}
