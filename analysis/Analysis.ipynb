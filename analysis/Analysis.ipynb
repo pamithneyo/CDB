{
 "cells": [
  {
   "cell_type": "code",
   "execution_count": 3,
   "id": "6018fcd7",
   "metadata": {},
   "outputs": [],
   "source": [
    "from pyspark.sql import SparkSession\n",
    "from pyspark.sql import functions as f\n",
    "from pyspark.sql.window import Window\n",
    "from sklearn.preprocessing import LabelEncoder\n",
    "from sklearn.feature_selection import chi2\n",
    "import matplotlib.pyplot as plt\n",
    "import pandas as pd\n",
    "spark = SparkSession.builder \\\n",
    "    .appName(\"Analysis\") \\\n",
    "    .getOrCreate()"
   ]
  },
  {
   "cell_type": "markdown",
   "id": "65b869f8",
   "metadata": {},
   "source": [
    "### Loading datase"
   ]
  },
  {
   "cell_type": "code",
   "execution_count": 5,
   "id": "b2fd0c80",
   "metadata": {},
   "outputs": [],
   "source": [
    "master_table= (\n",
    "    spark.read.csv(\n",
    "        \"../dataset/New/credit_score_detail_3w_report.csv\", \n",
    "        header=True,\n",
    "        inferSchema=True\n",
    "    )\n",
    "    .select(\n",
    "        \"FAC NO\",\n",
    "        \"Branch Name\",\n",
    "        \"PRODUCT Name\",\n",
    "        \"Equipment Category Description\",\n",
    "        \"Scheme Description\",\n",
    "        \"Make Description\",\n",
    "        \"District Name\",\n",
    "        \"Connex Date\",\n",
    "        \"Lease Amount\",\n",
    "        \"Portfolio\",\n",
    "        \"Int Rate\",\n",
    "        \"Future Capital\",\n",
    "        \"TOTAL DUE\",\n",
    "        \"TOTAL COLLECTION\",\n",
    "        \"TOTAL COLLECTION RATIO\",\n",
    "        \"Collection For The Month\",\n",
    "        \"Collection Ratio\",\n",
    "        \"DPD\",\n",
    "        \"90>=day_contract\",\n",
    "        \"Credit Decision\",\n",
    "        \"Credit Score\"\n",
    "    )\n",
    ")"
   ]
  },
  {
   "cell_type": "code",
   "execution_count": 6,
   "id": "c2f735a3",
   "metadata": {},
   "outputs": [
    {
     "name": "stdout",
     "output_type": "stream",
     "text": [
      "+-------------------+--------------------+--------------------+------------------------------+--------------------+----------------+-------------+-----------+------------+---------+--------+--------------+---------+----------------+----------------------+------------------------+----------------+----+----------------+---------------+------------+\n",
      "|             FAC NO|         Branch Name|        PRODUCT Name|Equipment Category Description|  Scheme Description|Make Description|District Name|Connex Date|Lease Amount|Portfolio|Int Rate|Future Capital|TOTAL DUE|TOTAL COLLECTION|TOTAL COLLECTION RATIO|Collection For The Month|Collection Ratio| DPD|90>=day_contract|Credit Decision|Credit Score|\n",
      "+-------------------+--------------------+--------------------+------------------------------+--------------------+----------------+-------------+-----------+------------+---------+--------+--------------+---------+----------------+----------------------+------------------------+----------------+----+----------------+---------------+------------+\n",
      "|'002300091997050201|        EMBILIPITIYA|Three Wheeler-Lea...|                 Three Wheeler|3W-LE-Registered ...|           BAJAJ|    RATNAPURA| 2012-05-21|     180,000|        0|      40|             0|   147220|          186691|                1.2681|                       0|            NULL|   0|               0|           #N/A|        #N/A|\n",
      "|'007000286220050801|       MAHIYANGANAYA|        CASH IN HAND|                 Three Wheeler|3W Cash In Hand -...|           BAJAJ|        KANDY| 2020-12-23|     393,774|   346218|      32|       321,157|   828082|          967150|                1.1679|                  35,000|         101.19%|  11|               0|           #N/A|        #N/A|\n",
      "|'014200183766050801|VIRTUAL_OPERATION...|        CASH IN HAND|                 Three Wheeler|3W Cash In Hand -...|           BAJAJ|   KURUNEGALA| 2022-06-29|     177,390|   143315|      35|       138,604|   445127|          513619|                1.1539|                  50,000|         274.17%|  11|               0|         Manual|          11|\n",
      "|'001200772724050203|          WELLAWATTA|Three Wheeler-Lea...|                 Three Wheeler|3W-LE-Registered ...|           BAJAJ| NUWARA ELIYA| 2021-11-01|     573,013|   553747|      33|       553,714|   839672|          966909|                1.1515|                  51,500|         199.67%|  30|               0|           #N/A|        #N/A|\n",
      "|'041200813926050803|  EHELIYAGODA_UNIT_A|        CASH IN HAND|                 Three Wheeler|3W Cash In Hand -...|           BAJAJ|      COLOMBO| 2022-05-23|     338,698|   332284|      34|       331,804|   229420|          262615|                1.1447|                  13,205|          96.49%|   6|               0|         Green |        60.1|\n",
      "|'001200153124050101|          WELLAWATTA|Three Wheeler-Lea...|                 Three Wheeler|3W-LE-Brand New D...|           BAJAJ|      COLOMBO| 2012-11-30|     422,440|        0|      26|             0|   498540|          564575|                1.1325|                       0|            NULL|   0|               0|           #N/A|        #N/A|\n",
      "|'009300722911050202|      KANDANA_UNIT_2|Three Wheeler-Lea...|                 Three Wheeler|3W-LE-Registered ...|           BAJAJ|      GAMPAHA| 2020-12-09|     564,250|   533206|      32|       533,206|   777076|          879062|                1.1312|                  31,320|         100.00%|   0|               0|           #N/A|        #N/A|\n",
      "|'004500162622050201|        KULIYAPITIYA|Three Wheeler-Lea...|                 Three Wheeler|3W-LE-Registered ...|           BAJAJ|   KURUNEGALA| 2013-01-08|     220,000|        0|      38|             0|   240288|          270726|                1.1267|                       0|            NULL|   0|               0|           #N/A|        #N/A|\n",
      "|'003300044405050101|            VAVUNIYA|Three Wheeler-Lea...|                 Three Wheeler|3W-LE-Brand New D...|           BAJAJ|     VAVUNIYA| 2013-01-08|     416,190|      522|      27|             0|   424775|          475000|                1.1182|                       0|            NULL|2873|               1|           #N/A|        #N/A|\n",
      "|'000500641496050201|            KELANIYA|Three Wheeler-Lea...|                 Three Wheeler|3W-LE-Registered ...|           BAJAJ|      GAMPAHA| 2019-09-16|     576,929|   576929|      32|       557,183|   799272|          884894|                1.1071|                       0|           0.00%|  58|               0|           #N/A|        #N/A|\n",
      "|'000400129216050201|          KURUNEGALA|Three Wheeler-Lea...|                 Three Wheeler|3W-LE-Registered ...|           BAJAJ|      COLOMBO| 2012-08-03|     230,000|        0|      40|             0|   221300|          243430|                   1.1|                       0|            NULL|   0|               0|           #N/A|        #N/A|\n",
      "|'002100432865050802|          MAHARAGAMA|        CASH IN HAND|                 Three Wheeler|3W Cash In Hand -...|           BAJAJ|      COLOMBO| 2022-06-23|     749,700|   738432|      35|       726,312|   579509|          635137|                 1.096|                  22,190|          64.68%|   6|               0|         Green |       64.04|\n",
      "|'009300706836050201|      KANDANA_UNIT_2|Three Wheeler-Lea...|                 Three Wheeler|3W-LE-Registered ...|           BAJAJ| ANURADHAPURA| 2020-08-17|     432,507|   410006|      32|       410,006|   713129|          780663|                1.0947|                  19,159|         100.00%|   0|               0|           #N/A|        #N/A|\n",
      "|'001100226850050201|        ANURADHAPURA|Three Wheeler-Lea...|                 Three Wheeler|3W-LE-Registered ...|           BAJAJ| ANURADHAPURA| 2021-12-06|     585,843|   587991|      30|       566,012|   439958|          481088|                1.0935|                       0|           0.00%|  85|               0|           #N/A|        #N/A|\n",
      "|'005300797207050201|          RAJAGIRIYA|Three Wheeler-Lea...|                 Three Wheeler|3W-LE-Registered ...|           BAJAJ|      COLOMBO| 2022-06-22|     248,170|   241466|      33|       233,911|   354666|          387730|                1.0932|                     527|           3.64%|  11|               0|         Green |       83.97|\n",
      "|'002300691174050202|        EMBILIPITIYA|Three Wheeler-Lea...|                 Three Wheeler|3W-LE-Registered ...|           BAJAJ|  HAMBANTHOTA| 2020-06-19|     275,721|   102442|      30|       102,442|   513824|          561368|                1.0925|                  49,792|         400.00%|   0|               0|           #N/A|        #N/A|\n",
      "|'003100131832050102|      COLOMBO OFFICE|Three Wheeler-Lea...|                 Three Wheeler|3W-LE-Brand New D...|             TVS|      COLOMBO| 2012-08-30|     372,018|        0|      29|             0|   395839|          431294|                1.0896|                       0|            NULL|   0|               0|           #N/A|        #N/A|\n",
      "|'000700207873050201|             GAMPAHA|Three Wheeler-Lea...|                 Three Wheeler|3W-LE-Registered ...|           BAJAJ|      GAMPAHA| 2013-07-30|     320,000|        0|      38|             0|   465744|          507240|                1.0891|                       0|            NULL|   0|               0|           #N/A|        #N/A|\n",
      "|'006100734411050201|          WARAKAPOLA|Three Wheeler-Lea...|                 Three Wheeler|3W-LE-Registered ...|           BAJAJ|      KEGALLE| 2021-01-27|     559,990|   409159|      26|       400,464|   602140|          655598|                1.0888|                  17,542|         100.00%|   6|               0|           #N/A|        #N/A|\n",
      "|'006200782456050801|             KOTTAWA|        CASH IN HAND|                 Three Wheeler|3W Cash In Hand -...|           BAJAJ|      COLOMBO| 2021-12-15|     449,071|   445822|      28|       424,209|   605367|          657947|                1.0869|                       0|           0.00%|  36|               0|           #N/A|        #N/A|\n",
      "+-------------------+--------------------+--------------------+------------------------------+--------------------+----------------+-------------+-----------+------------+---------+--------+--------------+---------+----------------+----------------------+------------------------+----------------+----+----------------+---------------+------------+\n",
      "only showing top 20 rows\n",
      "\n"
     ]
    }
   ],
   "source": [
    "master_table.show()"
   ]
  },
  {
   "cell_type": "markdown",
   "id": "31aba738",
   "metadata": {},
   "source": [
    "# 3W after automated "
   ]
  },
  {
   "cell_type": "code",
   "execution_count": 23,
   "id": "b3899f61",
   "metadata": {},
   "outputs": [],
   "source": [
    "after_automated_3w= (\n",
    "    master_table\n",
    "    .filter(f.col(\"Connex Date\").between(\"2022-04-01\",\"2023-04-01\"))\n",
    ")"
   ]
  },
  {
   "cell_type": "code",
   "execution_count": 24,
   "id": "4702cdef",
   "metadata": {},
   "outputs": [
    {
     "name": "stdout",
     "output_type": "stream",
     "text": [
      "+----------------+----------------+\n",
      "|min(Connex Date)|max(Connex Date)|\n",
      "+----------------+----------------+\n",
      "|      2022-04-01|      2023-04-01|\n",
      "+----------------+----------------+\n",
      "\n"
     ]
    }
   ],
   "source": [
    "after_automated_3w.agg(f.min(\"Connex Date\"),f.max(\"Connex Date\")).show()"
   ]
  },
  {
   "cell_type": "markdown",
   "id": "e5b5423e",
   "metadata": {},
   "source": [
    "#### Dividing the overall Score in to slabs (Credit score)\n",
    "\n"
   ]
  },
  {
   "cell_type": "code",
   "execution_count": 25,
   "id": "6ce6003e",
   "metadata": {},
   "outputs": [],
   "source": [
    "after_automated_3w_Credit_score = (\n",
    "    after_automated_3w\n",
    "    .select(\n",
    "        \"FAC NO\",\n",
    "        \"Connex Date\",\n",
    "        \"Portfolio\",\n",
    "        \"TOTAL COLLECTION\",\n",
    "        \"TOTAL DUE\",\n",
    "        \"90>=day_contract\",\n",
    "        \"Credit Decision\",\n",
    "        \"Credit Score\"\n",
    "           )\n",
    "    .withColumn(\"Overall_score_slab\",\n",
    "                f.when(f.col(\"Credit Score\")<=40,\"below_40\")\n",
    "               .when(f.col(\"Credit Score\").between(40,49),\"40-50\")\n",
    "                .when(f.col(\"Credit Score\").between(50,59),\"50-60\")\n",
    "                .when(f.col(\"Credit Score\").between(60,69),\"60-70\")\n",
    "                .when(f.col(\"Credit Score\").between(70,79),\"70-80\")\n",
    "                .when(f.col(\"Credit Score\").between(80,89),\"80-90\")\n",
    "                .otherwise(\"90_above\")\n",
    "        )\n",
    ")"
   ]
  },
  {
   "cell_type": "code",
   "execution_count": 26,
   "id": "6f52e11b",
   "metadata": {},
   "outputs": [
    {
     "name": "stdout",
     "output_type": "stream",
     "text": [
      "+------------------+\n",
      "|Overall_score_slab|\n",
      "+------------------+\n",
      "|          below_40|\n",
      "|             40-50|\n",
      "|          90_above|\n",
      "|             80-90|\n",
      "|             60-70|\n",
      "|             50-60|\n",
      "|             70-80|\n",
      "+------------------+\n",
      "\n"
     ]
    }
   ],
   "source": [
    "after_automated_3w_Credit_score.select(\"Overall_score_slab\").distinct().show()"
   ]
  },
  {
   "cell_type": "code",
   "execution_count": 27,
   "id": "8d5ae55c",
   "metadata": {},
   "outputs": [],
   "source": [
    "overall_score_slab=(\n",
    "    after_automated_3w_Credit_score\n",
    "     .groupBy(\"Overall_score_slab\")\n",
    "     .agg(\n",
    "         f.count(\"FAC NO\").alias(\"Facility Count\"),\n",
    "         f.sum(\"Portfolio\").alias(\"Total Portfolio\"),\n",
    "         f.sum(\"TOTAL COLLECTION\").alias(\"TOTAL COLLECTION\"),\n",
    "         f.sum(\"TOTAL DUE\").alias(\"TOTAL DUE\"),\n",
    "         f.sum(\"90>=day_contract\").alias(\"NPA\")\n",
    "     )\n",
    "    .withColumn(\"Total Collection Ratio\",f.col(\"TOTAL COLLECTION\")/f.col(\"TOTAL DUE\"))\n",
    "    ).orderBy(\"Total Collection Ratio\")"
   ]
  },
  {
   "cell_type": "code",
   "execution_count": 28,
   "id": "11792f3a",
   "metadata": {},
   "outputs": [
    {
     "name": "stdout",
     "output_type": "stream",
     "text": [
      "+------------------+--------------+---------------+----------------+----------+---+----------------------+\n",
      "|Overall_score_slab|Facility Count|Total Portfolio|TOTAL COLLECTION| TOTAL DUE|NPA|Total Collection Ratio|\n",
      "+------------------+--------------+---------------+----------------+----------+---+----------------------+\n",
      "|          below_40|          3919|     1944160177|      1090936239|1283514098|794|    0.8499604645558011|\n",
      "|             50-60|           284|      147406316|       107325272| 126220114| 67|    0.8503024486255811|\n",
      "|             60-70|           578|      274971386|       202585805| 233141731|121|    0.8689384098293411|\n",
      "|             70-80|          1191|      492528592|       375466137| 427395965|204|    0.8784971495928839|\n",
      "|             80-90|          1225|      453259987|       355654288| 393837902|161|    0.9030473862315059|\n",
      "|             40-50|            18|        9776837|         9674026|  10545368|  3|    0.9173720632603812|\n",
      "|          90_above|           461|      151973795|       123942542| 131971249| 30|    0.9391632112233779|\n",
      "+------------------+--------------+---------------+----------------+----------+---+----------------------+\n",
      "\n"
     ]
    }
   ],
   "source": [
    "overall_score_slab.show()"
   ]
  },
  {
   "cell_type": "code",
   "execution_count": 29,
   "id": "9e25120c",
   "metadata": {},
   "outputs": [
    {
     "name": "stdout",
     "output_type": "stream",
     "text": [
      "+--------------------+\n",
      "|sum(Total Portfolio)|\n",
      "+--------------------+\n",
      "|          3474077090|\n",
      "+--------------------+\n",
      "\n"
     ]
    }
   ],
   "source": [
    "overall_score_slab.agg(f.sum(\"Total Portfolio\")).show()"
   ]
  },
  {
   "cell_type": "code",
   "execution_count": 30,
   "id": "b9bf4092",
   "metadata": {},
   "outputs": [
    {
     "name": "stdout",
     "output_type": "stream",
     "text": [
      "+-------------------+\n",
      "|sum(Facility Count)|\n",
      "+-------------------+\n",
      "|               7676|\n",
      "+-------------------+\n",
      "\n"
     ]
    }
   ],
   "source": [
    "overall_score_slab.agg(f.sum(\"Facility Count\")).show()"
   ]
  },
  {
   "cell_type": "code",
   "execution_count": 31,
   "id": "957bf71d",
   "metadata": {},
   "outputs": [
    {
     "name": "stdout",
     "output_type": "stream",
     "text": [
      "+--------+\n",
      "|sum(NPA)|\n",
      "+--------+\n",
      "|    1380|\n",
      "+--------+\n",
      "\n"
     ]
    }
   ],
   "source": [
    "overall_score_slab.agg(f.sum(\"NPA\")).show()"
   ]
  },
  {
   "cell_type": "code",
   "execution_count": 32,
   "id": "4fa16539",
   "metadata": {},
   "outputs": [],
   "source": [
    "## after_automated_3w_Credit_score slabs 40-50\n",
    "after_automated_3w_Credit_score_slab_40_to_50=(\n",
    "    after_automated_3w_Credit_score\n",
    "    .filter(f.col(\"Overall_score_slab\")==\"40-50\")\n",
    ")\n"
   ]
  },
  {
   "cell_type": "code",
   "execution_count": 33,
   "id": "31ba7500",
   "metadata": {},
   "outputs": [
    {
     "name": "stdout",
     "output_type": "stream",
     "text": [
      "+-------------------+-----------+---------+----------------+---------+----------------+---------------+------------+------------------+\n",
      "|             FAC NO|Connex Date|Portfolio|TOTAL COLLECTION|TOTAL DUE|90>=day_contract|Credit Decision|Credit Score|Overall_score_slab|\n",
      "+-------------------+-----------+---------+----------------+---------+----------------+---------------+------------+------------------+\n",
      "|'020900816709050201| 2022-06-02|   159254|          584782|   584782|               0|         Yellow|        47.6|             40-50|\n",
      "|'012500807287050201| 2022-04-20|   154346|          895566|   895566|               0|         Yellow|        48.6|             40-50|\n",
      "|'005000804594050202| 2022-04-04|   526834|          536886|   536886|               0|         Yellow|       45.51|             40-50|\n",
      "|'004400655002050201| 2022-05-23|   848128|          707400|   707400|               0|         Yellow|       49.77|             40-50|\n",
      "|'002100807434050201| 2022-05-06|   300545|          468300|   468300|               0|         Yellow|        47.5|             40-50|\n",
      "|'000400814912050201| 2022-05-25|   556511|          847200|   847200|               0|         Yellow|       48.75|             40-50|\n",
      "|'000400805932050201| 2022-04-08|   111178|          653856|   653856|               0|         Yellow|        43.1|             40-50|\n",
      "|'001600804979050201| 2022-04-08|   408655|          313200|   322770|               0|         Yellow|        48.6|             40-50|\n",
      "|'000500494092050802| 2022-04-04|   708163|          521679|   539427|               0|         Yellow|       45.98|             40-50|\n",
      "|'001300235680050203| 2022-04-04|   513176|          742315|   771477|               0|         Yellow|       48.85|             40-50|\n",
      "|'005900813880050801| 2022-05-20|   648418|          610914|   643060|               0|         Yellow|        47.6|             40-50|\n",
      "|'006200176280050201| 2022-05-18|   658779|          574472|   623900|               0|         Yellow|       41.22|             40-50|\n",
      "|'002500805011050201| 2022-04-06|   719697|          412103|   452907|               0|         Yellow|        48.6|             40-50|\n",
      "|'006300809127050201| 2022-04-29|   423153|          312780|   353682|               0|         Yellow|        47.5|             40-50|\n",
      "|'018200308037050201| 2022-04-20|   613773|          429292|   485604|               0|         Yellow|       47.25|             40-50|\n",
      "|'000400804211050201| 2022-04-01|   888189|          408402|   570255|               1|         Yellow|        49.5|             40-50|\n",
      "|'040100804339050202| 2022-04-22|   622389|          327840|   458976|               1|         Yellow|        44.4|             40-50|\n",
      "|'001500805116050201| 2022-05-03|   915649|          327039|   629320|               1|         Yellow|       48.64|             40-50|\n",
      "+-------------------+-----------+---------+----------------+---------+----------------+---------------+------------+------------------+\n",
      "\n"
     ]
    }
   ],
   "source": [
    "after_automated_3w_Credit_score_slab_40_to_50.show()"
   ]
  },
  {
   "cell_type": "code",
   "execution_count": 35,
   "id": "82b2ce97",
   "metadata": {},
   "outputs": [],
   "source": [
    "after_automated_3w_Credit_score.toPandas().to_csv(\"../output/20240126_final_output/credit_score_detail_3w_report_new.csv\")"
   ]
  },
  {
   "cell_type": "code",
   "execution_count": null,
   "id": "db131507",
   "metadata": {},
   "outputs": [],
   "source": [
    "# Conclusion"
   ]
  }
 ],
 "metadata": {
  "kernelspec": {
   "display_name": "Python 3 (ipykernel)",
   "language": "python",
   "name": "python3"
  },
  "language_info": {
   "codemirror_mode": {
    "name": "ipython",
    "version": 3
   },
   "file_extension": ".py",
   "mimetype": "text/x-python",
   "name": "python",
   "nbconvert_exporter": "python",
   "pygments_lexer": "ipython3",
   "version": "3.11.4"
  }
 },
 "nbformat": 4,
 "nbformat_minor": 5
}
