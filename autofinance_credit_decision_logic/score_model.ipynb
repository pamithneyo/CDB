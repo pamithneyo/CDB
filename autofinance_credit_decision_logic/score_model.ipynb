{
 "cells": [
  {
   "cell_type": "markdown",
   "metadata": {
    "vscode": {
     "languageId": "plaintext"
    }
   },
   "source": [
    "## Import Libraries"
   ]
  },
  {
   "cell_type": "code",
   "execution_count": 37,
   "metadata": {},
   "outputs": [],
   "source": [
    "import pandas as pd\n",
    "import re"
   ]
  },
  {
   "cell_type": "markdown",
   "metadata": {},
   "source": [
    "## Loading the Dataset"
   ]
  },
  {
   "cell_type": "code",
   "execution_count": 137,
   "metadata": {},
   "outputs": [],
   "source": [
    "# file path\n",
    "file_path = \"./data/score_data.xlsx\"  \n",
    "\n",
    "# Sheets\n",
    "use_of_vehicle_sheet= \"use_of_vehicle\" \n",
    "facility_purpose_sheet = \"facility_purpose\"\n",
    "permanent_residence_sheet = \"permanent_residence\"\n",
    "exporsure_sheet = \"exporsure\" \n",
    "asset_sheet = \"asset\"\n",
    "make_sheet = \"make\"\n",
    "\n",
    "# Loading data\n",
    "use_of_vehicle_data = pd.read_excel(file_path, sheet_name = use_of_vehicle_sheet)\n",
    "facility_purpose_data = pd.read_excel(file_path, sheet_name = facility_purpose_sheet)\n",
    "permanent_residence_data = pd.read_excel(file_path, sheet_name = permanent_residence_sheet)\n",
    "exporsure_data = pd.read_excel(file_path, sheet_name = exporsure_sheet)\n",
    "asset_data = pd.read_excel(file_path, sheet_name = asset_sheet)\n",
    "make_data = pd.read_excel(file_path, sheet_name=make_sheet, dtype={0: str})"
   ]
  },
  {
   "cell_type": "code",
   "execution_count": 138,
   "metadata": {},
   "outputs": [
    {
     "data": {
      "text/plain": [
       "0      001\n",
       "1      002\n",
       "2      003\n",
       "3      004\n",
       "4      005\n",
       "      ... \n",
       "325    326\n",
       "326    327\n",
       "327    328\n",
       "328    400\n",
       "329     98\n",
       "Name: MAKE CODE, Length: 330, dtype: object"
      ]
     },
     "execution_count": 138,
     "metadata": {},
     "output_type": "execute_result"
    }
   ],
   "source": [
    "make_data['MAKE CODE'].astype('str')"
   ]
  },
  {
   "cell_type": "markdown",
   "metadata": {},
   "source": [
    "### Pre- Defined Functions"
   ]
  },
  {
   "cell_type": "code",
   "execution_count": 17,
   "metadata": {},
   "outputs": [],
   "source": [
    "### exporsure clustering function\n",
    "def exporsure_cluster(net_facility_value,market_price):\n",
    "    if (net_facility_value/market_price) < 0.5:\n",
    "        return \"Less than 50%\"\n",
    "    elif (net_facility_value/market_price) < 0.701:\n",
    "        return \"50% - 70%\"\n",
    "    elif (net_facility_value/market_price) < 0.801:\n",
    "        return \"70% - 80%\"\n",
    "    elif (net_facility_value/market_price) < 0.901:\n",
    "        return \"80% - 90%\"\n",
    "    elif (net_facility_value/market_price) > 0.901:\n",
    "        return \"Above 90%\"\n",
    "    else:\n",
    "        return \"Undefined\"\n",
    "    "
   ]
  },
  {
   "cell_type": "code",
   "execution_count": 23,
   "metadata": {},
   "outputs": [],
   "source": [
    "### exporsure clustering function\n",
    "def yom_cluster(yom):\n",
    "    if (yom) < 1985:\n",
    "        return \"Older than 1985\"\n",
    "    elif (yom) <= 1990:\n",
    "        return \"1985 - 1990\"\n",
    "    elif (yom) <= 1995:\n",
    "        return \"1991 - 1995\"\n",
    "    elif (yom) <= 2000:\n",
    "        return \"1996 - 2000\"\n",
    "    elif (yom) <= 2010:\n",
    "        return \"2001 - 2010\"\n",
    "    elif (yom) <= 2014:\n",
    "        return \"2011 - 2014\" \n",
    "    elif (yom) > 2014:   \n",
    "        return \"2015 and Newer Versions\"\n",
    "    else:\n",
    "        return \"Undefined\""
   ]
  },
  {
   "cell_type": "code",
   "execution_count": 52,
   "metadata": {},
   "outputs": [],
   "source": [
    "### engine capacity function\n",
    "def engine_capacity(engine_cap):\n",
    "\n",
    "    numeric_part = re.findall(r'\\d+', engine_cap)\n",
    "    numeric = int(numeric_part[0])\n",
    "    \n",
    "    if (numeric) < 1000:\n",
    "        return \"Below 1000cc\"\n",
    "    elif (numeric) <= 1600:\n",
    "        return \"1000cc - 1600cc\"\n",
    "    elif (numeric) <= 2500:\n",
    "        return \"1600 cc - 2500 cc\"\n",
    "    elif (numeric) > 2500:\n",
    "        return \"Above 2500 cc\"\n",
    "    else:\n",
    "        return \"Undefined\""
   ]
  },
  {
   "cell_type": "code",
   "execution_count": 125,
   "metadata": {},
   "outputs": [],
   "source": [
    "def get_the_make(make_code):\n",
    "    filtered_row = make_data[make_data['MAKE CODE'] == make_code]\n",
    "    # Check if a matching row exists\n",
    "    if not filtered_row.empty:\n",
    "        return filtered_row['MAKE DESCRIPTION'].iloc[0] \n",
    "    else:\n",
    "        return \"No matching make description found\""
   ]
  },
  {
   "cell_type": "markdown",
   "metadata": {},
   "source": [
    "## Scoring of Criteria"
   ]
  },
  {
   "cell_type": "markdown",
   "metadata": {},
   "source": [
    "#### DCSR Score"
   ]
  },
  {
   "cell_type": "code",
   "execution_count": 3,
   "metadata": {},
   "outputs": [],
   "source": [
    "### DCSR Score\n",
    "def get_score_for_dcsr(total_commitment,monthly_income_including_income_from_facility):\n",
    "    if (monthly_income_including_income_from_facility/total_commitment)>monthly_income_including_income_from_facility:\n",
    "        return -3\n",
    "    elif (monthly_income_including_income_from_facility/total_commitment)<=1:\n",
    "        return -20\n",
    "    elif (monthly_income_including_income_from_facility/total_commitment)<=1.5:\n",
    "        return 0.5\n",
    "    elif (monthly_income_including_income_from_facility/total_commitment)<=2:\n",
    "        return 0.75\n",
    "    elif (monthly_income_including_income_from_facility/total_commitment)>2:\n",
    "        return 1\n",
    "    else:\n",
    "        return \"No matching score found\""
   ]
  },
  {
   "cell_type": "markdown",
   "metadata": {},
   "source": [
    "### Use of Vehicle Score"
   ]
  },
  {
   "cell_type": "code",
   "execution_count": 4,
   "metadata": {},
   "outputs": [],
   "source": [
    "\n",
    "def get_score_for_use_of_vehicle(use_of_vehicle):\n",
    "    filtered_row = use_of_vehicle_data[use_of_vehicle_data['Use of Vehicle'] == use_of_vehicle]\n",
    "    # Check if a matching row exists\n",
    "    if not filtered_row.empty:\n",
    "        return filtered_row['Score'].iloc[0] \n",
    "    else:\n",
    "        return \"No matching score found\""
   ]
  },
  {
   "cell_type": "code",
   "execution_count": 5,
   "metadata": {},
   "outputs": [
    {
     "name": "stdout",
     "output_type": "stream",
     "text": [
      "The score for 'Business' is: 1.0\n"
     ]
    }
   ],
   "source": [
    "use_of_vehicle_to_check = \"Business\"  \n",
    "score = get_score_for_use_of_vehicle(use_of_vehicle_to_check)\n",
    "print(f\"The score for '{use_of_vehicle_to_check}' is: {score}\")"
   ]
  },
  {
   "cell_type": "markdown",
   "metadata": {},
   "source": [
    "### Facility Purpose"
   ]
  },
  {
   "cell_type": "code",
   "execution_count": 6,
   "metadata": {},
   "outputs": [],
   "source": [
    "def get_score_for_facility_purpose(facility_purpose):\n",
    "    filtered_row = facility_purpose_data[facility_purpose_data['Sector'] == facility_purpose]\n",
    "    # Check if a matching row exists\n",
    "    if not filtered_row.empty:\n",
    "        return filtered_row['Score'].iloc[0] \n",
    "    else:\n",
    "        return \"No matching score found\""
   ]
  },
  {
   "cell_type": "code",
   "execution_count": 7,
   "metadata": {},
   "outputs": [
    {
     "name": "stdout",
     "output_type": "stream",
     "text": [
      "The score for 'CONSTRUCTION & INFRASTRUCTURE DEVELOPMENT' is: -1\n"
     ]
    }
   ],
   "source": [
    "facility_purpose_to_check = \"CONSTRUCTION & INFRASTRUCTURE DEVELOPMENT\"  \n",
    "score = get_score_for_facility_purpose(facility_purpose_to_check)\n",
    "print(f\"The score for '{facility_purpose_to_check}' is: {score}\")"
   ]
  },
  {
   "cell_type": "markdown",
   "metadata": {},
   "source": [
    "### Permanent Residence"
   ]
  },
  {
   "cell_type": "code",
   "execution_count": 8,
   "metadata": {},
   "outputs": [],
   "source": [
    "def get_score_for_permanent_residence(permanent_residence):\n",
    "    filtered_row = permanent_residence_data[permanent_residence_data['Permanent Residence'] == permanent_residence]\n",
    "    # Check if a matching row exists\n",
    "    if not filtered_row.empty:\n",
    "        return filtered_row['Score'].iloc[0] \n",
    "    else:\n",
    "        return \"No matching score found\""
   ]
  },
  {
   "cell_type": "code",
   "execution_count": 9,
   "metadata": {},
   "outputs": [
    {
     "name": "stdout",
     "output_type": "stream",
     "text": [
      "The score for 'Rented' is: 0.45\n"
     ]
    }
   ],
   "source": [
    "permanent_residence_to_check = \"Rented\"  \n",
    "score = get_score_for_permanent_residence(permanent_residence_to_check)\n",
    "print(f\"The score for '{permanent_residence_to_check}' is: {score}\")"
   ]
  },
  {
   "cell_type": "markdown",
   "metadata": {},
   "source": [
    "### Exporsure"
   ]
  },
  {
   "cell_type": "code",
   "execution_count": 10,
   "metadata": {},
   "outputs": [],
   "source": [
    "def get_score_for_exporsure(exporsure):\n",
    "    filtered_row = exporsure_data[exporsure_data['Exporsure'] == exporsure]\n",
    "    # Check if a matching row exists\n",
    "    if not filtered_row.empty:\n",
    "        return filtered_row['Score'].iloc[0] \n",
    "    else:\n",
    "        return \"No matching score found\""
   ]
  },
  {
   "cell_type": "code",
   "execution_count": 11,
   "metadata": {},
   "outputs": [
    {
     "name": "stdout",
     "output_type": "stream",
     "text": [
      "The score for 'Registered - Light Truck - Less than 50%' is: -4.0\n"
     ]
    }
   ],
   "source": [
    "exporsure_to_check = \"Registered - Light Truck - Less than 50%\"  \n",
    "score = get_score_for_exporsure(exporsure_to_check)\n",
    "print(f\"The score for '{exporsure_to_check}' is: {score}\")"
   ]
  },
  {
   "cell_type": "markdown",
   "metadata": {},
   "source": [
    "### Asset"
   ]
  },
  {
   "cell_type": "code",
   "execution_count": 152,
   "metadata": {},
   "outputs": [],
   "source": [
    "def get_score_for_asset(asset):\n",
    "    filtered_row = asset_data[asset_data['Asset'] == asset]\n",
    "    # Check if a matching row exists\n",
    "    if not filtered_row.empty:\n",
    "        return filtered_row['Score'].iloc[0] \n",
    "    else:\n",
    "        return \"No matching score found\""
   ]
  },
  {
   "cell_type": "code",
   "execution_count": 153,
   "metadata": {},
   "outputs": [
    {
     "name": "stdout",
     "output_type": "stream",
     "text": [
      "The score for 'Registered - Car - AMBASSADOR - 2001 - 2010' is: -3.4\n"
     ]
    }
   ],
   "source": [
    "asset_to_check = \"Registered - Car - AMBASSADOR - 2001 - 2010\"  \n",
    "score = get_score_for_asset(asset_to_check)\n",
    "print(f\"The score for '{asset_to_check}' is: {score}\")"
   ]
  },
  {
   "cell_type": "markdown",
   "metadata": {},
   "source": [
    "### CRIB"
   ]
  },
  {
   "cell_type": "code",
   "execution_count": 154,
   "metadata": {},
   "outputs": [],
   "source": [
    "def get_final_crib_score(\n",
    "        crib_status,dcsr_score,use_of_vehicle_score,facility_purpose_score,\n",
    "        permanent_residence_score,exporsure_score,asset_score,crib_score):\n",
    "    if crib_status == 'No Hit':\n",
    "        value = (dcsr_score + use_of_vehicle_score + facility_purpose_score + permanent_residence_score + exporsure_score + asset_score)*0.3\n",
    "        return value\n",
    "\n",
    "    elif crib_status == 'No CRIB':\n",
    "        value = -0.7\n",
    "        return value\n",
    "    elif  crib_score <= 25:\n",
    "        value = -0.7\n",
    "        return value\n",
    "    else:\n",
    "        value = crib_score/100\n",
    "        return value\n"
   ]
  },
  {
   "cell_type": "markdown",
   "metadata": {},
   "source": [
    "### Other Penalization"
   ]
  },
  {
   "cell_type": "code",
   "execution_count": 155,
   "metadata": {},
   "outputs": [],
   "source": [
    "def get_other_penalization_score (vehicle_type,engine_capacity,fuel_type,customer_age,crib_status):\n",
    "\n",
    "    if((vehicle_type == 'Car') & (engine_capacity == 'Above 2500 cc') & (fuel_type == 'Petrol')):\n",
    "        return -0.5\n",
    "    \n",
    "    elif((vehicle_type == 'Car') & (engine_capacity == '1600 cc - 2500 cc') & (fuel_type == 'Petrol')):\n",
    "        return -0.5\n",
    "    \n",
    "    elif((vehicle_type == 'Jeep') & (engine_capacity == 'Above 2500 cc') & (fuel_type == 'Petrol')):\n",
    "        return -0.5\n",
    "    \n",
    "    elif((customer_age > 60) & (crib_status == 'No Hit')):\n",
    "        return -0.3\n",
    "    \n",
    "    else:\n",
    "        return 0\n",
    "\n"
   ]
  },
  {
   "cell_type": "markdown",
   "metadata": {},
   "source": [
    "### Decision"
   ]
  },
  {
   "cell_type": "code",
   "execution_count": 156,
   "metadata": {},
   "outputs": [],
   "source": [
    "def get_decision (final_credit_score):\n",
    "    if(final_credit_score)>= 67.5:\n",
    "        return \"Green\"\n",
    "    elif(final_credit_score)>55:\n",
    "        return \"Yellow\"\n",
    "    else:\n",
    "        return \"Red\""
   ]
  },
  {
   "cell_type": "markdown",
   "metadata": {},
   "source": [
    "## Define Inputs"
   ]
  },
  {
   "cell_type": "code",
   "execution_count": 168,
   "metadata": {},
   "outputs": [],
   "source": [
    "## intial variables\n",
    "system_rentals = 10000\n",
    "commitments = 10000\n",
    "use_of_vehicle = 'Private'\n",
    "monthly_income_including_income_from_facility = 100000\n",
    "facility_purpose ='TOURISM'\n",
    "permanent_residence = 'With Billing Proof'\n",
    "condition = 'Registered'\n",
    "vehicle_type = 'Car'\n",
    "net_facility_value = 10000\n",
    "market_price = 1000000\n",
    "make_code = '001'\n",
    "yom = 2017\n",
    "crib_status ='Hit'\n",
    "crib_score = 56\n",
    "engine_cap = '1000 cc'\n",
    "fuel_type = 'Petrol'\n",
    "customer_age = 50\n",
    "\n",
    "## engineered varibles\n",
    "total_commitment = system_rentals + commitments\n",
    "make = get_the_make(make_code)\n",
    "exp = exporsure_cluster(net_facility_value, market_price)\n",
    "exporsure = f\"{condition} - {vehicle_type} - {exp}\"\n",
    "year_of_manufacture_cluster = yom_cluster(yom)\n",
    "asset = f\"{condition} - {vehicle_type} - {make} - {year_of_manufacture_cluster}\"\n",
    "engine_capacity_cluster = engine_capacity(engine_cap)\n",
    "\n"
   ]
  },
  {
   "cell_type": "code",
   "execution_count": 169,
   "metadata": {},
   "outputs": [
    {
     "data": {
      "text/plain": [
       "'1000cc - 1600cc'"
      ]
     },
     "execution_count": 169,
     "metadata": {},
     "output_type": "execute_result"
    }
   ],
   "source": [
    "engine_capacity_cluster"
   ]
  },
  {
   "cell_type": "code",
   "execution_count": 170,
   "metadata": {},
   "outputs": [
    {
     "data": {
      "text/plain": [
       "'Registered - Car - SUZUKI - 2015 and Newer Versions'"
      ]
     },
     "execution_count": 170,
     "metadata": {},
     "output_type": "execute_result"
    }
   ],
   "source": [
    "asset"
   ]
  },
  {
   "cell_type": "markdown",
   "metadata": {},
   "source": [
    "## Final credit Score "
   ]
  },
  {
   "cell_type": "code",
   "execution_count": 171,
   "metadata": {},
   "outputs": [],
   "source": [
    "## Getting DCSR Score\n",
    "dcsr_score = (\n",
    "    get_score_for_dcsr(total_commitment,monthly_income_including_income_from_facility)*0.05\n",
    "    )\n",
    "\n",
    "### Getting use vehicle criteria score\n",
    "use_of_vehicle_score = (\n",
    "    get_score_for_use_of_vehicle(use_of_vehicle)*0.05\n",
    "    )\n",
    "\n",
    "### Getting Facility purpose criteria score\n",
    "facility_purpose_score = (\n",
    "    get_score_for_facility_purpose(facility_purpose)*0.05\n",
    "    )\n",
    "\n",
    "## Getting Permanent Residence Criteria Score\n",
    "permanent_residence_score = (\n",
    "    get_score_for_permanent_residence (permanent_residence)*0.1\n",
    "    )\n",
    "\n",
    "### Getting Exporsure Criteria Score\n",
    "exporsure_score = (\n",
    "    get_score_for_exporsure(exporsure)*0.25\n",
    "    )\n",
    "\n",
    "### Getting asset criteria score\n",
    "asset_score = (\n",
    "    get_score_for_asset(asset)*0.2\n",
    "    )\n",
    "\n",
    "### getting final crib score\n",
    "final_crib_score = (\n",
    "    get_final_crib_score(\n",
    "        crib_status,\n",
    "        dcsr_score,\n",
    "        use_of_vehicle_score,\n",
    "        facility_purpose_score,\n",
    "        permanent_residence_score,\n",
    "        exporsure_score,\n",
    "        asset_score,crib_score)*0.3\n",
    "    )\n",
    "\n",
    "## Getting other penalization score\n",
    "other_penalization = (\n",
    "    get_other_penalization_score(\n",
    "        vehicle_type,\n",
    "        engine_capacity_cluster,\n",
    "        fuel_type,\n",
    "        customer_age,\n",
    "        crib_status)\n",
    "    )\n"
   ]
  },
  {
   "cell_type": "code",
   "execution_count": 172,
   "metadata": {},
   "outputs": [
    {
     "name": "stdout",
     "output_type": "stream",
     "text": [
      "dcsr_score : 0.05\n",
      "use_of_vehicle_score : 0.037500000000000006\n",
      "facility_purpose_score : 0.05\n",
      "permanent_residence_score  : 0.1\n",
      "exporsure_score  : 0.25\n",
      "asset_score  : 0.17\n",
      "final_crib_score  : 0.168\n",
      "other_penalization : 0\n",
      "Final Score: 82.55000000000001, Decision: Green\n"
     ]
    }
   ],
   "source": [
    "final_credit_score = (\n",
    "    dcsr_score + \n",
    "    use_of_vehicle_score +\n",
    "    facility_purpose_score +\n",
    "    permanent_residence_score +\n",
    "    exporsure_score +\n",
    "    asset_score +\n",
    "    final_crib_score +\n",
    "    other_penalization\n",
    "    )*100\n",
    "\n",
    "Decison  = get_decision(final_credit_score)\n",
    "\n",
    "print(\"dcsr_score : \" + str(dcsr_score))\n",
    "print(\"use_of_vehicle_score : \" + str(use_of_vehicle_score))\n",
    "print(\"facility_purpose_score : \" + str(facility_purpose_score))\n",
    "print(\"permanent_residence_score  : \" + str(permanent_residence_score ))\n",
    "print(\"exporsure_score  : \" + str(exporsure_score ))\n",
    "print(\"asset_score  : \" + str(asset_score ))\n",
    "print(\"final_crib_score  : \" + str(final_crib_score))\n",
    "print(\"other_penalization : \" + str(other_penalization))\n",
    "print(\"Final Score: \" + str(final_credit_score) + \", \" +  \"Decision: \" + str(Decison))"
   ]
  },
  {
   "cell_type": "code",
   "execution_count": null,
   "metadata": {},
   "outputs": [],
   "source": []
  }
 ],
 "metadata": {
  "kernelspec": {
   "display_name": "base",
   "language": "python",
   "name": "python3"
  },
  "language_info": {
   "codemirror_mode": {
    "name": "ipython",
    "version": 3
   },
   "file_extension": ".py",
   "mimetype": "text/x-python",
   "name": "python",
   "nbconvert_exporter": "python",
   "pygments_lexer": "ipython3",
   "version": "3.11.4"
  }
 },
 "nbformat": 4,
 "nbformat_minor": 2
}
